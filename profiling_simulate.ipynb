{
 "cells": [
  {
   "cell_type": "code",
   "execution_count": 9,
   "id": "b2b4786d",
   "metadata": {},
   "outputs": [],
   "source": [
    "import numpy as np\n",
    "\n",
    "import reactord as rd\n",
    "\n",
    "\"\"\"Fogler fourth ed. P1.15a as an initial value problem\"\"\"\n",
    "\n",
    "\n",
    "def volume(temperature, pressure):\n",
    "    return 1 / (fa_in / f_volumetric)\n",
    "\n",
    "\n",
    "def kinetic(concentrations, temperature):\n",
    "    return k\n",
    "\n",
    "\n",
    "# Fogler's exact solution\n",
    "\n",
    "\n",
    "def fogler(vol):\n",
    "    concentration = (fa_in / f_volumetric) - vol * k / f_volumetric\n",
    "\n",
    "    return concentration\n",
    "\n",
    "\n",
    "fa_in = 5 / 3600  # mol/s\n",
    "\n",
    "f_volumetric = 10 * 0.001 / 60  # m3/s\n",
    "\n",
    "k = 0.05 / 3600 / 0.001  # mol/s/m3\n",
    "\n",
    "v_pfr = 99 * 0.001  # m3\n",
    "\n",
    "substance_a = rd.Substance(name=\"A\")\n",
    "substance_a.volume_liquid = volume\n",
    "\n",
    "substance_b = rd.Substance(name=\"B\")\n",
    "substance_b.volume_liquid = volume\n",
    "\n",
    "mixture = rd.mix.IdealSolution(A=substance_a, B=substance_b)\n",
    "\n",
    "pfr = rd.idealreactor.StationaryPFR.set_isothermic_isobaric(\n",
    "    mix=mixture,\n",
    "    list_of_reactions=[kinetic],\n",
    "    stoichiometry=[-1, 1],\n",
    "    kinetic_argument=\"concentration\",\n",
    "    reactor_dim_minmax=[0, v_pfr],\n",
    "    transversal_area=1,\n",
    "    isothermic_temperature=298.15,\n",
    "    isobaric_pressure=101325,\n",
    "    molar_flow_in={\"A\": fa_in, \"B\": 0},\n",
    ")\n"
   ]
  },
  {
   "cell_type": "code",
   "execution_count": 10,
   "id": "ccabac07",
   "metadata": {},
   "outputs": [
    {
     "name": "stdout",
     "output_type": "stream",
     "text": [
      "46 ms ± 597 µs per loop (mean ± std. dev. of 7 runs, 10 loops each)\n"
     ]
    }
   ],
   "source": [
    "%%timeit\n",
    "solution = pfr.simulate(grid_size=100)"
   ]
  },
  {
   "cell_type": "code",
   "execution_count": 11,
   "id": "c7915f44",
   "metadata": {},
   "outputs": [],
   "source": [
    "# %%timeit\n",
    "# reactord solution\n",
    "fogler_concentrations = np.array([])\n",
    "\n",
    "reactord_concentrations = np.array([])\n",
    "\n",
    "# Comparisson\n",
    "\n",
    "for i, v in enumerate(solution.x):\n",
    "    reactord_concentrations = np.append(\n",
    "        reactord_concentrations,\n",
    "        mixture.concentrations(solution.y[0:2, i], 298.15, 101325)[0],\n",
    "    )\n",
    "\n",
    "    fogler_concentrations = np.append(fogler_concentrations, fogler(v))\n",
    "\n",
    "assert np.allclose(reactord_concentrations, fogler_concentrations)"
   ]
  }
 ],
 "metadata": {
  "kernelspec": {
   "display_name": "Python 3.10.6 ('reactord')",
   "language": "python",
   "name": "python3"
  },
  "language_info": {
   "codemirror_mode": {
    "name": "ipython",
    "version": 3
   },
   "file_extension": ".py",
   "mimetype": "text/x-python",
   "name": "python",
   "nbconvert_exporter": "python",
   "pygments_lexer": "ipython3",
   "version": "3.10.6"
  },
  "vscode": {
   "interpreter": {
    "hash": "44eb91f73ea2661bbbecc9f77111c56822635f905b8a2c5d2c14405903be0d49"
   }
  }
 },
 "nbformat": 4,
 "nbformat_minor": 5
}
