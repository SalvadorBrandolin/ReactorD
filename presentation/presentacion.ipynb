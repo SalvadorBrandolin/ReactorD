{
 "cells": [
  {
   "cell_type": "markdown",
   "metadata": {
    "slideshow": {
     "slide_type": "slide"
    }
   },
   "source": [
    "### <p style=\"text-align: center;\">Facultad de Matemática, Física, Astronomía y Computación</p>\n",
    "### <p style=\"text-align: center;\">Universidad Nacional de Córdoba</p>\n",
    "\n",
    "#### <p style=\"text-align: center;\">Curso de Posgrado</p>\n",
    "\n",
    "#  <p style=\"text-align: center;\">Diseño de Software para Cómputo Científico</p>\n",
    "\n",
    "----\n",
    "\n",
    "### <p style=\"text-align: center;\">Presentación Trabajo Final</p>"
   ]
  },
  {
   "cell_type": "markdown",
   "metadata": {
    "slideshow": {
     "slide_type": "slide"
    }
   },
   "source": [
    "## ReactorD: Diseño y Simulación de Reactores Químicos\n",
    "---\n",
    "**Alumnos:** \n",
    " - Salvador Brandolin\n",
    " - Adrian Parodi\n",
    " - Maricel Santos\n",
    " - José Scilipoti\n",
    " - Juan Pablo Rovezzi\n",
    "\n",
    "**Profesores:**\n",
    " - Juan Bautista Cabral\n",
    " - Federico Benelli"
   ]
  },
  {
   "cell_type": "markdown",
   "metadata": {
    "slideshow": {
     "slide_type": "slide"
    }
   },
   "source": [
    "### Estructura de la presentación\n",
    "---\n",
    "- Introducción\n",
    "- Modelos\n",
    "  - Reactores Continuos Ideales\n",
    "    - Reactor de Flujo Pistón\n",
    "- Arquitectura e implementación del paquete\n",
    "    - Desarrollo\n",
    "    - Testing\n",
    "    - Integración Continua\n",
    "- Ejemplo de uso\n",
    "- Conclusiones y perpectivas a futuro"
   ]
  },
  {
   "cell_type": "markdown",
   "metadata": {
    "slideshow": {
     "slide_type": "slide"
    }
   },
   "source": [
    "### Introducción\n",
    "\n",
    "La ingenierıa de las reacciones representa la base de la produccion de casi todos los productos quımicos industriales. \n",
    "\n",
    "El diseño de un reactor interrelaciona diversos fenómenos físicos y químicos:\n",
    "\n",
    "-Transferencia de masa, calor y cantidad de movimiento.\n",
    "\n",
    "-Cinéticas y mecánismos de reacción.\n",
    "\n",
    "<img \n",
    "    style=\"display: block; \n",
    "           margin-left: auto;\n",
    "           margin-right: auto;\n",
    "           width: 300;\n",
    "           height: 200\"\n",
    "    src=\"python_fogler.jpeg\" \n",
    "    alt=\"Python-Fogler\">\n",
    "</img>\n"
   ]
  },
  {
   "cell_type": "markdown",
   "metadata": {
    "slideshow": {
     "slide_type": "slide"
    }
   },
   "source": [
    "### Modelos\n",
    "\n",
    "Ecuaciones principales: balance molar y balance de energía. \n",
    "Ambos se basan en el concepto de volumen de control, a través del cual se producen flujos de entrada y salida. \n",
    "Además, dentro del reactor se producen una o más reacciones químicas por lo que algunas sustancias se consumen, mientras que otras se generan.\n",
    "\n",
    "<img \n",
    "    style=\"display: block; \n",
    "           margin-left: auto;\n",
    "           margin-right: auto;\n",
    "           width: 30%;\"\n",
    "    src=\"balance.png\" \n",
    "    alt=\"Balance\">\n",
    "</img>\n",
    "\n",
    "<p style=\"text-align: center;\">Entrada  -  Salida + Generacion  = Acumulación</p>\n",
    "\n",
    "$$ F_{j0}  -  F_{j}  +  G_j  =   \\frac{dN_j} {dt}  $$"
   ]
  },
  {
   "cell_type": "markdown",
   "metadata": {
    "slideshow": {
     "slide_type": "slide"
    }
   },
   "source": [
    "#### Modelado de Reactores Continuos Ideales\n",
    "\n",
    "**Masa**\n",
    "\n",
    "$$ F_{j0}  -  F_{j}  + \\int ^{V}  {r_j dV}  =   \\frac{dN_j} {dt} $$\n",
    "\n",
    "**Energía**\n",
    "\n",
    "$$ \\dot{Q}  -  \\dot{W}_{s}  + \\sum_{j=1}^n  F_{j0}H_{j0}- \\sum_{j=1}^n  F_{j}H_{j}=   \\frac{d\\hat{E}_{sistema}} {dt} $$"
   ]
  },
  {
   "cell_type": "markdown",
   "metadata": {
    "slideshow": {
     "slide_type": "slide"
    }
   },
   "source": [
    "#### Reactor Flujo Pistón (PFR)\n",
    "\n",
    "<img \n",
    "    style=\"display: block; \n",
    "           margin-left: auto;\n",
    "           margin-right: auto;\n",
    "           width: 30%;\"\n",
    "    src=\"PFR.jpg\" \n",
    "    alt=\"PFR\">\n",
    "</img>"
   ]
  },
  {
   "cell_type": "markdown",
   "metadata": {
    "slideshow": {
     "slide_type": "slide"
    }
   },
   "source": [
    "Por otro lado, de acuerdo a los requerimientos la operación de los reactores puede variar según:  \n",
    "\n",
    "- Balance de Masa:\n",
    "\t- Homogeneo\n",
    "    - Heterogeneo\n",
    "    - Continuo\n",
    "    - Discontinuo\n",
    "- Balance de Energia:\n",
    "\t- Isotermico\n",
    "    - No isotermico\n",
    "    - Adiabatico\n",
    "- Balance de Presión:\n",
    "\t- Isobarico\n",
    "    - No isobarico\n"
   ]
  },
  {
   "cell_type": "markdown",
   "metadata": {
    "slideshow": {
     "slide_type": "slide"
    }
   },
   "source": [
    "#### Operacion Continua Homogenea Isotermica Isobarica\n",
    "\n",
    "$$ \\frac{dF_{j}}{dV} = r_{j} $$\n",
    "\n",
    "#### Operacion Continua Homogenea Adiabatica Isobarica\n",
    "\n",
    "$$ \\frac{dT}{dV} = \\frac{Ua(T_{a}-T)+\\sum r_{ji}\\\\\\Delta H_{Ri} }{\\sum F_{j} {C_p}_j } $$\n",
    "\n",
    "#### Operacion Continua Homogenea Isotermica No Isobarica\n",
    "\n",
    "$$ \\frac{dP}{dz} = - \\frac{G}{{\\rho}{g}{D_{p}}}(\\frac{1-\\phi}{\\phi^3})[\\frac{{150}({1-\\phi})\\mu}{D_{p}}+1.75{G}] $$"
   ]
  },
  {
   "cell_type": "markdown",
   "metadata": {
    "slideshow": {
     "slide_type": "slide"
    }
   },
   "source": [
    "## Arquitectura e implementación\n",
    "\n",
    "<img \n",
    "    style=\"display: block; \n",
    "           margin-left: auto;\n",
    "           margin-right: auto;\n",
    "           width: 30%;\"\n",
    "    src=\"arquitectura.PNG\" \n",
    "    alt=\"arquitectura\">\n",
    "</img>"
   ]
  },
  {
   "cell_type": "markdown",
   "metadata": {
    "slideshow": {
     "slide_type": "slide"
    }
   },
   "source": [
    "### Testing"
   ]
  },
  {
   "cell_type": "markdown",
   "metadata": {
    "slideshow": {
     "slide_type": "slide"
    }
   },
   "source": [
    "### Integración Continua"
   ]
  }
 ],
 "metadata": {
  "celltoolbar": "Slideshow",
  "kernelspec": {
   "display_name": "Python 3 (ipykernel)",
   "language": "python",
   "name": "python3"
  },
  "language_info": {
   "codemirror_mode": {
    "name": "ipython",
    "version": 3
   },
   "file_extension": ".py",
   "mimetype": "text/x-python",
   "name": "python",
   "nbconvert_exporter": "python",
   "pygments_lexer": "ipython3",
   "version": "3.10.6"
  },
  "vscode": {
   "interpreter": {
    "hash": "32c67f4c963949a7fe70ff718e2227e313500f4b2abdd00c87839288217969e2"
   }
  }
 },
 "nbformat": 4,
 "nbformat_minor": 2
}
