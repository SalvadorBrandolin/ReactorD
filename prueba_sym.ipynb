{
 "cells": [
  {
   "cell_type": "code",
   "execution_count": 1,
   "metadata": {},
   "outputs": [],
   "source": [
    "import reactord as rd\n",
    "\n",
    "import sympy as sp\n",
    "\n",
    "from IPython.display import display, Math"
   ]
  },
  {
   "cell_type": "code",
   "execution_count": 2,
   "metadata": {},
   "outputs": [],
   "source": [
    "c2h6 = rd.Substance.from_thermo_database(\"A\", \"ethane\")\n",
    "h2 = rd.Substance.from_thermo_database(\"B\", \"hydrogen\")\n",
    "ch4 = rd.Substance.from_thermo_database(\"C\", \"methane\")"
   ]
  },
  {
   "cell_type": "code",
   "execution_count": 3,
   "metadata": {},
   "outputs": [
    {
     "name": "stdout",
     "output_type": "stream",
     "text": [
      "> \u001b[0;32m/home/salvador/ReactorD/reactord/substance/symbolic.py\u001b[0m(103)\u001b[0;36m__eq__\u001b[0;34m()\u001b[0m\n",
      "\u001b[0;32m    102 \u001b[0;31m        \u001b[0mipdb\u001b[0m\u001b[0;34m.\u001b[0m\u001b[0mset_trace\u001b[0m\u001b[0;34m(\u001b[0m\u001b[0;34m)\u001b[0m\u001b[0;34m\u001b[0m\u001b[0;34m\u001b[0m\u001b[0m\n",
      "\u001b[0m\u001b[0;32m--> 103 \u001b[0;31m        new_sym = Symbolic(\n",
      "\u001b[0m\u001b[0;32m    104 \u001b[0;31m            \u001b[0mnames\u001b[0m\u001b[0;34m=\u001b[0m\u001b[0mnp\u001b[0m\u001b[0;34m.\u001b[0m\u001b[0mappend\u001b[0m\u001b[0;34m(\u001b[0m\u001b[0mself\u001b[0m\u001b[0;34m.\u001b[0m\u001b[0m_names\u001b[0m\u001b[0;34m,\u001b[0m \u001b[0mother_sym\u001b[0m\u001b[0;34m.\u001b[0m\u001b[0m_names\u001b[0m\u001b[0;34m)\u001b[0m\u001b[0;34m,\u001b[0m\u001b[0;34m\u001b[0m\u001b[0;34m\u001b[0m\u001b[0m\n",
      "\u001b[0m\n",
      "*** AttributeError: 'Substance' object has no attribute '_chem_expression'\n",
      "*** AttributeError: 'Substance' object has no attribute '_chem_expression'\n",
      "*** AttributeError: 'Substance' object has no attribute '_chem_expression'\n",
      "*** AttributeError: 'Substance' object has no attribute '_chem_expression'\n",
      "*** AttributeError: 'Substance' object has no attribute '_chem_expression'\n",
      "*** AttributeError: 'Substance' object has no attribute '_chem_expression'\n",
      "*** AttributeError: 'Substance' object has no attribute '_chem_expression'\n",
      "*** AttributeError: 'Substance' object has no attribute '_chem_expression'\n",
      "*** AttributeError: 'Substance' object has no attribute '_chem_expression'\n",
      "*** AttributeError: 'Substance' object has no attribute '_chem_expression'\n",
      "*** AttributeError: 'Substance' object has no attribute '_chem_expression'\n",
      "*** AttributeError: 'Substance' object has no attribute '_chem_expression'\n",
      "*** AttributeError: 'Substance' object has no attribute '_chem_expression'\n",
      "*** AttributeError: 'Substance' object has no attribute '_chem_expression'\n",
      "*** AttributeError: 'Substance' object has no attribute '_chem_expression'\n",
      "*** AttributeError: 'Substance' object has no attribute '_chem_expression'\n"
     ]
    }
   ],
   "source": [
    "expr1 = c2h6 + h2 == ch4\n",
    "expr2 = ch4"
   ]
  },
  {
   "cell_type": "code",
   "execution_count": 24,
   "metadata": {},
   "outputs": [
    {
     "data": {
      "text/plain": [
       "'x \\rightarrow 5'"
      ]
     },
     "execution_count": 24,
     "metadata": {},
     "output_type": "execute_result"
    }
   ],
   "source": [
    "x = sp.var(\"x\")\n",
    "\n",
    "eq = sp.Eq(x, 5)\n",
    "\n",
    "sp.latex(eq).replace(\"=\", \"\\rightarrow\")"
   ]
  }
 ],
 "metadata": {
  "kernelspec": {
   "display_name": "reactord",
   "language": "python",
   "name": "python3"
  },
  "language_info": {
   "codemirror_mode": {
    "name": "ipython",
    "version": 3
   },
   "file_extension": ".py",
   "mimetype": "text/x-python",
   "name": "python",
   "nbconvert_exporter": "python",
   "pygments_lexer": "ipython3",
   "version": "3.10.6"
  },
  "orig_nbformat": 4
 },
 "nbformat": 4,
 "nbformat_minor": 2
}
