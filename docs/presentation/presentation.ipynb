{
 "cells": [
  {
   "cell_type": "markdown",
   "metadata": {
    "slideshow": {
     "slide_type": "slide"
    }
   },
   "source": [
    "### <p style=\"text-align: center;\">Facultad de Matemática, Física, Astronomía y Computación</p>\n",
    "### <p style=\"text-align: center;\">Universidad Nacional de Córdoba</p>\n",
    "\n",
    "#### <p style=\"text-align: center;\">Curso de Posgrado</p>\n",
    "\n",
    "#  <p style=\"text-align: center;\">Diseño de Software para Cómputo Científico</p>\n",
    "\n",
    "----\n",
    "\n",
    "### <p style=\"text-align: center;\">Presentación Trabajo Final</p>"
   ]
  },
  {
   "cell_type": "markdown",
   "metadata": {
    "slideshow": {
     "slide_type": "slide"
    }
   },
   "source": [
    "## ReactorD: Diseño y Simulación de Reactores Químicos\n",
    "---\n",
    "**Alumnos:** \n",
    " - Salvador Brandolin\n",
    " - Adrian Parodi\n",
    " - Maricel Santos\n",
    "\n",
    "**Profesores:**\n",
    " - Juan Bautista Cabral\n",
    " - Federico Benelli"
   ]
  },
  {
   "cell_type": "markdown",
   "metadata": {
    "slideshow": {
     "slide_type": "slide"
    }
   },
   "source": [
    "### Estructura de la presentación\n",
    "---\n",
    "- Introducción\n",
    "- Modelos\n",
    "  - Reactores Continuos Ideales\n",
    "    - Reactor de Flujo Pistón\n",
    "- Arquitectura e implementación del paquete\n",
    "    - Desarrollo\n",
    "    - Testing\n",
    "    - Integración Continua\n",
    "- Ejemplo de uso\n",
    "- Conclusiones y perpectivas a futuro"
   ]
  },
  {
   "cell_type": "markdown",
   "metadata": {
    "slideshow": {
     "slide_type": "slide"
    }
   },
   "source": [
    "### Introducción\n",
    "\n",
    "La ingenierıa de las reacciones representa la base de la produccion de casi todos los productos quımicos industriales. \n",
    "\n",
    "El diseño de un reactor interrelaciona diversos fenómenos físicos y químicos:\n",
    "\n",
    "-Transferencia de masa, calor y cantidad de movimiento.\n",
    "\n",
    "-Cinéticas y mecánismos de reacción.\n",
    "\n",
    "<img \n",
    "    style=\"display: block; \n",
    "           margin-left: auto;\n",
    "           margin-right: auto;\n",
    "           width: 200;\n",
    "           height: 300\"\n",
    "    src=\"python_fogler.png\" \n",
    "    alt=\"Python-Fogler\">\n",
    "</img>\n"
   ]
  },
  {
   "cell_type": "markdown",
   "metadata": {
    "slideshow": {
     "slide_type": "slide"
    }
   },
   "source": [
    "### Modelos\n",
    "\n",
    "Ecuaciones principales: balance molar y balance de energía. \n",
    "Ambos se basan en el concepto de volumen de control, a través del cual se producen flujos de entrada y salida. \n",
    "Además, dentro del reactor se producen una o más reacciones químicas por lo que algunas sustancias se consumen, mientras que otras se generan.\n",
    "\n",
    "<img \n",
    "    style=\"display: block; \n",
    "           margin-left: auto;\n",
    "           margin-right: auto;\n",
    "           width: 30%;\"\n",
    "    src=\"balance.png\" \n",
    "    alt=\"Balance\">\n",
    "</img>\n",
    "\n",
    "<p style=\"text-align: center;\">Entrada  -  Salida + Generacion  = Acumulación</p>\n",
    "\n",
    "$$ F_{j0}  -  F_{j}  +  G_j  =   \\frac{dN_j} {dt}  $$"
   ]
  },
  {
   "cell_type": "markdown",
   "metadata": {
    "slideshow": {
     "slide_type": "slide"
    }
   },
   "source": [
    "#### Modelado de Reactores Continuos Ideales\n",
    "\n",
    "**Masa**\n",
    "\n",
    "$$ F_{j0}  -  F_{j}  + \\int ^{V}  {r_j dV}  =   \\frac{dN_j} {dt} $$\n",
    "\n",
    "**Energía**\n",
    "\n",
    "$$ \\dot{Q}  -  \\dot{W}_{s}  + \\sum_{j=1}^n  F_{j0}H_{j0}- \\sum_{j=1}^n  F_{j}H_{j}=   \\frac{d\\hat{E}_{sistema}} {dt} $$"
   ]
  },
  {
   "cell_type": "markdown",
   "metadata": {
    "slideshow": {
     "slide_type": "slide"
    }
   },
   "source": [
    "#### Reactor Flujo Pistón (PFR)\n",
    "\n",
    "<img \n",
    "    style=\"display: block; \n",
    "           margin-left: auto;\n",
    "           margin-right: auto;\n",
    "           width: 30%;\"\n",
    "    src=\"PFR.png\" \n",
    "    alt=\"PFR\">\n",
    "</img>"
   ]
  },
  {
   "cell_type": "markdown",
   "metadata": {
    "slideshow": {
     "slide_type": "slide"
    }
   },
   "source": [
    "Por otro lado, de acuerdo a los requerimientos la operación de los reactores puede variar según:  \n",
    "\n",
    "- Balance de Masa:\n",
    "\t- Homogeneo\n",
    "    - Heterogeneo\n",
    "    - Continuo\n",
    "    - Discontinuo\n",
    "- Balance de Energia:\n",
    "\t- Isotermico\n",
    "    - No isotermico\n",
    "    - Adiabatico\n",
    "- Balance de Presión:\n",
    "\t- Isobarico\n",
    "    - No isobarico\n"
   ]
  },
  {
   "cell_type": "markdown",
   "metadata": {
    "slideshow": {
     "slide_type": "slide"
    }
   },
   "source": [
    "#### Operacion Continua Homogenea Isotermica Isobarica\n",
    "\n",
    "$$ \\frac{dF_{j}}{dV} = r_{j} $$\n",
    "\n",
    "#### Operacion Continua Homogenea Adiabatica Isobarica\n",
    "\n",
    "$$ \\frac{dT}{dV} = \\frac{\\sum r_{ji}\\\\\\Delta H_{Ri} }{\\sum F_{j} {C_p}_j } $$\n",
    "\n",
    "#### Operacion Continua Homogenea Isotermica No Isobarica\n",
    "\n",
    "$$ \\frac{dP}{dz} = - \\frac{G}{{\\rho}{g}{D_{p}}}(\\frac{1-\\phi}{\\phi^3})[\\frac{{150}({1-\\phi})\\mu}{D_{p}}+1.75{G}] $$"
   ]
  },
  {
   "cell_type": "markdown",
   "metadata": {
    "slideshow": {
     "slide_type": "slide"
    }
   },
   "source": [
    "## Arquitectura e implementación\n",
    "\n",
    "<img \n",
    "    style=\"display: block; \n",
    "           margin-left: auto;\n",
    "           margin-right: auto;\n",
    "           width: 30%;\"\n",
    "    src=\"arquitectura.PNG\" \n",
    "    alt=\"arquitectura\">\n",
    "</img>"
   ]
  },
  {
   "cell_type": "markdown",
   "metadata": {
    "slideshow": {
     "slide_type": "slide"
    }
   },
   "source": [
    "Un reactor puede ser operado en variedad de condiciones lo que afecta el modelo matemático que lo describe. Además, ReactorD  permite encontrar soluciones para problemas de valor inicial y/o borde segun los datos iniciales que provea el usuario. \n",
    "Esto produce un problema con alto grado de acoplamiento. Por lo cual, se utilizó el patron \"Strategy\"  \n",
    "\n",
    "Librerias utilizadas: \n",
    "- SciPy: ecuaciones algebraicas y diferenciales ordinarias\n",
    "- py-pde: ecuaciones diferenciales parciales. \n",
    "- Thermo: constantes y correlaciones para propiedades de una amplia base de datos de sustancias. \n",
    "\n",
    "Input necesarios: \n",
    "- Reactantes, productos e inertes que participan de cada reaccion. \n",
    "- Cinetica de cada reaccion. (Constantes y orden)\n",
    "\n",
    "El usuario tambien tiene la posibilidad de generar la sustancia con los datos y correlaciones correspondientes con la posibilidad de guardar estos objetos como archivos utilizando la herramienta pickle"
   ]
  },
  {
   "cell_type": "markdown",
   "metadata": {
    "slideshow": {
     "slide_type": "slide"
    }
   },
   "source": [
    "### Testing\n",
    "\n",
    "- Cantidad de test actualmente: 126\n",
    "\n",
    "- Coverage alcanzado: 97%\n",
    "\n",
    "- Principal estrategia: comparacion con ejemplos resueltos del libro \n",
    "\"Elementos de ingenería de las reacciones químicas\", Fogler 2008. para cada tipo de operacion y para diferentes condiciones iniciales y de borde.\n"
   ]
  },
  {
   "cell_type": "markdown",
   "metadata": {
    "slideshow": {
     "slide_type": "slide"
    }
   },
   "source": [
    "### Integración Continua\n",
    "\n",
    "- Repositorio disponible: https://github.com/SalvadorBrandolin/reactord\n",
    "- Se aplican los tests mediante GitHub Actions en cada push. \n",
    "- Licencia: MIT"
   ]
  },
  {
   "cell_type": "markdown",
   "metadata": {
    "slideshow": {
     "slide_type": "slide"
    }
   },
   "source": [
    "### Tutorial de uso\n",
    "\n",
    "<img \n",
    "    style=\"display: block; \n",
    "           margin-left: auto;\n",
    "           margin-right: auto;\n",
    "           width: 50%;\"\n",
    "    src=\"isomeros_reaccion.png\" \n",
    "    alt=\"arquitectura\">\n",
    "</img>\n",
    "\n",
    "La reacción puede ser modelada como:\n",
    "\n",
    "$$A \\rightarrow B$$"
   ]
  },
  {
   "cell_type": "markdown",
   "metadata": {
    "slideshow": {
     "slide_type": "slide"
    }
   },
   "source": [
    "Se considera que:\n",
    "- La reacción se lleva a cabo en fase líquida en un ractor de flujo pistón \n",
    "a 298.15 K y 101325 Pa.\n",
    "\n",
    "- El reactivo A ingresa puro al reactor con un flujo molar de 5mol/h.  \n",
    "\n",
    "- La ley de velocidad de la reacción:\n",
    "\n",
    "$$r_{A} = k C_{A}$$\n",
    "\n",
    "con $k$ = $0.00001 s^{−1}$  \n",
    "Siendo $C_{A}$ la concentración de cis-2-buteno en $\\frac{mol}{m³}$\n",
    "\n",
    "- El volumen del reactor es de 99 litros.\n",
    "- La mezcla reactiva puede modelarse como una solución ideal."
   ]
  },
  {
   "cell_type": "code",
   "execution_count": 1,
   "metadata": {
    "slideshow": {
     "slide_type": "slide"
    }
   },
   "outputs": [],
   "source": [
    "import matplotlib.pyplot as plt\n",
    "import reactord as rd"
   ]
  },
  {
   "cell_type": "markdown",
   "metadata": {
    "slideshow": {
     "slide_type": "slide"
    }
   },
   "source": [
    "__Búsqueda de las sustancias en la base de datos__"
   ]
  },
  {
   "cell_type": "code",
   "execution_count": 2,
   "metadata": {
    "slideshow": {
     "slide_type": "slide"
    }
   },
   "outputs": [],
   "source": [
    "A = rd.Substance.from_thermo_database(\"cis-2-butene\")\n",
    "B = rd.Substance.from_thermo_database(\"trans-2-butene\")"
   ]
  },
  {
   "cell_type": "markdown",
   "metadata": {
    "slideshow": {
     "slide_type": "slide"
    }
   },
   "source": [
    "__Se selecciona a IdealSolution para modelar la mezcla reactiva__"
   ]
  },
  {
   "cell_type": "code",
   "execution_count": 3,
   "metadata": {
    "slideshow": {
     "slide_type": "slide"
    }
   },
   "outputs": [],
   "source": [
    "mixture = rd.mix.IdealSolution(A=A, B=B)"
   ]
  },
  {
   "cell_type": "markdown",
   "metadata": {
    "slideshow": {
     "slide_type": "slide"
    }
   },
   "source": [
    "__Definición de la ley cinética y datos del reactor__"
   ]
  },
  {
   "cell_type": "code",
   "execution_count": 4,
   "metadata": {
    "slideshow": {
     "slide_type": "slide"
    }
   },
   "outputs": [],
   "source": [
    "def kinetic_law(concentrations, temperature):\n",
    "    k = 0.00001\n",
    "    return k * concentrations[0]\n",
    "\n",
    "\n",
    "fa_in = 5 / 3600  # mol/s\n",
    "reactor_volume = 99 * 0.001  # m3"
   ]
  },
  {
   "cell_type": "markdown",
   "metadata": {
    "slideshow": {
     "slide_type": "slide"
    }
   },
   "source": [
    "__Instanciamos el reactor PFR__"
   ]
  },
  {
   "cell_type": "code",
   "execution_count": 5,
   "metadata": {
    "slideshow": {
     "slide_type": "slide"
    }
   },
   "outputs": [],
   "source": [
    "pfr = rd.idealreactor.StationaryPFR.from_isothermic_isobaric(\n",
    "    mix=mixture,\n",
    "    list_of_reactions=[kinetic_law],\n",
    "    stoichiometry=[-1, 1],\n",
    "    kinetic_argument=\"concentration\",\n",
    "    reactor_dim_minmax=[0, reactor_volume],\n",
    "    transversal_area=1,\n",
    "    isothermic_temperature=298.15,\n",
    "    isobaric_pressure=101325,\n",
    "    molar_flow_in={\"cis-2-butene\": fa_in, \"trans-2-butene\": 0},\n",
    ")"
   ]
  },
  {
   "cell_type": "markdown",
   "metadata": {
    "slideshow": {
     "slide_type": "slide"
    }
   },
   "source": [
    "__Simulación del reactor__"
   ]
  },
  {
   "cell_type": "code",
   "execution_count": 6,
   "metadata": {
    "slideshow": {
     "slide_type": "slide"
    }
   },
   "outputs": [],
   "source": [
    "solution = pfr.simulate(\n",
    "    grid_size=100,\n",
    "    tol=1e-4,\n",
    "    max_nodes=1000,\n",
    "    verbose=0,\n",
    ")"
   ]
  },
  {
   "cell_type": "markdown",
   "metadata": {
    "slideshow": {
     "slide_type": "slide"
    }
   },
   "source": [
    "__Análisis de resultados__"
   ]
  },
  {
   "cell_type": "code",
   "execution_count": 7,
   "metadata": {
    "slideshow": {
     "slide_type": "slide"
    }
   },
   "outputs": [
    {
     "data": {
      "image/png": "[encoded data removed]",
      "text/plain": [
       "<Figure size 640x480 with 1 Axes>"
      ]
     },
     "metadata": {},
     "output_type": "display_data"
    }
   ],
   "source": [
    "reactor_length = solution.x\n",
    "dependent_variables = solution.y\n",
    "\n",
    "# PLoting\n",
    "fig1, ax1 = plt.subplots(1)\n",
    "ax1.plot(\n",
    "    reactor_length,\n",
    "    dependent_variables[0],\n",
    "    \"-r\",\n",
    "    label=\"cis-2-butene\",\n",
    "    linewidth=3,\n",
    ")\n",
    "ax1.plot(\n",
    "    reactor_length,\n",
    "    dependent_variables[1],\n",
    "    \"-g\",\n",
    "    label=\"trans-2-butene\",\n",
    "    linewidth=3,\n",
    ")\n",
    "ax1.set_xlabel(r\"Reactor volume [$m^{3}$]\", fontsize=10)\n",
    "ax1.set_ylabel(\"molar fluxes [mol/s]\", fontsize=10)\n",
    "\n",
    "ax1.legend()\n",
    "plt.show()"
   ]
  },
  {
   "cell_type": "markdown",
   "metadata": {
    "slideshow": {
     "slide_type": "slide"
    }
   },
   "source": [
    "__Operaciones admitidas__"
   ]
  },
  {
   "cell_type": "markdown",
   "metadata": {
    "slideshow": {
     "slide_type": "slide"
    }
   },
   "source": [
    "```python\n",
    "rd.idealreactor.StationaryPFR.from_isothermic_isobaric()\n",
    "rd.idealreactor.StationaryPFR.from_isothermic_noisobaric()\n",
    "rd.idealreactor.StationaryPFR.from_adiabatic_isobaric()\n",
    "rd.idealreactor.StationaryPFR.from_adiabatic_noisobaric()\n",
    "```"
   ]
  },
  {
   "cell_type": "markdown",
   "metadata": {
    "slideshow": {
     "slide_type": "slide"
    }
   },
   "source": [
    "### Perspectivas a Futuro\n",
    "\n",
    "- Ampliar el tipo de operaciones para PFR\n",
    "- Agregar reactor tipo mezcla perfecta\n",
    "- Ampliar resolucion de reactores heterogeneos"
   ]
  },
  {
   "cell_type": "markdown",
   "metadata": {
    "slideshow": {
     "slide_type": "slide"
    }
   },
   "source": [
    "#  <p style=\"text-align: center;\">¡Gracias por la atención!</p>\n",
    "\n",
    "###  <p style=\"text-align: center;\">¿Preguntas?</p>"
   ]
  }
 ],
 "metadata": {
  "celltoolbar": "Slideshow",
  "kernelspec": {
   "display_name": "Python 3 (ipykernel)",
   "language": "python",
   "name": "python3"
  },
  "language_info": {
   "codemirror_mode": {
    "name": "ipython",
    "version": 3
   },
   "file_extension": ".py",
   "mimetype": "text/x-python",
   "name": "python",
   "nbconvert_exporter": "python",
   "pygments_lexer": "ipython3",
   "version": "3.10.6"
  },
  "vscode": {
   "interpreter": {
    "hash": "44eb91f73ea2661bbbecc9f77111c56822635f905b8a2c5d2c14405903be0d49"
   }
  }
 },
 "nbformat": 4,
 "nbformat_minor": 2
}
