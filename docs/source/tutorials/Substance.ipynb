{
 "cells": [
  {
   "cell_type": "markdown",
   "id": "2f71428b",
   "metadata": {},
   "source": [
    "## Substance objects\n",
    "\n",
    "Substance objects are the heart of ReactorD library. Each reagent, product and inert of the reactive systems, must be individually represented by a Substance object.\n",
    "\n",
    "For this tutorial, import ReactorD, numpy and matplotlib.pyplot"
   ]
  },
  {
   "cell_type": "code",
   "execution_count": 5,
   "id": "ba50737b",
   "metadata": {},
   "outputs": [],
   "source": [
    "import numpy as np\n",
    "\n",
    "import matplotlib.pyplot as plt\n",
    "\n",
    "import reactord as rd"
   ]
  },
  {
   "cell_type": "markdown",
   "id": "fc73c599",
   "metadata": {},
   "source": [
    "A fully defined Substance contains a lot of information that may not be available or may not be necessary for the reactive system that will be simulated. The minimum necessary information for each substance will be specified on each mixture and each reactor.. The complete signature for the Substance objects is:\n",
    "\n",
    "```python\n",
    "rd.Substance(  \n",
    "    name: str = None,  \n",
    "    molecular_weight: float = None,  \n",
    "    normal_boiling_point: float = None,  \n",
    "    normal_melting_point: float = None,  \n",
    "    critical_temperature: float = None,  \n",
    "    critical_pressure: float = None,  \n",
    "    acentric_factor: float = None,  \n",
    "    formation_enthalpy: float = None,  \n",
    "    formation_enthalpy_ig: float = None,  \n",
    "    formation_gibbs: float = None,  \n",
    "    formation_gibbs_ig: float = None,  \n",
    "    vaporization_enthalpy_t: Callable = None,  \n",
    "    sublimation_enthalpy_t: Callable = None,  \n",
    "    volume_solid_t: Callable = None,  \n",
    "    volume_liquid_tp: Callable = None,  \n",
    "    volume_gas_tp: Callable = None,  \n",
    "    heat_capacity_solid_t: Callable = None,  \n",
    "    heat_capacity_liquid_t: Callable = None,  \n",
    "    heat_capacity_gas_t: Callable = None,  \n",
    "    thermal_conductivity_liquid_tp: Callable = None,  \n",
    "    thermal_conductivity_gas_tp: Callable = None,  \n",
    "    viscosity_liquid_tp: Callable = None,  \n",
    "    viscosity_gas_tp: Callable = None,  \n",
    ")\n",
    "```\n",
    "The Substance arguments may be classified in two grups:  \n",
    "* Constant properties.  \n",
    "    * name\n",
    "    * molecular_weight\n",
    "    * normal_boiling_point\n",
    "    * normal_melting_point\n",
    "    * critical_temperature\n",
    "    * critical_pressure\n",
    "    * acentric_factor\n",
    "    * formation_enthalpy\n",
    "    * formation_enthalpy_ig\n",
    "    * formation_gibbs\n",
    "    * formation_gibbs_ig\n",
    "\n",
    "* Temperature and pressure dependent properties.\n",
    "    * vaporization_enthalpy_t\n",
    "    * sublimation_enthalpy_t\n",
    "    * volume_solid_t\n",
    "    * volume_liquid_tp\n",
    "    * volume_gas_tp\n",
    "    * heat_capacity_solid_t\n",
    "    * heat_capacity_liquid_t\n",
    "    * heat_capacity_gas_t\n",
    "    * thermal_conductivity_liquid_tp\n",
    "    * thermal_conductivity_gas_tp\n",
    "    * viscosity_liquid_tp\n",
    "    * viscosity_gas_tp\n",
    "\n",
    "The **Temperature and pressure dependent properties** must be specified as python functions of temperature, or both temperature and pressure, as corresponds. As tutorial, a water Substance object is defined with some example properties.\n",
    "\n",
    "The data for defining the water is obtained from:\n",
    "\n",
    "Don W. Green; Robert H. Perry. Perry's Chemical Engineers' Handbook, Eighth Edition (McGraw-Hill: New York, Chicago, San Francisco, Lisbon, London, Madrid, Mexico City, Milan, New Delhi, San Juan, Seoul, Singapore, Sydney, Toronto, 2008, 1997, 1984, 1973, 1963, 1950, 1941, 1934)."
   ]
  },
  {
   "cell_type": "code",
   "execution_count": null,
   "id": "a078e3c1",
   "metadata": {},
   "outputs": [],
   "source": [
    "def water_volume_liquid_tp(temperature, pressure):\n",
    "    \"\"\"User defined function for liquid molar volume. [m^3/mol]\"\"\"\n",
    "    c1 = -13.851 \n",
    "    c2 = 0.64038\n",
    "    c3 = -0.00191\n",
    "    c4 = 1.8211E-06\n",
    "    \n",
    "    molar_vol = 1 / (c1 + c2 * temperature + c3 * temperature ** 2 + c4 * temperature ** 3) / 1000\n",
    "    \n",
    "def water_heat_capacity_liquid_t(temperature):\n",
    "    \"\"\"User defined function for liquid heat capacity. [J/mol/K]\"\"\"\n",
    "    c1 = 276370 \n",
    "    c2 = -2090.1\n",
    "    c3 = 8.125\n",
    "    c4 = -0.014116\n",
    "    c5 = 9.3701E-06\n",
    "    "
   ]
  }
 ],
 "metadata": {
  "kernelspec": {
   "display_name": "Python 3 (ipykernel)",
   "language": "python",
   "name": "python3"
  },
  "language_info": {
   "codemirror_mode": {
    "name": "ipython",
    "version": 3
   },
   "file_extension": ".py",
   "mimetype": "text/x-python",
   "name": "python",
   "nbconvert_exporter": "python",
   "pygments_lexer": "ipython3",
   "version": "3.10.6"
  }
 },
 "nbformat": 4,
 "nbformat_minor": 5
}
