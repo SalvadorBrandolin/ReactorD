{
 "cells": [
  {
   "attachments": {},
   "cell_type": "markdown",
   "metadata": {},
   "source": [
    "## Mixture objects\n",
    "\n",
    "Mixture objects represent the behavior of mixed Substances.\n",
    "\n",
    "Two different mixtures are available in Reactord:\n",
    " * IdealGas\n",
    " * IdealSolution\n",
    "\n",
    "As an example, the behavior of the IdealGas mixture will be explained. "
   ]
  },
  {
   "cell_type": "code",
   "execution_count": 1,
   "metadata": {},
   "outputs": [],
   "source": [
    "import numpy as np\n",
    "\n",
    "import reactord as rd"
   ]
  },
  {
   "attachments": {},
   "cell_type": "markdown",
   "metadata": {},
   "source": [
    "### Instantiate a mixture object\n",
    "\n",
    "To generate a mixture, first, it is necessary to create the Substance objects \n",
    "that will be in the mixture. For instance:"
   ]
  },
  {
   "cell_type": "code",
   "execution_count": 2,
   "metadata": {},
   "outputs": [],
   "source": [
    "so2 = rd.Substance.from_thermo_database(\"SO2\", \"sulphur dioxide\")\n",
    "o2 = rd.Substance.from_thermo_database(\"O2\", \"oxygen\")\n",
    "so3 = rd.Substance.from_thermo_database(\"SO3\", \"sulphur trioxide\")\n",
    "co2 = rd.Substance.from_thermo_database(\"CO2\", \"carbon dioxide\")"
   ]
  },
  {
   "attachments": {},
   "cell_type": "markdown",
   "metadata": {},
   "source": [
    "A mixture is formed by introducing the objects as a list. In this case, an \n",
    "instance of the IdealGas class is created, using the Herning Zipperer mixing \n",
    "rule for mixture's viscosity."
   ]
  },
  {
   "cell_type": "code",
   "execution_count": 15,
   "metadata": {},
   "outputs": [],
   "source": [
    "gas_mixture = rd.mix.IdealGas(\n",
    "    substance_list=[so2, o2, so3, co2],\n",
    "    viscosity_mixing_rule=\"herning_zipperer\"\n",
    ")"
   ]
  },
  {
   "attachments": {},
   "cell_type": "markdown",
   "metadata": {},
   "source": [
    "You can access the individual substances of the mixture with the attribute\n",
    "`substances`. **Note that the order of the substances is the same as the order\n",
    "used in the instantiation of the mixture.**"
   ]
  },
  {
   "cell_type": "code",
   "execution_count": 4,
   "metadata": {},
   "outputs": [
    {
     "data": {
      "text/plain": [
       "'SO2'"
      ]
     },
     "execution_count": 4,
     "metadata": {},
     "output_type": "execute_result"
    }
   ],
   "source": [
    "gas_mixture.substances[0].name"
   ]
  },
  {
   "attachments": {},
   "cell_type": "markdown",
   "metadata": {},
   "source": [
    "Also, you can access to arrays of the attributes of the substances of the \n",
    "mixture. For example, the names, molecular weights or formation enthalpies."
   ]
  },
  {
   "cell_type": "code",
   "execution_count": 5,
   "metadata": {},
   "outputs": [
    {
     "name": "stdout",
     "output_type": "stream",
     "text": [
      "['SO2' 'O2' 'SO3' 'CO2']\n",
      "[64.0638 31.9988 80.0632 44.0095]\n",
      "[-296800.       0. -395700. -393474.]\n"
     ]
    }
   ],
   "source": [
    "print(gas_mixture.names)\n",
    "\n",
    "print(gas_mixture.molecular_weights)\n",
    "\n",
    "print(gas_mixture.formation_enthalpies_ig)"
   ]
  },
  {
   "attachments": {},
   "cell_type": "markdown",
   "metadata": {},
   "source": [
    "The complete list of the mixtures' attributes can be accessed in \n",
    "the API's documentation o IdealGas and AbstractMix."
   ]
  },
  {
   "attachments": {},
   "cell_type": "markdown",
   "metadata": {},
   "source": [
    "### Mixture's methods\n",
    "\n",
    "The most basic method of a mixture is `mole_fractions` which allows the \n",
    "calculation of the mole fractions of the mixture's substances for a given mole\n",
    "composition.\n",
    "\n",
    "For example, if we have a mixture with 10 mol of $SO_2$, 21.5 mol of $O_2$,\n",
    "14.7 mol of $SO_3$ and 6 mol of $CO_2$. We can calculate the mole fractions as:\n"
   ]
  },
  {
   "cell_type": "code",
   "execution_count": 6,
   "metadata": {},
   "outputs": [
    {
     "data": {
      "text/plain": [
       "array([0.19157088, 0.41187739, 0.2816092 , 0.11494253])"
      ]
     },
     "execution_count": 6,
     "metadata": {},
     "output_type": "execute_result"
    }
   ],
   "source": [
    "moles = np.array([10, 21.5, 14.7, 6])\n",
    "\n",
    "gas_mixture.mole_fractions(moles)"
   ]
  },
  {
   "attachments": {},
   "cell_type": "markdown",
   "metadata": {},
   "source": [
    "The `mole_fractions` method can accept multiple composition sets by a matrix.\n",
    "Each column of the matrix represents each composition set and each row \n",
    "represents each substance's moles.\n",
    "\n",
    "For example, in addition to the previous mixture, you want to calculate the \n",
    "mole fractions of a mixture of 5 mol of $SO_2$, 10.5 mol of $O_2$,\n",
    "9 mol of $SO_3$ and 11 mol of $CO_2$."
   ]
  },
  {
   "cell_type": "code",
   "execution_count": 7,
   "metadata": {},
   "outputs": [
    {
     "data": {
      "text/plain": [
       "array([[0.19157088, 0.14084507],\n",
       "       [0.41187739, 0.29577465],\n",
       "       [0.2816092 , 0.25352113],\n",
       "       [0.11494253, 0.30985915]])"
      ]
     },
     "execution_count": 7,
     "metadata": {},
     "output_type": "execute_result"
    }
   ],
   "source": [
    "moles = np.array([[10, 5], [21.5, 10.5], [14.7, 9], [6, 11]])\n",
    "\n",
    "gas_mixture.mole_fractions(moles)"
   ]
  },
  {
   "attachments": {},
   "cell_type": "markdown",
   "metadata": {},
   "source": [
    "Moreover, mole fractions, along with temperature (in **K**) and pressure \n",
    "(in **Pa**), can be utilized to determine the concentrations (in **mol/m³**).\n",
    "Note that we are obtaining the concentrations of the two composition sets\n",
    "in a matrix, which also each column of the matrix represents each composition \n",
    "set and each row represents each substance's concentration [mol/m³].\n"
   ]
  },
  {
   "cell_type": "code",
   "execution_count": 10,
   "metadata": {},
   "outputs": [
    {
     "data": {
      "text/plain": [
       "array([[ 7.83027673,  5.75690768],\n",
       "       [16.83509497, 12.08950613],\n",
       "       [11.51050679, 10.36243382],\n",
       "       [ 4.69816604, 12.66519689]])"
      ]
     },
     "execution_count": 10,
     "metadata": {},
     "output_type": "execute_result"
    }
   ],
   "source": [
    "moles = np.array([[10, 5], [21.5, 10.5], [14.7, 9], [6, 11]])\n",
    "\n",
    "mole_fractions = gas_mixture.mole_fractions(moles)\n",
    "\n",
    "temperature = 298.15 # K\n",
    "pressure = 101_325 # Pa\n",
    "\n",
    "gas_mixture.concentrations(mole_fractions, temperature, pressure)"
   ]
  },
  {
   "attachments": {},
   "cell_type": "markdown",
   "metadata": {},
   "source": [
    "Also, the IdealGas class also includes methods to:\n",
    "\n",
    "-  Calculate the molar volume (mol/m³)\n",
    "-  Calculate the heat capacity (J/K)\n",
    "-  Establish the standard formation enthalpies of the substances in the mixture (J/(mol.K))\n",
    "\n",
    "The complete list of the mixtures' methods can be accessed in \n",
    "the API's documentation o IdealGas and AbstractMix.\n"
   ]
  },
  {
   "cell_type": "code",
   "execution_count": 14,
   "metadata": {},
   "outputs": [
    {
     "name": "stdout",
     "output_type": "stream",
     "text": [
      "Molar volume of the mixture:  0.02446540369658722 m³/mol\n",
      "Heat capacity:  38.36623729591365  J/K\n",
      "Formation enthalpies:  [-296800.       0. -395700. -393474.]  J/(mol.K)\n"
     ]
    }
   ],
   "source": [
    "moles = np.array([10, 21.5, 14.7, 6])\n",
    "\n",
    "mole_fractions = gas_mixture.mole_fractions(moles)\n",
    "\n",
    "temperature = 298.15  # K\n",
    "pressure = 101325 # Pa\n",
    "\n",
    "print(\n",
    "    \"Molar volume of the mixture: \",\n",
    "    gas_mixture.volume(mole_fractions, temperature, pressure),\n",
    "    \"m³/mol\",\n",
    ")\n",
    "print(\n",
    "    \"Heat capacity: \",\n",
    "    gas_mixture.mix_heat_capacity(mole_fractions, temperature, pressure),\n",
    "    \" J/K\",\n",
    ")\n",
    "\n",
    "print(\n",
    "    \"Formation enthalpies: \", \n",
    "    gas_mixture.get_formation_enthalpies(), \n",
    "    \" J/(mol.K)\"\n",
    ")\n"
   ]
  },
  {
   "attachments": {},
   "cell_type": "markdown",
   "metadata": {},
   "source": [
    "### Custom Mixture objects\n",
    "Custom mixture classes can be built by inheriting the \n",
    "`reactord.mix.AbstracMix` class."
   ]
  }
 ],
 "metadata": {
  "kernelspec": {
   "display_name": "reactord",
   "language": "python",
   "name": "python3"
  },
  "language_info": {
   "codemirror_mode": {
    "name": "ipython",
    "version": 3
   },
   "file_extension": ".py",
   "mimetype": "text/x-python",
   "name": "python",
   "nbconvert_exporter": "python",
   "pygments_lexer": "ipython3",
   "version": "3.10.6"
  },
  "orig_nbformat": 4,
  "vscode": {
   "interpreter": {
    "hash": "0da960acde017608603fcb155815528bc626e42a5841520214e4e02be5770591"
   }
  }
 },
 "nbformat": 4,
 "nbformat_minor": 2
}
