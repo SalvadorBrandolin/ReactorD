{
 "cells": [
  {
   "attachments": {},
   "cell_type": "markdown",
   "metadata": {},
   "source": [
    "## Ideal solution objects"
   ]
  },
  {
   "cell_type": "code",
   "execution_count": 5,
   "metadata": {},
   "outputs": [],
   "source": [
    "import numpy as np\n",
    "\n",
    "import reactord as rd"
   ]
  },
  {
   "cell_type": "markdown",
   "metadata": {},
   "source": [
    "To generate an ideal solution mixture, first it's necessary to create the Substance objects that will be in the mixture. For instance:"
   ]
  },
  {
   "cell_type": "code",
   "execution_count": 36,
   "metadata": {},
   "outputs": [],
   "source": [
    "meoh = rd.Substance.from_thermo_database(\"methanol\")\n",
    "h2o = rd.Substance.from_thermo_database(\"water\")\n",
    "acetone = rd.Substance.from_thermo_database(\"acetone\")\n",
    "etoh = rd.Substance.from_thermo_database(\"ethanol\")"
   ]
  },
  {
   "attachments": {},
   "cell_type": "markdown",
   "metadata": {},
   "source": [
    "Now we create a mixture, introducing the objects as a dictionary. In this case, an instance of the IdealSolution class is created:"
   ]
  },
  {
   "cell_type": "code",
   "execution_count": 47,
   "metadata": {},
   "outputs": [
    {
     "name": "stdout",
     "output_type": "stream",
     "text": [
      "337.65\n",
      "water\n",
      "4700000.0\n",
      "ethanol\n"
     ]
    }
   ],
   "source": [
    "ideal_sol_mixture = rd.mix.IdealSolution(A=meoh, B=h2o, C=acetone, D=etoh)\n",
    "\n",
    "# The mixture is a list of substances.\n",
    "# We can accsess to the properties of individual substances. For example:\n",
    "print(ideal_sol_mixture.substances[0].normal_boiling_point)\n",
    "print(ideal_sol_mixture.substances[1].name)\n",
    "print(ideal_sol_mixture.substances[2].critical_pressure)\n",
    "print(ideal_sol_mixture.substances[3].name)"
   ]
  },
  {
   "attachments": {},
   "cell_type": "markdown",
   "metadata": {},
   "source": [
    "The IdealSolution class is an instance of the abstract class AbstractMix. As a consequence, it has methods that are common to all the instances of AbstractMix:\n",
    "\n",
    "- mol_fractions\n",
    "- mixture_molecular_weight\n",
    "- partial_pressures\n",
    "- molar_density\n",
    "- mass_density\n",
    "\n",
    "and IdealSolution specific methods:\n",
    "\n",
    "- concentrations\n",
    "- volume\n",
    "- mix_heat_capacity\n",
    "- formation_enthalpies_correction\n",
    "- mixture_viscosity"
   ]
  },
  {
   "attachments": {},
   "cell_type": "markdown",
   "metadata": {},
   "source": [
    "The methods inherited from AbstractMix are explained in the [AbstractMix tutorial](abstract_mix.ipynb). On the other hand, each method implemented by IdealSolution may require that the substances have specific methods or atributes defined. Let's see the methods."
   ]
  },
  {
   "attachments": {},
   "cell_type": "markdown",
   "metadata": {},
   "source": [
    "__concentrations (moles, temperature, pressure)__\n",
    "\n",
    "This method recieves the moles of each substance, the temperature [K] and pressure [Pa] and returns the concentration of each substance $C_i$ [$moles/m^3$]. The calculation is made by dividing each molar fraction $z_i$ by the total molar volume $V_T$:\n",
    "\n",
    "$$ C_i = \\frac {z_i} {V_T} $$\n"
   ]
  },
  {
   "cell_type": "code",
   "execution_count": 49,
   "metadata": {},
   "outputs": [
    {
     "name": "stdout",
     "output_type": "stream",
     "text": [
      "Concentrations (mol/m³): [4842.05 6456.06 1614.02 9684.09]\n"
     ]
    }
   ],
   "source": [
    "moles = [1.5, 2, 0.5, 3]\n",
    "temperature = 298.15  # K\n",
    "pressure = 101325  # Pa\n",
    "concentrations = np.round(\n",
    "    ideal_sol_mixture.concentrations(moles, temperature, pressure), 2\n",
    ")\n",
    "print(f\"Concentrations (mol/m³): {concentrations}\")"
   ]
  },
  {
   "attachments": {},
   "cell_type": "markdown",
   "metadata": {},
   "source": [
    "__volume (moles, temperature, pressure)__\n",
    "\n",
    "This method recieves the moles of each substance, the temperature [K] and pressure [Pa] and returns the volume of the mixture [$m^3$]. The calculation is done by the dot product of the substance's molar volumes $v_i$ and the moles $n_i$:\n",
    "\n",
    "$$ V = v_i · n_i"
   ]
  },
  {
   "cell_type": "code",
   "execution_count": 39,
   "metadata": {},
   "outputs": [
    {
     "name": "stdout",
     "output_type": "stream",
     "text": [
      "Molar volume of the mixture: 0.00030978644858994757 m³/mol\n"
     ]
    }
   ],
   "source": [
    "molar_volume = ideal_sol_mixture.volume(moles, temperature, pressure)\n",
    "print(f\"Molar volume of the mixture: {molar_volume} m³/mol\")"
   ]
  },
  {
   "attachments": {},
   "cell_type": "markdown",
   "metadata": {},
   "source": [
    "__mix_heat_capacity (moles, temperature, pressure)__\n",
    "\n",
    "This method recieves the moles of each substance, the temperature [K] and pressure [Pa] and returns the heat capacity of the mixture [$J/K$]. \n",
    "The calculation is performed by the dot product between the molar fractions $z_i$ and the ${c_p}_i$ of the compounds:\n",
    "\n",
    "$$ {C_p}_{mix} = z_i · {C_p}_i"
   ]
  },
  {
   "cell_type": "code",
   "execution_count": 51,
   "metadata": {},
   "outputs": [
    {
     "name": "stdout",
     "output_type": "stream",
     "text": [
      "Mixture heat capacity: 95.798 J/K\n"
     ]
    }
   ],
   "source": [
    "heat_capacity = np.round(\n",
    "    ideal_sol_mixture.mix_heat_capacity(moles, temperature, pressure), 3\n",
    ")\n",
    "\n",
    "print(f\"Mixture heat capacity: {heat_capacity} J/K\")"
   ]
  },
  {
   "attachments": {},
   "cell_type": "markdown",
   "metadata": {},
   "source": [
    "__formation_enthalpies_correction (moles, temperature, pressure)__\n",
    "\n",
    "This method recieves the moles of each substance, the temperature [K] and pressure [Pa] and returns a term to correct the formation enthalpies [$J/mol/K$] of the components of the mixture at the given temperature. The formula to calculate the corrected formation enthalpies is:\n",
    "\n",
    "$${\\Delta H_{f}}_{i} = {\\Delta H_{i}^{298.15}} + \\int_{298.15}^{T}{{C_p}_{i}}{(T,P)}dT$$\n",
    "\n",
    "this method evaluates and solve the integral term. It also takes into account the heat required to melt a substance, if its boiling point is higher than 298.15 K.\n",
    "\n",
    "The formation enthalpy at non-standard conditions is calculated by adding the standard formation enthalpy and the correction term.\n",
    "The standard formation enthalpies are set using the private method _formation_enthalpies_set() as shown below:"
   ]
  },
  {
   "cell_type": "code",
   "execution_count": 46,
   "metadata": {},
   "outputs": [
    {
     "name": "stdout",
     "output_type": "stream",
     "text": [
      "Standard formation enthalpies: [-238400. -285825. -248400. -277030.] J/(mol.K)\n",
      "Enthalpy correction: [ 9717.  7711. 13639. 14094.] J/(mol.K)\n",
      "Corrected enthalpies: [-228683. -278114. -234761. -262936.] J/(mol.K)\n"
     ]
    }
   ],
   "source": [
    "standard_enthalpies = ideal_sol_mixture._formation_enthalpies_set()\n",
    "enthalpy_correction = np.round(\n",
    "    ideal_sol_mixture.formation_enthalpies_correction(400, pressure), 0\n",
    ")\n",
    "corrected_enthalpies = np.round(standard_enthalpies + enthalpy_correction, 0)\n",
    "\n",
    "print(f\"Standard formation enthalpies: {standard_enthalpies} J/(mol.K)\")\n",
    "print(f\"Enthalpy correction: {enthalpy_correction} J/(mol.K)\")\n",
    "print(f\"Corrected enthalpies: {corrected_enthalpies} J/(mol.K)\")"
   ]
  },
  {
   "attachments": {},
   "cell_type": "markdown",
   "metadata": {},
   "source": [
    "__mixture_viscosity (moles, temperature, pressure)__\n",
    "\n",
    "NOT IMPLEMENTED YET"
   ]
  }
 ],
 "metadata": {
  "kernelspec": {
   "display_name": "reactord",
   "language": "python",
   "name": "python3"
  },
  "language_info": {
   "codemirror_mode": {
    "name": "ipython",
    "version": 3
   },
   "file_extension": ".py",
   "mimetype": "text/x-python",
   "name": "python",
   "nbconvert_exporter": "python",
   "pygments_lexer": "ipython3",
   "version": "3.10.6"
  },
  "orig_nbformat": 4,
  "vscode": {
   "interpreter": {
    "hash": "0da960acde017608603fcb155815528bc626e42a5841520214e4e02be5770591"
   }
  }
 },
 "nbformat": 4,
 "nbformat_minor": 2
}
