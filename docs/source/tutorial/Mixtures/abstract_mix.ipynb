{
 "cells": [
  {
   "attachments": {},
   "cell_type": "markdown",
   "metadata": {},
   "source": [
    "## Abstract mix\n",
    "\n",
    "AbstracMix is the parent class of the rest of the mixes classes. A new mixture\n",
    "defined by the user should inherit from AbstractMix.\n",
    "\n",
    "The abstract methods that the user must define are:  \n",
    "- volume  \n",
    "- concentrations  \n",
    "- mix_heat_capacity  \n",
    "- formation_enthalpies_correction  \n",
    "- mixture_viscosity  \n",
    "\n",
    "AbstractMix implements common methods for all mixes:  \n",
    "- mol_fractions  \n",
    "- mixture_molecular_weight  \n",
    "- partial_pressures  \n",
    "- molar_density  \n",
    "- mass_density"
   ]
  },
  {
   "attachments": {},
   "cell_type": "markdown",
   "metadata": {},
   "source": [
    "__mol_fractions(moles)__\n",
    "\n",
    "The method recieve the moles of each mixture's substance [mol] and calculate\n",
    "mol fractions of each substance:\n",
    "\n",
    "$$z_{i} = \\frac{n_{i}}{\\sum{n_{i}}}$$"
   ]
  },
  {
   "attachments": {},
   "cell_type": "markdown",
   "metadata": {},
   "source": [
    "__mixture_molecular_weight(moles)__\n",
    "\n",
    "The method recieve the moles of each substance an calculate the mixture's\n",
    "molecular weight [kg/kmol]. **The method requires that each substance have the molecular\n",
    "weight $w_{i}$ defined**.\n",
    "\n",
    "$$w_{mix} = \\frac{\\sum n_{i} w_{i}}{\\sum {n_{i}}}$$\n"
   ]
  },
  {
   "attachments": {},
   "cell_type": "markdown",
   "metadata": {},
   "source": [
    "__partial_pressures(moles, temperature, pressure)__\n",
    "\n",
    "The method recieve the moles of each substance [mol], temperature [K] and \n",
    "pressure [Pa] an calculates the partial pressure of each mixture's substance\n",
    "[Pa].\n",
    "\n",
    "$$P_{i} = \\frac{n_{i} P}{\\sum {n_{i}}}$$\n"
   ]
  },
  {
   "attachments": {},
   "cell_type": "markdown",
   "metadata": {},
   "source": [
    "__molar_density(moles, temperature, pressure__\n",
    "\n",
    "The method recieve the moles of each substance [mol], temperature [K] and \n",
    "pressure [Pa] an calculates the molar density of the mixture [mol/m³]. \n",
    "**The method uses the user defined volume method**.\n",
    "\n",
    "$$\\rho_{mix} = \\frac{\\sum n_{i}}{V_{(n_{i},T,P)}}$$"
   ]
  },
  {
   "attachments": {},
   "cell_type": "markdown",
   "metadata": {},
   "source": [
    "__mass_density(moles, temperature, pressure)__\n",
    "\n",
    "The method recieve the moles of each substance [mol], temperature [K] and \n",
    "pressure [Pa] an calculates the mass density of the mixture [kg/m³]. \n",
    "**The method uses the user defined volume method**"
   ]
  }
 ],
 "metadata": {
  "kernelspec": {
   "display_name": "reactord",
   "language": "python",
   "name": "python3"
  },
  "language_info": {
   "name": "python",
   "version": "3.10.6 (main, Nov 14 2022, 16:10:14) [GCC 11.3.0]"
  },
  "orig_nbformat": 4,
  "vscode": {
   "interpreter": {
    "hash": "44eb91f73ea2661bbbecc9f77111c56822635f905b8a2c5d2c14405903be0d49"
   }
  }
 },
 "nbformat": 4,
 "nbformat_minor": 2
}
