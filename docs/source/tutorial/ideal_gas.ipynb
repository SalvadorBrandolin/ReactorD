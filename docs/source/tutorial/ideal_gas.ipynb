{
 "cells": [
  {
   "cell_type": "code",
   "execution_count": 1,
   "metadata": {},
   "outputs": [],
   "source": [
    "import reactord as rd\n",
    "import numpy as np"
   ]
  },
  {
   "attachments": {},
   "cell_type": "markdown",
   "metadata": {},
   "source": [
    "The reaction for the example is\n",
    "\n",
    "2 SO2  +  O2  -----> 2 SO3\n",
    "\n",
    "Also, the inclusion of CO2 as an inert is considered"
   ]
  },
  {
   "cell_type": "code",
   "execution_count": 49,
   "metadata": {},
   "outputs": [],
   "source": [
    "so2 = rd.Substance.from_thermo_database('SO2')\n",
    "o2 = rd.Substance.from_thermo_database('O2')\n",
    "so3 = rd.Substance.from_thermo_database('SO3')\n",
    "co2 = rd.Substance.from_thermo_database('CO2')"
   ]
  },
  {
   "attachments": {},
   "cell_type": "markdown",
   "metadata": {},
   "source": [
    "We test the methods to calculate concentrations and molar fractions "
   ]
  },
  {
   "cell_type": "code",
   "execution_count": 80,
   "metadata": {},
   "outputs": [
    {
     "name": "stdout",
     "output_type": "stream",
     "text": [
      "[12.77313891 25.54627783  0.          2.55462778]\n",
      "[0.3125 0.625  0.     0.0625] True\n"
     ]
    }
   ],
   "source": [
    "moles = [1, 2, 0, 0.2]\n",
    "T = 298.15 # K\n",
    "P = 101325 # Pa\n",
    "\n",
    "gas_mixture = rd.mix.IdealGas(A=so2, B=o2, C=so3, Inert=co2)\n",
    "concetrations = gas_mixture.concentrations(moles, T, P)\n",
    "\n",
    "\n",
    "print(concetrations)\n",
    "molar_fractions = gas_mixture.mol_fractions(moles)\n",
    "\n",
    "print(molar_fractions, sum(molar_fractions) == 1)"
   ]
  },
  {
   "attachments": {},
   "cell_type": "markdown",
   "metadata": {},
   "source": [
    "Next we use the method to calculate the molar volume of gas_mixture"
   ]
  },
  {
   "cell_type": "code",
   "execution_count": 82,
   "metadata": {},
   "outputs": [
    {
     "data": {
      "text/plain": [
       "0.022401660940101993"
      ]
     },
     "execution_count": 82,
     "metadata": {},
     "output_type": "execute_result"
    }
   ],
   "source": [
    "moles = [0.5, 0.2, 0.1, 0.2]\n",
    "gas_mixture.volume(moles, 273, P)"
   ]
  },
  {
   "attachments": {},
   "cell_type": "markdown",
   "metadata": {},
   "source": [
    "We can also calculate the heat capacity of the mixture"
   ]
  },
  {
   "cell_type": "code",
   "execution_count": null,
   "metadata": {},
   "outputs": [],
   "source": []
  },
  {
   "cell_type": "code",
   "execution_count": null,
   "metadata": {},
   "outputs": [],
   "source": []
  },
  {
   "cell_type": "code",
   "execution_count": 48,
   "metadata": {},
   "outputs": [],
   "source": [
    "components= ['SO2', 'O2', 'SO3', 'CO2']\n",
    "objects= []\n",
    "\n",
    "for c in components:\n",
    "    objects.append(rd.Substance.from_thermo_database(c))"
   ]
  },
  {
   "cell_type": "code",
   "execution_count": 50,
   "metadata": {},
   "outputs": [
    {
     "name": "stdout",
     "output_type": "stream",
     "text": [
      "[<reactord.substance.Substance object at 0x7fc1a310cbe0>, <reactord.substance.Substance object at 0x7fc1a32b2e60>]\n"
     ]
    }
   ],
   "source": [
    "A=[]\n",
    "\n",
    "C=rd.Substance.from_thermo_database('water')\n",
    "D=rd.Substance.from_thermo_database('methanol')\n",
    "\n",
    "A.append(C)\n",
    "A.append(D)\n",
    "\n",
    "print(A)"
   ]
  },
  {
   "cell_type": "code",
   "execution_count": null,
   "metadata": {},
   "outputs": [],
   "source": []
  }
 ],
 "metadata": {
  "kernelspec": {
   "display_name": "reactord",
   "language": "python",
   "name": "python3"
  },
  "language_info": {
   "codemirror_mode": {
    "name": "ipython",
    "version": 3
   },
   "file_extension": ".py",
   "mimetype": "text/x-python",
   "name": "python",
   "nbconvert_exporter": "python",
   "pygments_lexer": "ipython3",
   "version": "3.10.6"
  },
  "orig_nbformat": 4,
  "vscode": {
   "interpreter": {
    "hash": "0da960acde017608603fcb155815528bc626e42a5841520214e4e02be5770591"
   }
  }
 },
 "nbformat": 4,
 "nbformat_minor": 2
}
