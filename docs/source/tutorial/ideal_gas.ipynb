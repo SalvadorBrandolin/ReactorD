{
 "cells": [
  {
   "attachments": {},
   "cell_type": "markdown",
   "metadata": {},
   "source": [
    "## Mixture objects\n",
    "\n",
    "Mixture of ideal gases"
   ]
  },
  {
   "cell_type": "code",
   "execution_count": 1,
   "metadata": {},
   "outputs": [],
   "source": [
    "import numpy as np\n",
    "\n",
    "import reactord as rd"
   ]
  },
  {
   "attachments": {},
   "cell_type": "markdown",
   "metadata": {},
   "source": [
    "To generate a mixture, first it is necessary to create the Substance objects that will be in the mixture. For instance:"
   ]
  },
  {
   "cell_type": "code",
   "execution_count": 2,
   "metadata": {},
   "outputs": [
    {
     "name": "stdout",
     "output_type": "stream",
     "text": [
      "SO2\n",
      "oxygen\n"
     ]
    }
   ],
   "source": [
    "so2 = rd.Substance.from_thermo_database(\"SO2\", \"SO2\")\n",
    "o2 = rd.Substance.from_thermo_database(\"oxygen\", \"O2\")\n",
    "so3 = rd.Substance.from_thermo_database(\"SO3\", \"SO3\")\n",
    "co2 = rd.Substance.from_thermo_database(\"CO2\", \"CO2\")\n",
    "\n",
    "print(so2.name)\n",
    "print(o2.name)"
   ]
  },
  {
   "attachments": {},
   "cell_type": "markdown",
   "metadata": {},
   "source": [
    "A mixture is formed by introducing the objects as a list. In this case, an instance of the IdealGas class is created:"
   ]
  },
  {
   "cell_type": "code",
   "execution_count": 3,
   "metadata": {},
   "outputs": [
    {
     "name": "stdout",
     "output_type": "stream",
     "text": [
      "263.1\n",
      "oxygen\n",
      "8207325.0\n"
     ]
    }
   ],
   "source": [
    "gas_mixture = rd.mix.IdealGas([so2, o2, so3, co2])\n",
    "\n",
    "# The mixture is a list of substances to which we can access:\n",
    "print(gas_mixture.substances[0].normal_boiling_point)\n",
    "print(gas_mixture.substances[1].name)\n",
    "print(gas_mixture.substances[2].critical_pressure)"
   ]
  },
  {
   "attachments": {},
   "cell_type": "markdown",
   "metadata": {},
   "source": [
    "The molar fractions can be calculated by using the number of moles of each substance in the mixture. \n",
    "Moreover, molar fractions, along with temperature (in **K**) and pressure (in **Pa**), are utilized to determine the concentrations (in **mol/m³**)."
   ]
  },
  {
   "cell_type": "code",
   "execution_count": 4,
   "metadata": {},
   "outputs": [
    {
     "name": "stdout",
     "output_type": "stream",
     "text": [
      "molar fractions:  [0.2143 0.2857 0.0714 0.4286] True\n",
      "Concentrations (mol/m³):  [ 8.76 11.68  2.92 17.52]\n"
     ]
    }
   ],
   "source": [
    "moles = [1.5, 2, 0.5, 3]\n",
    "\n",
    "molar_fractions = np.round(gas_mixture.mole_fractions(moles), 4)\n",
    "print(\"molar fractions: \", molar_fractions, sum(molar_fractions) == 1)\n",
    "\n",
    "temperature = 298.15  # K\n",
    "pressure = 101325  # Pa\n",
    "concentrations = np.round(\n",
    "    gas_mixture.concentrations(molar_fractions, temperature, pressure), 2\n",
    ")\n",
    "print(\"Concentrations (mol/m³): \", concentrations)"
   ]
  },
  {
   "attachments": {},
   "cell_type": "markdown",
   "metadata": {},
   "source": [
    "The IdealGas class also includes methods to:\n",
    "\n",
    "-  Calculate the molar volume (mol/m³)\n",
    "-  Calculate the heat capacity (J/K)\n",
    "-  Establish the standard formation enthalpies of the substances in the mixture (J/(mol.K)\n",
    "-  Calculate a term to correct the formation enthalpies at non-standard conditions (J/(mol.K)"
   ]
  },
  {
   "cell_type": "code",
   "execution_count": 5,
   "metadata": {},
   "outputs": [
    {
     "name": "stdout",
     "output_type": "stream",
     "text": [
      "Molar volume of the mixture:  0.0224 m³/mol\n",
      "Heat capacity:  36.5  J/K\n",
      "Formation enthalpies:  [-296800.       0. -395700. -393474.]  J/(mol.K)\n",
      "Enthalpy correction:  [4273.3 3025.5 5561.8 4004.7]  J/(mol.K)\n",
      "Corrected enthalpies:  [-292526.7    3025.5 -390138.2 -389469.3]  J/(mol.K)\n"
     ]
    }
   ],
   "source": [
    "temperature = 298.15  # K\n",
    "pressure = 101325  # Pa\n",
    "\n",
    "print(\n",
    "    \"Molar volume of the mixture: \",\n",
    "    np.round(gas_mixture.volume(molar_fractions, 273, pressure), 5),\n",
    "    \"m³/mol\",\n",
    ")\n",
    "print(\n",
    "    \"Heat capacity: \",\n",
    "    np.round(\n",
    "        gas_mixture.mix_heat_capacity(molar_fractions, temperature, pressure),\n",
    "        1,\n",
    "    ),\n",
    "    \" J/K\",\n",
    ")\n",
    "\n",
    "standard_enthalpies = gas_mixture.get_formation_enthalpies()\n",
    "print(\"Formation enthalpies: \", standard_enthalpies, \" J/(mol.K)\")\n",
    "\n",
    "enthalpy_correction = gas_mixture.formation_enthalpies_correction(\n",
    "    400, pressure\n",
    ")\n",
    "print(\"Enthalpy correction: \", np.round(enthalpy_correction, 1), \" J/(mol.K)\")\n",
    "print(\n",
    "    \"Corrected enthalpies: \",\n",
    "    np.round(standard_enthalpies + enthalpy_correction, 1),\n",
    "    \" J/(mol.K)\",\n",
    ")"
   ]
  },
  {
   "attachments": {},
   "cell_type": "markdown",
   "metadata": {},
   "source": [
    "A method for calculating the partial pressures is defined within the abstract class AbstractMix:"
   ]
  },
  {
   "cell_type": "code",
   "execution_count": 6,
   "metadata": {},
   "outputs": [
    {
     "name": "stdout",
     "output_type": "stream",
     "text": [
      "[ 72727. 181818. 136364. 109091.] Pa\n",
      "500000.0 True\n"
     ]
    }
   ],
   "source": [
    "moles = [8, 20, 15, 12]\n",
    "mole_fractions = gas_mixture.mole_fractions(moles)\n",
    "temperature = 700  # K\n",
    "pressure = 500000  # Pa\n",
    "\n",
    "partial_pressures = gas_mixture.partial_pressures(\n",
    "    mole_fractions, temperature, pressure\n",
    ")\n",
    "print(np.round(partial_pressures, 0), \"Pa\")\n",
    "\n",
    "# The sum of all the partial pressures gives the total pressure:\n",
    "print(np.sum(partial_pressures), pressure == np.sum(partial_pressures))"
   ]
  }
 ],
 "metadata": {
  "kernelspec": {
   "display_name": "reactord",
   "language": "python",
   "name": "python3"
  },
  "language_info": {
   "codemirror_mode": {
    "name": "ipython",
    "version": 3
   },
   "file_extension": ".py",
   "mimetype": "text/x-python",
   "name": "python",
   "nbconvert_exporter": "python",
   "pygments_lexer": "ipython3",
   "version": "3.10.6"
  },
  "orig_nbformat": 4,
  "vscode": {
   "interpreter": {
    "hash": "0da960acde017608603fcb155815528bc626e42a5841520214e4e02be5770591"
   }
  }
 },
 "nbformat": 4,
 "nbformat_minor": 2
}
