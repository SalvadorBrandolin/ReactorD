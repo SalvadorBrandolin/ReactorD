{
 "cells": [
  {
   "cell_type": "code",
   "execution_count": 1,
   "metadata": {},
   "outputs": [],
   "source": [
    "import numpy as np\n",
    "\n",
    "import reactord as rd"
   ]
  },
  {
   "attachments": {},
   "cell_type": "markdown",
   "metadata": {},
   "source": [
    "## Mixture objects\n",
    "\n",
    "To generate a mixture, first it is necessary to create the Substance objects that will be in the mixture. For instance:"
   ]
  },
  {
   "cell_type": "code",
   "execution_count": 2,
   "metadata": {},
   "outputs": [],
   "source": [
    "so2 = rd.Substance.from_thermo_database(\"SO2\")\n",
    "o2 = rd.Substance.from_thermo_database(\"O2\")\n",
    "so3 = rd.Substance.from_thermo_database(\"SO3\")\n",
    "co2 = rd.Substance.from_thermo_database(\"CO2\")"
   ]
  },
  {
   "attachments": {},
   "cell_type": "markdown",
   "metadata": {},
   "source": [
    "Now we create a mixture, introducing the objects as a dictionary. In this case, an instance of the IdealGas class is created:"
   ]
  },
  {
   "cell_type": "code",
   "execution_count": 3,
   "metadata": {},
   "outputs": [
    {
     "name": "stdout",
     "output_type": "stream",
     "text": [
      "263.1\n",
      "oxygen\n",
      "8207325.0\n"
     ]
    }
   ],
   "source": [
    "gas_mixture = rd.mix.IdealGas(A=so2, B=o2, C=so3, Inert=co2)\n",
    "\n",
    "# The mixture is a list of substances to which we can access:\n",
    "print(gas_mixture.substances[0].normal_boiling_point)\n",
    "print(gas_mixture.substances[1].name)\n",
    "print(gas_mixture.substances[2].critical_pressure)"
   ]
  },
  {
   "attachments": {},
   "cell_type": "markdown",
   "metadata": {},
   "source": [
    "Given the number of moles of each substance in the mixture, molar fractions can be calculated. Additionally, to calculate concentrations (**mol/m³**), temperature (**K**) and pressure (**Pa**) are required:"
   ]
  },
  {
   "cell_type": "code",
   "execution_count": 4,
   "metadata": {},
   "outputs": [
    {
     "name": "stdout",
     "output_type": "stream",
     "text": [
      "molar fractions:  [0.2143 0.2857 0.0714 0.4286] True\n",
      "Concentrations (mol/m³):  [ 8.76 11.68  2.92 17.52]\n"
     ]
    }
   ],
   "source": [
    "moles = [1.5, 2, 0.5, 3]\n",
    "\n",
    "molar_fractions = np.round(gas_mixture.mol_fractions(moles), 4)\n",
    "print(\"molar fractions: \", molar_fractions, sum(molar_fractions) == 1)\n",
    "\n",
    "temperature = 298.15  # K\n",
    "pressure = 101325  # Pa\n",
    "concentrations = np.round(\n",
    "    gas_mixture.concentrations(moles, temperature, pressure), 2\n",
    ")\n",
    "print(\"Concentrations (mol/m³): \", concentrations)"
   ]
  },
  {
   "attachments": {},
   "cell_type": "markdown",
   "metadata": {},
   "source": [
    "The IdealGas class also has methods to:\n",
    "\n",
    "-  Calculate the molar volume (mol/m³)\n",
    "-  Calculate the heat capacity (J/K)\n",
    "-  Establish the standard formation enthalpies of the substances in the mixture (J/(mol.K)\n",
    "-  Calculate a term to correct the formation enthalpies at non-standard conditions (J/(mol.K)"
   ]
  },
  {
   "cell_type": "code",
   "execution_count": 6,
   "metadata": {},
   "outputs": [
    {
     "name": "stdout",
     "output_type": "stream",
     "text": [
      "Molar volume of the mixture:  0.0 m³/mol\n",
      "Heat capacity:  38.4  J/K\n",
      "Formation enthalpies:  [-296800.       0. -395700. -393474.]  J/(mol.K)\n"
     ]
    },
    {
     "ename": "TypeError",
     "evalue": "IdealGas.formation_enthalpies_correction() missing 1 required positional argument: 'pressure'",
     "output_type": "error",
     "traceback": [
      "\u001b[0;31m---------------------------------------------------------------------------\u001b[0m",
      "\u001b[0;31mTypeError\u001b[0m                                 Traceback (most recent call last)",
      "Cell \u001b[0;32mIn[6], line 19\u001b[0m\n\u001b[1;32m     16\u001b[0m standard_enthalpies \u001b[39m=\u001b[39m gas_mixture\u001b[39m.\u001b[39m_formation_enthalpies_set()\n\u001b[1;32m     17\u001b[0m \u001b[39mprint\u001b[39m(\u001b[39m\"\u001b[39m\u001b[39mFormation enthalpies: \u001b[39m\u001b[39m\"\u001b[39m, standard_enthalpies, \u001b[39m\"\u001b[39m\u001b[39m J/(mol.K)\u001b[39m\u001b[39m\"\u001b[39m)\n\u001b[0;32m---> 19\u001b[0m enthalpy_correction \u001b[39m=\u001b[39m gas_mixture\u001b[39m.\u001b[39;49mformation_enthalpies_correction(\u001b[39m400\u001b[39;49m)\n\u001b[1;32m     20\u001b[0m \u001b[39mprint\u001b[39m(\u001b[39m\"\u001b[39m\u001b[39mEnthalpy correction: \u001b[39m\u001b[39m\"\u001b[39m, np\u001b[39m.\u001b[39mround(enthalpy_correction, \u001b[39m1\u001b[39m), \u001b[39m\"\u001b[39m\u001b[39m J/(mol.K)\u001b[39m\u001b[39m\"\u001b[39m)\n\u001b[1;32m     21\u001b[0m \u001b[39mprint\u001b[39m(\n\u001b[1;32m     22\u001b[0m     \u001b[39m\"\u001b[39m\u001b[39mCorrected enthalpies: \u001b[39m\u001b[39m\"\u001b[39m,\n\u001b[1;32m     23\u001b[0m     np\u001b[39m.\u001b[39mround(standard_enthalpies \u001b[39m+\u001b[39m enthalpy_correction, \u001b[39m1\u001b[39m),\n\u001b[1;32m     24\u001b[0m     \u001b[39m\"\u001b[39m\u001b[39m J/(mol.K)\u001b[39m\u001b[39m\"\u001b[39m,\n\u001b[1;32m     25\u001b[0m )\n",
      "\u001b[0;31mTypeError\u001b[0m: IdealGas.formation_enthalpies_correction() missing 1 required positional argument: 'pressure'"
     ]
    }
   ],
   "source": [
    "moles = [0.5, 0.2, 0.1, 0.2]\n",
    "temperature = 298.15  # K\n",
    "pressure = 101325  # Pa\n",
    "\n",
    "print(\n",
    "    \"Molar volume of the mixture: \",\n",
    "    np.round(gas_mixture.volume(moles, 273, pressure), 1),\n",
    "    \"m³/mol\",\n",
    ")\n",
    "print(\n",
    "    \"Heat capacity: \",\n",
    "    np.round(gas_mixture.mix_heat_capacity(moles, temperature, 101325), 1),\n",
    "    \" J/K\",\n",
    ")\n",
    "\n",
    "standard_enthalpies = gas_mixture._formation_enthalpies_set()\n",
    "print(\"Formation enthalpies: \", standard_enthalpies, \" J/(mol.K)\")\n",
    "\n",
    "enthalpy_correction = gas_mixture.formation_enthalpies_correction(400, 101325)\n",
    "print(\"Enthalpy correction: \", np.round(enthalpy_correction, 1), \" J/(mol.K)\")\n",
    "print(\n",
    "    \"Corrected enthalpies: \",\n",
    "    np.round(standard_enthalpies + enthalpy_correction, 1),\n",
    "    \" J/(mol.K)\",\n",
    ")"
   ]
  },
  {
   "attachments": {},
   "cell_type": "markdown",
   "metadata": {},
   "source": [
    "A method to calculate the partial pressures is defined at the level of the abstract class AbstractMix"
   ]
  },
  {
   "cell_type": "code",
   "execution_count": null,
   "metadata": {},
   "outputs": [
    {
     "name": "stdout",
     "output_type": "stream",
     "text": [
      "[ 72727. 181818. 136364. 109091.] Pa\n"
     ]
    }
   ],
   "source": [
    "moles = [8, 20, 15, 12]\n",
    "temperature = 700  # K\n",
    "pressure = 500000  # Pa\n",
    "\n",
    "partial_pressures = gas_mixture.partial_pressures(moles, temperature, pressure)\n",
    "print(np.round(partial_pressures, 0), \"Pa\")"
   ]
  }
 ],
 "metadata": {
  "kernelspec": {
   "display_name": "reactord",
   "language": "python",
   "name": "python3"
  },
  "language_info": {
   "codemirror_mode": {
    "name": "ipython",
    "version": 3
   },
   "file_extension": ".py",
   "mimetype": "text/x-python",
   "name": "python",
   "nbconvert_exporter": "python",
   "pygments_lexer": "ipython3",
   "version": "3.10.6"
  },
  "orig_nbformat": 4,
  "vscode": {
   "interpreter": {
    "hash": "44eb91f73ea2661bbbecc9f77111c56822635f905b8a2c5d2c14405903be0d49"
   }
  }
 },
 "nbformat": 4,
 "nbformat_minor": 2
}
