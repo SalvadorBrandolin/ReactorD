{
 "cells": [
  {
   "attachments": {},
   "cell_type": "markdown",
   "metadata": {},
   "source": [
    "## StationaryPFR\n",
    "\n",
    "Plug flow reactor in steady state operation.\n",
    "\n"
   ]
  },
  {
   "cell_type": "code",
   "execution_count": 16,
   "metadata": {},
   "outputs": [],
   "source": [
    "import numpy as np\n",
    "\n",
    "import matplotlib.pyplot as plt\n",
    "\n",
    "import reactord as rd"
   ]
  },
  {
   "attachments": {},
   "cell_type": "markdown",
   "metadata": {},
   "source": [
    "### Operating the PFR"
   ]
  },
  {
   "attachments": {},
   "cell_type": "markdown",
   "metadata": {},
   "source": [
    "A reactor may be operated in terms of its catalyst operation, thermal operation, \n",
    "and pressure operation.\n",
    "\n",
    "\n",
    "| Catalyst operation | Thermal opration | Pressure operation |\n",
    "|--------------------|------------------|--------------------|\n",
    "| Homogeneous        | Isothermal       | Isobaric           |\n",
    "| Heterogeneous      | Adiabatic        | Non-isobaric       |\n",
    "|                    | Non-isothermal   |                    |\n",
    "\n",
    "\n",
    "\n",
    "For the piston flow reactor, the list of implemented operations is:\n",
    "\n",
    "- Homogeneous  \n",
    "    - Isothermal  \n",
    "        - Isobaric\n",
    "        - Non-isobaric  \n",
    "    - Adiabatic  \n",
    "        - Isobaric  \n",
    "        - Non-isobaric  "
   ]
  },
  {
   "attachments": {},
   "cell_type": "markdown",
   "metadata": {},
   "source": [
    "### Specifying a kinetic law\n",
    "\n",
    "#### Stoichiometry matrix\n",
    "\n",
    "Imagine for a moment a system with multiple reactions (3 reactions):\n",
    "\n",
    "Reaction 1: $$A + B \\rightarrow C + D$$\n",
    "Reaction 2: $$2B \\leftrightarrow E$$\n",
    "Reaction 3: $$E + 2A \\rightarrow 3F$$\n",
    "\n",
    "And you have defined in the mixture (see [Mixtures tutorial](../mix/mix_index.rst))\n",
    "the substances in the order A, B, C, D, E, F. E.g:\n",
    "\n",
    "```python\n",
    "mixture = rd.mix.IdealGas(A=A, B=B, C=C, D=D, E=E, F=F)\n",
    "```\n",
    "\n",
    "Then the stoichiometry matrix is:\n",
    "\n",
    "|            \t|  A \t|  B \t|  C \t|  D \t|  E \t|  F \t|\n",
    "|------------\t|----\t|----\t|----\t|----\t|----\t|----\t|\n",
    "| reaction 1 \t| -1 \t| -1 \t|  1 \t|  1 \t|  0 \t|  0 \t|\n",
    "| reaction 2 \t|  0 \t| -2 \t|  0 \t|  0 \t|  1 \t|  0 \t|\n",
    "| reaction 3 \t| -2 \t|  0 \t|  0 \t|  0 \t| -1 \t|  3 \t|\n",
    "\n",
    "For ReactorD the matrix is loaded from a numpy matrix:\n",
    "\n",
    "```python\n",
    "stoichiometry = np.array(\n",
    "    [\n",
    "        [-1, -1, 1, 1, 0, 0],\n",
    "        [0, -2, 0, 0, 1, 0],\n",
    "        [-2, 0, 0, 0, -1, 3],\n",
    "    ]\n",
    ")\n",
    "```\n",
    "\n",
    "\n"
   ]
  },
  {
   "attachments": {},
   "cell_type": "markdown",
   "metadata": {},
   "source": [
    "#### Reaction rate\n",
    "\n",
    "Reaction rates are defined by python function with the format:\n",
    "\n",
    "```python\n",
    "def reaction_rate(composition: np.ndarray, temperature: float) -> float:\n",
    "    # calculation of the reaction rate \n",
    "    return evaluated_reaction_rate\n",
    "```\n",
    "\n",
    "Composition is the compositional argument of the reaction_rate. The available\n",
    "compositional arguments in ReactorD are:  \n",
    "\n",
    "- Concentration $[\\frac {mol} {m^3}]$  \n",
    "- Partial pressure [Pa]\n",
    "\n",
    "The desired compositional argument is selected in the reactor's definition with\n",
    "the argument \"kinetic_argument\". \n",
    "\n",
    "If Concentrationtion is selected as the compositional argument, ReactorD will \n",
    "evaluate the ```reaction_rate``` in the concentrations of all the mixture's\n",
    "substances and the temperature. Then, for the previous 3 hypothetical reactions\n",
    "the reaction rates could be.\n",
    "\n",
    "Note: remember that the order of the substances in the mix is: A, B, C, D, E, F\n",
    "\n",
    "```python\n",
    "def reaction_rate_1(composition, temperature):\n",
    "    c = composition # all concentrations stored in variable c\n",
    "    k_1 = 0.001 * np.exp(-10000 / temperature) # Arrhenius kinetic constant\n",
    "\n",
    "    reaction_rate_1 = k_1 * c[0] * c[1]\n",
    "    return reaction_rate_1\n",
    "\n",
    "\n",
    "def reaction_rate_2(composition, temperature):\n",
    "    c = composition # all concentrations stored in variable c\n",
    "    k_2_d = 0.002 * np.exp(-12000 / temperature) # direct reaction constant\n",
    "    k_2_i = 0.0008 * np.exp(-9000 / temperature) # reverse reaction constant\n",
    "\n",
    "    reaction_rate_2 = k_2_d * c[1]**2 - k_2_i c[4]\n",
    "    return reaction_rate_2\n",
    "\n",
    "\n",
    "def reaction_rate_3(composition, temperature):\n",
    "    c = composition # all concentrations stored in variable c\n",
    "    k_3 = 0.0005 * np.exp(-5000 / temperature) # Arrhenius kinetic constant\n",
    "\n",
    "    reaction_rate_3 = k_3 * c[4] * c[1]**2\n",
    "    return reaction_rate_3\n",
    "```"
   ]
  },
  {
   "attachments": {},
   "cell_type": "markdown",
   "metadata": {},
   "source": [
    "#### Example: P1.15a Fogler's 4th ed.\n",
    "\n",
    "Reaction:\n",
    "\n",
    "$$A \\rightarrow B$$\n",
    "\n",
    "Kinetic law:\n",
    "\n",
    "$$r = kC_{A}$$\n",
    "\n",
    "Initial mole fluxe of the reagent A =  0.0013889 $\\frac {mol}{s}$  \n",
    "Kinetic constant = 0.013889 $\\frac {mol} {s·m^3}$  \n",
    "PFR's volume = 0.099 $m^3$  \n",
    "Volumetric (and constat) flow = 0.0001667 $\\frac {m^3} {s}$\n",
    "\n",
    "\n",
    "Reactor: the liquid phase, Isothermic and isobaric PFR\n",
    "Temperature not specified. It is assumed as 298.15 K (temperature will not be \n",
    "used) Pressure not specified. It is assumed as 101325 Pa (pressure will not be \n",
    "used)\n",
    "\n",
    "__Substance definitions__  \n",
    "\n",
    "For a liquid phase, isothermic and isobaric PFR only the volume of the pure\n",
    "substances is necessary to evaluate the mass balance."
   ]
  },
  {
   "cell_type": "code",
   "execution_count": 17,
   "metadata": {},
   "outputs": [],
   "source": [
    "def volume(temperature, pressure):\n",
    "    return 1 / (fa_in / f_volumetric)\n",
    "\n",
    "\n",
    "# Problems data\n",
    "\n",
    "fa_in = 0.0013889  # mol/s\n",
    "k = 0.013889  # mol/m3/s\n",
    "v_pfr = 0.099  # m3\n",
    "f_volumetric = 0.0001667  # m3/s\n",
    "\n",
    "# Substance definition\n",
    "A = rd.Substance(name=\"A\", volume_liquid=volume)\n",
    "B = rd.Substance(name=\"B\", volume_liquid=volume)"
   ]
  },
  {
   "attachments": {},
   "cell_type": "markdown",
   "metadata": {},
   "source": [
    "__Mixture definition__"
   ]
  },
  {
   "cell_type": "code",
   "execution_count": 18,
   "metadata": {},
   "outputs": [],
   "source": [
    "mixture = rd.mix.IdealSolution(A=A, B=B)"
   ]
  },
  {
   "cell_type": "markdown",
   "metadata": {},
   "source": [
    "__Kinetic definition__  \n",
    "\n"
   ]
  },
  {
   "cell_type": "code",
   "execution_count": 19,
   "metadata": {},
   "outputs": [],
   "source": [
    "stoichiometry_matrix = np.array(\n",
    "    [\n",
    "        [-1, 1],\n",
    "    ]\n",
    ")\n",
    "\n",
    "\n",
    "def reaction_rate(composition, temperature):\n",
    "    return k * composition[0]"
   ]
  },
  {
   "attachments": {},
   "cell_type": "markdown",
   "metadata": {},
   "source": [
    "__Reactor set__\n",
    "\n",
    "Since the reactor is isothermic and isobaric, we call the construction method \n",
    "for the isothermal and isobaric operation. "
   ]
  },
  {
   "cell_type": "code",
   "execution_count": 20,
   "metadata": {},
   "outputs": [],
   "source": [
    "pfr = rd.idealreactor.StationaryPFR.from_isothermic_isobaric(\n",
    "    mix=mixture,\n",
    "    list_of_reactions=[reaction_rate],\n",
    "    stoichiometry=stoichiometry_matrix,\n",
    "    kinetic_argument=\"concentration\",\n",
    "    reactor_dim_minmax=[0, v_pfr],\n",
    "    transversal_area=1,\n",
    "    isothermic_temperature=298.15,\n",
    "    isobaric_pressure=101325,\n",
    "    molar_flow_in={\"A\": fa_in, \"B\": 0},\n",
    ")"
   ]
  },
  {
   "attachments": {},
   "cell_type": "markdown",
   "metadata": {},
   "source": [
    "__Simulate the reactor__"
   ]
  },
  {
   "cell_type": "code",
   "execution_count": 21,
   "metadata": {},
   "outputs": [],
   "source": [
    "simulation_result = pfr.simulate(\n",
    "    grid_size=100,\n",
    "    tol=0.001,\n",
    "    max_nodes=1000,\n",
    ")"
   ]
  },
  {
   "attachments": {},
   "cell_type": "markdown",
   "metadata": {},
   "source": [
    "__Ploting results__"
   ]
  },
  {
   "cell_type": "code",
   "execution_count": 22,
   "metadata": {},
   "outputs": [
    {
     "data": {
      "image/png": "[encoded data removed]",
      "text/plain": [
       "<Figure size 640x480 with 1 Axes>"
      ]
     },
     "metadata": {},
     "output_type": "display_data"
    }
   ],
   "source": [
    "reactor_volume_nodes = simulation_result.x\n",
    "\n",
    "dependent_variables = simulation_result.y\n",
    "\n",
    "molar_flow_A = dependent_variables[0, :]\n",
    "molar_flow_B = dependent_variables[1, :]\n",
    "temperature = dependent_variables[2, :]\n",
    "pressure = dependent_variables[3, :]\n",
    "\n",
    "plt.plot(reactor_volume_nodes, molar_flow_A, label=\"Molar flow A [mol/s]\")\n",
    "plt.plot(reactor_volume_nodes, molar_flow_B, label=\"Molar flow B [mol/s]\")\n",
    "\n",
    "plt.xlabel(\"PFR's volume $[m^3]$\")\n",
    "plt.ylabel(\"Molar flow [mol/s]\")\n",
    "\n",
    "plt.legend()\n",
    "plt.show()"
   ]
  }
 ],
 "metadata": {
  "kernelspec": {
   "display_name": "reactord",
   "language": "python",
   "name": "python3"
  },
  "language_info": {
   "codemirror_mode": {
    "name": "ipython",
    "version": 3
   },
   "file_extension": ".py",
   "mimetype": "text/x-python",
   "name": "python",
   "nbconvert_exporter": "python",
   "pygments_lexer": "ipython3",
   "version": "3.10.6"
  },
  "orig_nbformat": 4,
  "vscode": {
   "interpreter": {
    "hash": "44eb91f73ea2661bbbecc9f77111c56822635f905b8a2c5d2c14405903be0d49"
   }
  }
 },
 "nbformat": 4,
 "nbformat_minor": 2
}
