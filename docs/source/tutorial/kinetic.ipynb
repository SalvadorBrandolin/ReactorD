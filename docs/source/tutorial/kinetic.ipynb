{
 "cells": [
  {
   "attachments": {},
   "cell_type": "markdown",
   "metadata": {},
   "source": [
    "## Kinetic objects\n",
    "The Kinetic class is responsible for calculating reaction rates and reaction enthalpies when solving the reactor equations."
   ]
  },
  {
   "cell_type": "code",
   "execution_count": 1,
   "metadata": {},
   "outputs": [],
   "source": [
    "import numpy as np\n",
    "\n",
    "import reactord as rd"
   ]
  },
  {
   "attachments": {},
   "cell_type": "markdown",
   "metadata": {},
   "source": [
    "We will use an example to illustrate its functionality. First, we will define two rate constants and the volume of the reactor."
   ]
  },
  {
   "cell_type": "code",
   "execution_count": 2,
   "metadata": {},
   "outputs": [],
   "source": [
    "# Reaction 1 (constant with temperature)\n",
    "kd = 0.1 / 3600 / 0.001  # m⁶/s/mol²\n",
    "ki = 0.05 / 3600 / 0.001  # 1/s\n",
    "\n",
    "# Reaction 2 (variable with temperature)\n",
    "a2 = 0.15 / 3600 / 0.001  # 1/s\n",
    "e2 = 1000 # K"
   ]
  },
  {
   "attachments": {},
   "cell_type": "markdown",
   "metadata": {},
   "source": [
    "#### Reaction rate\n",
    "\n",
    "Next, we set the reaction rates, which are defined by python function with the format:\n",
    "\n",
    "```python\n",
    "def reaction_rate(\n",
    "    composition: reactord.substance.CompositionalArgument, \n",
    "    temperature: float, \n",
    "    kinetics_constants: dict\n",
    ") -> float:\n",
    "    # calculation of the reaction rate \n",
    "    return evaluated_reaction_rate\n",
    "```"
   ]
  },
  {
   "attachments": {},
   "cell_type": "markdown",
   "metadata": {},
   "source": [
    "The rate laws are defined as functions. for example, given the hypothetical reactions:\n",
    "$$\n",
    "2A + B \\leftrightarrow C\n",
    "$$\n",
    "\n",
    "$$\n",
    "C \\rightarrow D\n",
    "$$\n",
    "\n",
    "Where the first one is a reversible reaction and the second is irreversible, \n",
    "and both are elemental and function of the substrates concentrations [mol/m³].\n",
    "Also we have the data that, for the firs reaction, the rate of consumption of\n",
    "A is:\n",
    "\n",
    "$$r_A = k_d C_A^2 C_B - k_i C_C$$\n",
    "\n",
    "And the rate of consumption of C en the second reaction is:\n",
    "\n",
    "$$r_2 = a_2 e^{-e_2 / T} C_C$$\n",
    "\n",
    "Since we have the reaction rate for the consumption of A in the first reaction.\n",
    "We have to fix the stoichiometry to 1 for A:\n",
    "\n",
    "$$\n",
    "A + \\frac{1}{2} B \\leftrightarrow \\frac{1}{2} C\n",
    "$$\n",
    "\n",
    "$$\n",
    "C \\rightarrow D\n",
    "$$\n",
    "\n",
    "Reaction rates are defined positively. ReactorD will automatically detect, for\n",
    "a substrate, if the reaction is positive or negative. Also, in the case of \n",
    "substrate C, would take into acount the production of C by reaction 1 and the\n",
    "consuption of C by reaction 2."
   ]
  },
  {
   "cell_type": "code",
   "execution_count": 3,
   "metadata": {},
   "outputs": [],
   "source": [
    "def r_rate1(concentrations, temperature, cons):\n",
    "    kd, ki = cons[\"kd\"], cons[\"ki\"]\n",
    "    \n",
    "    # IMPORTANT! \"A\", \"B\", \"C\" are the names of our substance objects\n",
    "    ca = concentrations[\"A\"]\n",
    "    cb = concentrations[\"B\"]\n",
    "    cc = concentrations[\"C\"]\n",
    "    \n",
    "    return kd * ca ** 2 * cb - ki * cc\n",
    "\n",
    "\n",
    "def r_rate2(concentrations, temperature, cons):\n",
    "    a2, e2 = cons[\"a2\"], cons[\"e2\"]\n",
    "    \n",
    "    cc = concentrations[\"C\"]\n",
    "\n",
    "    return a2 * np.exp(-e2 / temperature) * cc"
   ]
  },
  {
   "attachments": {},
   "cell_type": "markdown",
   "metadata": {},
   "source": [
    "Note that both function follows the [broadcasting](https://numpy.org/doc/stable/user/basics.broadcasting.html) rules of `Numpy`, this is\n",
    "mandatory.\n",
    "\n",
    "Now we must define out substances. Imagine that all the substances have the \n",
    "same molar volume and it's constant with temperature and pressure:"
   ]
  },
  {
   "cell_type": "code",
   "execution_count": 4,
   "metadata": {},
   "outputs": [],
   "source": [
    "def molar_volume(temperature, pressure):\n",
    "    return np.full(np.size(temperature), 1e-5) # m3/mol"
   ]
  },
  {
   "attachments": {},
   "cell_type": "markdown",
   "metadata": {},
   "source": [
    "Substance objects are instantiated:\n",
    "\n",
    "NOTE THAT THE NAME OF THE SUBSTANCES IS THE SAME USED IN THE REACITON RATES!!!!"
   ]
  },
  {
   "cell_type": "code",
   "execution_count": 5,
   "metadata": {},
   "outputs": [],
   "source": [
    "a = rd.Substance(name=\"A\", volume_liquid=molar_volume)\n",
    "b = rd.Substance(name=\"B\", volume_liquid=molar_volume)\n",
    "c = rd.Substance(name=\"C\", volume_liquid=molar_volume)\n",
    "d = rd.Substance(name=\"D\", volume_liquid=molar_volume)"
   ]
  },
  {
   "attachments": {},
   "cell_type": "markdown",
   "metadata": {},
   "source": [
    "After that, the mixture of the substances is instantiated. In this case, we create an IdealSolution object:"
   ]
  },
  {
   "cell_type": "code",
   "execution_count": 6,
   "metadata": {},
   "outputs": [],
   "source": [
    "mix = rd.mix.IdealSolution([a, b, c, d])"
   ]
  },
  {
   "attachments": {},
   "cell_type": "markdown",
   "metadata": {},
   "source": [
    "Next, the kinetic object is created:"
   ]
  },
  {
   "cell_type": "code",
   "execution_count": 7,
   "metadata": {},
   "outputs": [],
   "source": [
    "kinetic = rd.Kinetic(\n",
    "    mix=mix,\n",
    "    reactions={\n",
    "        \"r1\": {\"eq\": a + 1/2 * b > 1/2 * c, \"rate\": r_rate1},\n",
    "        \"r2\": {\"eq\": c > d, \"rate\": r_rate2},\n",
    "    },\n",
    "    kinetic_constants={\"kd\": kd, \"ki\": ki, \"a2\": a2, \"e2\": e2},\n",
    "    rates_argument=\"concentration\",\n",
    ")"
   ]
  },
  {
   "attachments": {},
   "cell_type": "markdown",
   "metadata": {},
   "source": [
    "What happend there?\n",
    "\n",
    "Kinetic object recieves:\n",
    " * A mix object: it uses the mix object to evaluate the properties of the mixture\n",
    " In this case, molar volume, so concentrations.\n",
    "\n",
    " * A reactions dictionary:\n",
    "    In this paramater we set the stoichiometry of our reactive system. The\n",
    "    format of the dictionary is:\n",
    "\n",
    "    ```python\n",
    "    reaction_dict={\"reaction_name\": {\"eq\": algebraic_expression, \"rate\": rate_function}}\n",
    "    ```\n",
    "\n",
    "    The main keys of the dictionary are the reaction names and are merely \n",
    "    aesthetic.\n",
    "\n",
    "    Then, in the interior dictionaries we have the `\"eq\"` key were we define \n",
    "    the stoichiometry of the reaction by algebraic operation with the \n",
    "    substance objects previously defined.\n",
    "\n",
    "    The `\"rate\"` key is for the reaction rate function of that reaction.\n",
    "\n",
    "    Finally, there is another optional key `\"DH\"` to specify a constant \n",
    "    reaction enthalpy for that reaction (constant with temperature and \n",
    "    pressure). If this key is not specified, ReactorD will try to calculate\n",
    "    the standard reaction enthalpy from the formation enthalpies of the\n",
    "    substances, and as corresponds, correct the value to temperature and\n",
    "    pressure as the mixture object specifies. In this case, our reaction\n",
    "    is isothermic.\n",
    "\n",
    "    Since we have two reactions in our system, we specifies two reaction_dict.\n",
    "\n",
    "* Kinetic constants:\n",
    "    we specify the kinetic constant values with a dictionary. Note that the\n",
    "    kinetic constants have the same name that it were used in the reaction\n",
    "    rate functions previously defined.\n",
    "\n",
    "* Rate argument:\n",
    "    This is the compositional argument of the reaction_rate. The available\n",
    "    compositional arguments in ReactorD are:  \n",
    "\n",
    "    - Concentration $[\\frac {mol} {m^3}]$  \n",
    "    - Partial pressure [Pa]\n",
    "\n",
    "    In this case, our reaction rates are function of the concentration of the\n",
    "    substates, so we choose concentration.\n",
    "\n",
    "\n",
    "Now we can visualy represent the kinetic object:"
   ]
  },
  {
   "cell_type": "code",
   "execution_count": 8,
   "metadata": {},
   "outputs": [
    {
     "data": {
      "text/latex": [
       "$\\displaystyle r1: A + 0.5 B \\rightarrow 0.5 C$"
      ],
      "text/plain": [
       "<IPython.core.display.Math object>"
      ]
     },
     "metadata": {},
     "output_type": "display_data"
    },
    {
     "data": {
      "text/latex": [
       "$\\displaystyle r2: C \\rightarrow D$"
      ],
      "text/plain": [
       "<IPython.core.display.Math object>"
      ]
     },
     "metadata": {},
     "output_type": "display_data"
    }
   ],
   "source": [
    "kinetic.irepr"
   ]
  },
  {
   "attachments": {},
   "cell_type": "markdown",
   "metadata": {},
   "source": [
    "Also we can obtain the stoichiometric matrix of our system:"
   ]
  },
  {
   "cell_type": "code",
   "execution_count": 9,
   "metadata": {},
   "outputs": [
    {
     "data": {
      "text/plain": [
       "array([[-1. , -0.5,  0.5,  0. ],\n",
       "       [ 0. ,  0. , -1. ,  1. ]])"
      ]
     },
     "execution_count": 9,
     "metadata": {},
     "output_type": "execute_result"
    }
   ],
   "source": [
    "kinetic.stoichiometry"
   ]
  },
  {
   "attachments": {},
   "cell_type": "markdown",
   "metadata": {},
   "source": [
    "This is why the reaction rates are defined positively. ReactorD will aply that\n",
    "stoichiometry matrix to our reaction rates."
   ]
  },
  {
   "attachments": {},
   "cell_type": "markdown",
   "metadata": {},
   "source": [
    "### Evaluating the kinetic\n",
    "\n",
    "now we can evaluate both reaction rates at once, but we must specifie a mole\n",
    "composition for our substances:"
   ]
  },
  {
   "cell_type": "code",
   "execution_count": 10,
   "metadata": {},
   "outputs": [
    {
     "data": {
      "text/plain": [
       "array([4.34027777e+11, 3.84700593e+01])"
      ]
     },
     "execution_count": 10,
     "metadata": {},
     "output_type": "execute_result"
    }
   ],
   "source": [
    "moles = np.array([10, 10, 5, 5])\n",
    "\n",
    "mole_fractions = mix.mole_fractions(moles)\n",
    "\n",
    "temperature = 303.15\n",
    "pressure = 101325\n",
    "\n",
    "kinetic.evaluate(mole_fractions, temperature, pressure)"
   ]
  },
  {
   "attachments": {},
   "cell_type": "markdown",
   "metadata": {},
   "source": [
    "### Constant Reaction enthalpy\n",
    "\n",
    "To define a constant reaction enthalpy for our reaction we can set that the\n",
    "first one is endothermic and has a value of 10,000 $\\frac{J}{mol_A}$.\n",
    "The second one is exothermic and the value of the reaciton enthalpy is\n",
    "-20,000 $\\frac{J}{mol_C}$."
   ]
  },
  {
   "cell_type": "code",
   "execution_count": 11,
   "metadata": {},
   "outputs": [],
   "source": [
    "kinetic = rd.Kinetic(\n",
    "    mix=mix,\n",
    "    reactions={\n",
    "        \"r1\": {\"eq\": a + 1/2 * b > 1/2 * c, \"rate\": r_rate1, \"DH\": 10_000},\n",
    "        \"r2\": {\"eq\": c > d, \"rate\": r_rate2, \"DH\": -20_000},\n",
    "    },\n",
    "    kinetic_constants={\"kd\": kd, \"ki\": ki, \"a2\": a2, \"e2\": e2},\n",
    "    rates_argument=\"concentration\",\n",
    ")"
   ]
  },
  {
   "attachments": {},
   "cell_type": "markdown",
   "metadata": {},
   "source": [
    "We must initiate the reaciton enthalpy of our kinetic. This will be automatically\n",
    "done for the reactors that needs this value. This features prevents that\n",
    "the reactor search for values like heat capacities maybe not defined by the user\n",
    "because, for example, the user want's to simulate an isothermic reactor and \n",
    "the heat capacities are not needed."
   ]
  },
  {
   "cell_type": "code",
   "execution_count": 12,
   "metadata": {},
   "outputs": [
    {
     "data": {
      "text/plain": [
       "array([[ 10000],\n",
       "       [-20000]])"
      ]
     },
     "execution_count": 12,
     "metadata": {},
     "output_type": "execute_result"
    }
   ],
   "source": [
    "kinetic.set_dh_function()\n",
    "\n",
    "kinetic.dhs_evaluate(temperature, pressure)"
   ]
  },
  {
   "attachments": {},
   "cell_type": "markdown",
   "metadata": {},
   "source": [
    "With constant reaction enthalpies, doesn't matter the temperature or pressure,\n",
    "the return value will remain constant."
   ]
  },
  {
   "cell_type": "code",
   "execution_count": 13,
   "metadata": {},
   "outputs": [
    {
     "data": {
      "text/plain": [
       "array([[ 10000,  10000,  10000,  10000],\n",
       "       [-20000, -20000, -20000, -20000]])"
      ]
     },
     "execution_count": 13,
     "metadata": {},
     "output_type": "execute_result"
    }
   ],
   "source": [
    "temperatures = np.array([300, 400, 500, 600])\n",
    "\n",
    "pressures = np.array([100_000, 100_000, 100_000, 100_000])\n",
    "\n",
    "kinetic.dhs_evaluate(temperatures, pressures)"
   ]
  },
  {
   "attachments": {},
   "cell_type": "markdown",
   "metadata": {},
   "source": [
    "### Variable reaction enthalpies\n",
    "\n",
    "Now a full example with variable reaction enthalpies.\n",
    "\n",
    "Consider the combustion of methane and ethane in gas pahse with nitrogen as\n",
    "inert.\n",
    "\n",
    "$$\n",
    "CH_4 + 2 O_2 \\rightarrow CO_2 + 2 H_2O\n",
    "$$\n",
    "\n",
    "$$\n",
    "C_2H_6 + \\frac{7}{2} O_2 \\rightarrow 2 CO_2 + 3 H_2O \n",
    "$$\n",
    "\n",
    "For the example are used toy reaction rates.\n",
    "\n",
    "For the calculation of the reaction enthalpies are necessary the standard \n",
    "ideal gas formation enthalpies of all the substrates, and the ideal gas \n",
    "heat capacities. For our luck, we can take them from the thermo library.\n"
   ]
  },
  {
   "cell_type": "code",
   "execution_count": 18,
   "metadata": {},
   "outputs": [],
   "source": [
    "# =============================================================================\n",
    "# Substances\n",
    "# =============================================================================\n",
    "ch4 = rd.Substance.from_thermo_database(\"ch4\", \"methane\")\n",
    "o2 = rd.Substance.from_thermo_database(\"o2\", \"oxygen\")\n",
    "co2 = rd.Substance.from_thermo_database(\"co2\", \"carbon dioxide\")\n",
    "h2o = rd.Substance.from_thermo_database(\"h2o\", \"water\")\n",
    "c2h6 = rd.Substance.from_thermo_database(\"c2h6\", \"ethane\")\n",
    "# DON'T FORGET THE INERT ;)\n",
    "n2 = rd.Substance.from_thermo_database(\"n2\", \"nitrogen\")\n",
    "\n",
    "# =============================================================================\n",
    "# Mixture: now a ideal gas\n",
    "# =============================================================================\n",
    "mix = rd.mix.IdealGas([ch4, o2, co2, h2o, c2h6, n2])\n",
    "\n",
    "# =============================================================================\n",
    "# Reaction rates\n",
    "# =============================================================================\n",
    "def r1(c, t, cons):\n",
    "    k1 = cons[\"k1\"]\n",
    "    c_ch4, c_o2 = c[\"ch4\"], c[\"o2\"]\n",
    "    \n",
    "    return k1 * c_ch4 * c_o2\n",
    "\n",
    "def r2(c, t, cons):\n",
    "    k2 = cons[\"k2\"]\n",
    "    c_c2h6, c_o2 = c[\"c2h6\"], c[\"o2\"]\n",
    "    \n",
    "    return k2 * c_c2h6 * c_o2\n",
    "\n",
    "# =============================================================================\n",
    "# Kinetic object\n",
    "# =============================================================================\n",
    "kinetic = rd.Kinetic(\n",
    "    mix=mix,\n",
    "    reactions={\n",
    "        \"r1\": {\"eq\": ch4 + 2 * o2 > co2 + 2 * h2o, \"rate\": r1},\n",
    "        \"r2\": {\"eq\": c2h6 + 7/2 * o2 > 2 * co2 + 3 * h2o, \"rate\": r2}\n",
    "    },\n",
    "    kinetic_constants={\"k1\": 1e-5, \"k2\": 1e-6},\n",
    "    rates_argument=\"concentration\" \n",
    ")\n",
    "\n",
    "# Start the reaction enthalpy function\n",
    "kinetic.set_dh_function()"
   ]
  },
  {
   "cell_type": "code",
   "execution_count": 16,
   "metadata": {},
   "outputs": [
    {
     "data": {
      "text/plain": [
       "array([[-1. , -2. ,  1. ,  2. ,  0. ,  0. ],\n",
       "       [ 0. , -3.5,  2. ,  3. , -1. ,  0. ]])"
      ]
     },
     "execution_count": 16,
     "metadata": {},
     "output_type": "execute_result"
    }
   ],
   "source": [
    "kinetic.stoichiometry"
   ]
  },
  {
   "cell_type": "code",
   "execution_count": 21,
   "metadata": {},
   "outputs": [
    {
     "data": {
      "text/plain": [
       "array([[6.84754527e-05, 1.20128216e-04, 4.43928451e-05],\n",
       "       [2.73901811e-05, 1.60170955e-05, 8.32365845e-06]])"
      ]
     },
     "execution_count": 21,
     "metadata": {},
     "output_type": "execute_result"
    }
   ],
   "source": [
    "moles = np.array(\n",
    "    [\n",
    "        [10, 15, 16], # ch4 moles\n",
    "        [20, 10, 16], # o2 moles\n",
    "        [50, 20, 30], # co2 moles\n",
    "        [0, 20, 15], # h2o moles\n",
    "        [40, 20, 30], # c2h6 moles\n",
    "        [10, 0, 30] # n2 moles\n",
    "    ]\n",
    ")\n",
    "\n",
    "mole_fractions = mix.mole_fractions(moles)\n",
    "temperatures = np.array([500, 1000, 2000])\n",
    "pressures = np.array([100_000, 200_000, 300_000])\n",
    "\n",
    "\n",
    "kinetic.evaluate(mole_fractions, temperatures, pressures)"
   ]
  },
  {
   "cell_type": "code",
   "execution_count": 22,
   "metadata": {},
   "outputs": [
    {
     "data": {
      "text/plain": [
       "array([[ -800832.99199485,  -801075.31914692,  -809803.25400112],\n",
       "       [-1425727.62523699, -1427790.25945566, -1443262.71596654]])"
      ]
     },
     "execution_count": 22,
     "metadata": {},
     "output_type": "execute_result"
    }
   ],
   "source": [
    "kinetic.dhs_evaluate(temperatures, pressures)"
   ]
  }
 ],
 "metadata": {
  "kernelspec": {
   "display_name": "reactord",
   "language": "python",
   "name": "python3"
  },
  "language_info": {
   "codemirror_mode": {
    "name": "ipython",
    "version": 3
   },
   "file_extension": ".py",
   "mimetype": "text/x-python",
   "name": "python",
   "nbconvert_exporter": "python",
   "pygments_lexer": "ipython3",
   "version": "3.10.6"
  },
  "orig_nbformat": 4,
  "vscode": {
   "interpreter": {
    "hash": "0da960acde017608603fcb155815528bc626e42a5841520214e4e02be5770591"
   }
  }
 },
 "nbformat": 4,
 "nbformat_minor": 2
}
