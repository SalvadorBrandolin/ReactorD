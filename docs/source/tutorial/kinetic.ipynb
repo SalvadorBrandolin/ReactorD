{
 "cells": [
  {
   "attachments": {},
   "cell_type": "markdown",
   "metadata": {},
   "source": [
    "## Kinetic\n",
    "The Kinetic class is responsible for calculating reaction rates and reaction enthalpies when solving the reactor equations."
   ]
  },
  {
   "cell_type": "code",
   "execution_count": 1,
   "metadata": {},
   "outputs": [],
   "source": [
    "import numpy as np\n",
    "\n",
    "import reactord as rd"
   ]
  },
  {
   "attachments": {},
   "cell_type": "markdown",
   "metadata": {},
   "source": [
    "We will use an example to illustrate its functionality. First, we will define two rate constants and the volume of the reactor."
   ]
  },
  {
   "cell_type": "code",
   "execution_count": 2,
   "metadata": {},
   "outputs": [],
   "source": [
    "# Problem data:\n",
    "k1 = 0.05 / 3600 / 0.001  # mol/s/m3\n",
    "k2 = 0.15 / 3600 / 0.001  # mol/s/m3\n",
    "\n",
    "v_pfr = 99 * 0.001  # m3"
   ]
  },
  {
   "attachments": {},
   "cell_type": "markdown",
   "metadata": {},
   "source": [
    "#### Reaction rate\n",
    "\n",
    "Next, we set the reaction rates, which are defined by python function with the format:\n",
    "\n",
    "```python\n",
    "def reaction_rate(\n",
    "    composition: CompositionalArgument, \n",
    "    temperature: float, \n",
    "    kinetics_constants: dict\n",
    ") -> float:\n",
    "    # calculation of the reaction rate \n",
    "    return evaluated_reaction_rate\n",
    "```\n",
    "\n",
    "Composition is the compositional argument of the reaction_rate. The available\n",
    "compositional arguments in ReactorD are:  \n",
    "\n",
    "- Concentration $[\\frac {mol} {m^3}]$  \n",
    "- Partial pressure [Pa]\n",
    "\n",
    "The desired compositional argument is selected in the reactor's definition with\n",
    "the argument \"rates_argument\". \n",
    "\n",
    "If Concentrationtion is selected as the compositional argument, ReactorD will \n",
    "evaluate the ```reaction_rate``` in the concentrations of all the mixture's\n",
    "substances and the temperature. "
   ]
  },
  {
   "attachments": {},
   "cell_type": "markdown",
   "metadata": {},
   "source": [
    "The rate laws are defined as functions. for example, given the hypothetical (and unbalanced) reactions:\n",
    "$$\n",
    "H_2O_2 \\rightarrow H_2O \n",
    "$$\n",
    "$$\n",
    "H_2O_2 + C_2H_5OH \\rightarrow C_2H_4O + 2  H_2O\n",
    "$$\n",
    "\n",
    "where the first reaction is first-order with respect to $H_2O_2$. The second reaction is also first-order with respect to $H_2O_2$ and $C_2H_5OH$. The rate laws for the reactions are defined as follows (in this case, they are defined as not dependent on temperature):"
   ]
  },
  {
   "cell_type": "code",
   "execution_count": 3,
   "metadata": {},
   "outputs": [],
   "source": [
    "def r_rate1(concentrations, temperature, cons):\n",
    "    return np.full(np.size(temperature), cons[\"k1\"] * concentrations[\"h2o2\"])\n",
    "\n",
    "\n",
    "def r_rate2(concentrations, temperature, cons):\n",
    "    return np.full(\n",
    "        np.size(temperature),\n",
    "        cons[\"k2\"] * concentrations[\"h2o2\"] * concentrations[\"meoh\"],\n",
    "    )"
   ]
  },
  {
   "attachments": {},
   "cell_type": "markdown",
   "metadata": {},
   "source": [
    "In these functions, the variable 'c' represents a dictionary that holds the concentrations of the different compounds involved. The variable 'cons' is a dictionary that contains the rate constants for each reaction. This dictionary could contain Arrhenius constant as fallow to value the reaction rate in different temperatures.\n",
    "```python\n",
    "def reaction_rate1(composition, temperature, constants):\n",
    "    Arr, e= constants[\"Arrhenius\"], constants[\"activation energy\"]\n",
    "\n",
    "    rate = Arr* np.exp(e / R * (1 / temperature))*composition[\"A\"]*composition[\"B\"]\n",
    "\n",
    "    return np.full(np.size(temperature), rate)\n",
    "```"
   ]
  },
  {
   "attachments": {},
   "cell_type": "markdown",
   "metadata": {},
   "source": [
    "Substance objects are instantiated:"
   ]
  },
  {
   "cell_type": "code",
   "execution_count": 4,
   "metadata": {},
   "outputs": [],
   "source": [
    "a = rd.Substance.from_thermo_database(\"meoh\", \"meoh\")\n",
    "b = rd.Substance.from_thermo_database(\"h2o2\", \"h2o\")\n",
    "c = rd.Substance.from_thermo_database(\"formaldehyde\", \"formaldehyde\")\n",
    "d = rd.Substance.from_thermo_database(\"h2o\", \"h2o\")"
   ]
  },
  {
   "attachments": {},
   "cell_type": "markdown",
   "metadata": {},
   "source": [
    "After that, the mixture of the substances is instantiated. In this case, we create an IdealSolution object:"
   ]
  },
  {
   "cell_type": "code",
   "execution_count": 5,
   "metadata": {},
   "outputs": [],
   "source": [
    "mix = rd.mix.IdealSolution([a, b, c, d])"
   ]
  },
  {
   "attachments": {},
   "cell_type": "markdown",
   "metadata": {},
   "source": [
    "Next, the kinetic object is created:"
   ]
  },
  {
   "cell_type": "code",
   "execution_count": 6,
   "metadata": {},
   "outputs": [],
   "source": [
    "kinetic = rd.Kinetic(\n",
    "    mix=mix,\n",
    "    reactions={\n",
    "        \"r1\": {\"eq\": b > d, \"rate\": r_rate1, \"DH\": -5000},\n",
    "        \"r2\": {\"eq\": a + b > c + 2 * d, \"rate\": r_rate2, \"DH\": 2000},\n",
    "    },\n",
    "    kinetic_constants={\"k1\": k1, \"k2\": k2},\n",
    "    rates_argument=\"concentration\",\n",
    ")"
   ]
  },
  {
   "attachments": {},
   "cell_type": "markdown",
   "metadata": {},
   "source": [
    "The required parameters include the mixture object and a dictionary that contains the reactions in the following format:\n",
    "\n",
    "```python\n",
    "reactions={\"reaction_1\": {\"eq\": a > b, \"rate\": r_rate1}, \n",
    "           \"reaction_2\":{\"eq\": x > y, \"rate\": r_rate2}, \n",
    "           ...\n",
    "}\n",
    "```\n",
    "\n",
    "The keywords **\"eq\"** (for equation) and **\"rate\"** (for reaction rate) are required.\n",
    "The keyword **\"DH\"** is used for the enthalpy of reaction and is optional. However,\n",
    "if the enthalpy is set for one reaction, it must be specified for all reactions,\n",
    "otherwise an error will occur.\n",
    "\n",
    "\n",
    "On the other hand, the dictionary kinetic_constants contains the rate constants\n",
    "for the reactions. The keywords for the rate constants can be freely chosen.\n",
    "\n",
    "Finally, the 'rates_argument' parameter can be set as 'concentration' or 'partial pressure', although the default value is 'concentration'. This parameter allows us to specify whether the rate laws are expressed in terms of concentrations or partial pressures."
   ]
  },
  {
   "attachments": {},
   "cell_type": "markdown",
   "metadata": {},
   "source": [
    "The format \"aA + bB > cC + dD\" enables us to visually represent reactions in an aesthetically pleasing LaTeX format. To accomplish this, we utilize the **irepr** property."
   ]
  },
  {
   "cell_type": "code",
   "execution_count": 7,
   "metadata": {},
   "outputs": [
    {
     "data": {
      "text/latex": [
       "$\\displaystyle r1: h2o2 \\rightarrow h2o$"
      ],
      "text/plain": [
       "<IPython.core.display.Math object>"
      ]
     },
     "metadata": {},
     "output_type": "display_data"
    },
    {
     "data": {
      "text/latex": [
       "$\\displaystyle r2: h2o2 + meoh \\rightarrow formaldehyde + 2 h2o$"
      ],
      "text/plain": [
       "<IPython.core.display.Math object>"
      ]
     },
     "metadata": {},
     "output_type": "display_data"
    }
   ],
   "source": [
    "kinetic.irepr"
   ]
  },
  {
   "attachments": {},
   "cell_type": "markdown",
   "metadata": {},
   "source": [
    "The dunder method __len__ has been overriden to provide the number of reactions\n",
    "in the class Kinetic.\n",
    "\n",
    "Furthermore, the dunder method __repr__ return the subtances contained in the mixture and reactions to use in a LaTex format."
   ]
  },
  {
   "cell_type": "code",
   "execution_count": 8,
   "metadata": {},
   "outputs": [
    {
     "name": "stdout",
     "output_type": "stream",
     "text": [
      "Diferent reactions in kinetic: 2\n",
      "Mixture's substances: \n",
      "  * meoh \n",
      "  * h2o2 \n",
      "  * formaldehyde \n",
      "  * h2o \n",
      "\n",
      "System's reactions: \n",
      "r1: h2o2 \\rightarrow h2o \n",
      "r2: h2o2 + meoh \\rightarrow formaldehyde + 2 h2o \n",
      "\n"
     ]
    }
   ],
   "source": [
    "print(f\"Diferent reactions in kinetic: {len(kinetic)}\")\n",
    "print(repr(kinetic))"
   ]
  },
  {
   "attachments": {},
   "cell_type": "markdown",
   "metadata": {},
   "source": [
    "Reaction enthalpies are a property of the class kinetics:"
   ]
  },
  {
   "cell_type": "code",
   "execution_count": 9,
   "metadata": {},
   "outputs": [
    {
     "name": "stdout",
     "output_type": "stream",
     "text": [
      "The reaction enthalpies are: [-5000  2000]\n"
     ]
    }
   ],
   "source": [
    "print(f\"The reaction enthalpies are: {kinetic.user_r_dh}\")"
   ]
  },
  {
   "attachments": {},
   "cell_type": "markdown",
   "metadata": {},
   "source": [
    "However, once the enthalpies are set, they cannot be modified. The following assignation attempt will raise a value error:\n",
    "\n",
    "```python\n",
    "kinetic.user_r_dh = [1000, -500]\n",
    "```\n"
   ]
  },
  {
   "attachments": {},
   "cell_type": "markdown",
   "metadata": {},
   "source": [
    "The 'evaluate' method is utilized by the reactors to calculate reaction rates by utilizing the rate laws and kinetic constants provided as parameters during the creation of the 'Kinetic' object. This method requires molar fractions, temperature, and pressure as additional parameters. "
   ]
  },
  {
   "cell_type": "code",
   "execution_count": 10,
   "metadata": {},
   "outputs": [
    {
     "name": "stdout",
     "output_type": "stream",
     "text": [
      " The individual reaction rates are: \n",
      "[[1.82542826e+02]\n",
      " [2.87901073e+06]]\n"
     ]
    }
   ],
   "source": [
    "moles = [8, 20, 15, 12]\n",
    "mole_fractions = mix.mole_fractions(moles)\n",
    "temperature = 300  # K\n",
    "pressure = 500_000  # Pa\n",
    "\n",
    "print(\n",
    "    f\" The individual reaction rates are: \\n\\\n",
    "{kinetic.evaluate(mole_fractions, temperature, pressure)}\"\n",
    ")"
   ]
  },
  {
   "attachments": {},
   "cell_type": "markdown",
   "metadata": {},
   "source": [
    "Likewise, the 'dhs_evaluate' method calculates the enthalpies of each reaction. These functions are primarily established through the 'set_dh_function()' method. They are particularly valuable in scenarios where the reactor temperature varies rather than remaining constant."
   ]
  },
  {
   "cell_type": "code",
   "execution_count": 11,
   "metadata": {},
   "outputs": [
    {
     "name": "stdout",
     "output_type": "stream",
     "text": [
      "Enthalpy at 300 K and 500000 Pa: \n",
      "[[-5000]\n",
      " [ 2000]]\n"
     ]
    }
   ],
   "source": [
    "kinetic.set_dh_function()\n",
    "print(\n",
    "    f\"Enthalpy at {temperature} K and {pressure} Pa: \\n{kinetic.dhs_evaluate(temperature, pressure)}\"\n",
    ")"
   ]
  }
 ],
 "metadata": {
  "kernelspec": {
   "display_name": "reactord",
   "language": "python",
   "name": "python3"
  },
  "language_info": {
   "codemirror_mode": {
    "name": "ipython",
    "version": 3
   },
   "file_extension": ".py",
   "mimetype": "text/x-python",
   "name": "python",
   "nbconvert_exporter": "python",
   "pygments_lexer": "ipython3",
   "version": "3.10.6"
  },
  "orig_nbformat": 4,
  "vscode": {
   "interpreter": {
    "hash": "0da960acde017608603fcb155815528bc626e42a5841520214e4e02be5770591"
   }
  }
 },
 "nbformat": 4,
 "nbformat_minor": 2
}
