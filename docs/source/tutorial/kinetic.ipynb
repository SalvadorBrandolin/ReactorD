{
 "cells": [
  {
   "cell_type": "code",
   "execution_count": 11,
   "metadata": {},
   "outputs": [],
   "source": [
    "import numpy as np\n",
    "\n",
    "import reactord as rd"
   ]
  },
  {
   "attachments": {},
   "cell_type": "markdown",
   "metadata": {},
   "source": [
    "The Kinetic class is responsible for calculating reaction rates and reaction enthalpies in solving the reactor equations. We will use an example to demonstrate how it functions. We start defining two kinetic constants and the reactor volume."
   ]
  },
  {
   "cell_type": "code",
   "execution_count": 12,
   "metadata": {},
   "outputs": [],
   "source": [
    "# Problem data:\n",
    "k1 = 0.05 / 3600 / 0.001  # mol/s/m3\n",
    "k2 = 0.15 / 3600 / 0.001  # mol/s/m3\n",
    "\n",
    "v_pfr = 99 * 0.001  # m3"
   ]
  },
  {
   "attachments": {},
   "cell_type": "markdown",
   "metadata": {},
   "source": [
    "The rate laws are defined as functions:"
   ]
  },
  {
   "cell_type": "code",
   "execution_count": 13,
   "metadata": {},
   "outputs": [],
   "source": [
    "def r_rate1(c, t, cons):\n",
    "    return np.full(np.size(t), cons[\"k1\"])\n",
    "\n",
    "\n",
    "def r_rate2(c, t, cons):\n",
    "    return np.full(np.size(t), cons[\"k2\"])"
   ]
  },
  {
   "attachments": {},
   "cell_type": "markdown",
   "metadata": {},
   "source": [
    "Substance objects are created first:"
   ]
  },
  {
   "cell_type": "code",
   "execution_count": 14,
   "metadata": {},
   "outputs": [],
   "source": [
    "a = rd.Substance.from_thermo_database(\"meoh\", \"meoh\")\n",
    "b = rd.Substance.from_thermo_database(\"h2o2\", \"h2o\")\n",
    "c = rd.Substance.from_thermo_database(\"formaldehyde\", \"formaldehyde\")\n",
    "d = rd.Substance.from_thermo_database(\"h2o\", \"h2o\")"
   ]
  },
  {
   "attachments": {},
   "cell_type": "markdown",
   "metadata": {},
   "source": [
    "After that, the mixture of the substances is instantiated. In this case, we create an IdealSolution object:"
   ]
  },
  {
   "cell_type": "code",
   "execution_count": 15,
   "metadata": {},
   "outputs": [],
   "source": [
    "mix = rd.mix.IdealSolution([a, b, c, d])"
   ]
  },
  {
   "attachments": {},
   "cell_type": "markdown",
   "metadata": {},
   "source": [
    "Next, the kinetic object is instantiated:"
   ]
  },
  {
   "cell_type": "code",
   "execution_count": 16,
   "metadata": {},
   "outputs": [],
   "source": [
    "kinetic = rd.Kinetic(\n",
    "    mix=mix,\n",
    "    reactions={\n",
    "        \"r1\": {\"eq\": b > d, \"rate\": r_rate1, \"DH\": -5000},\n",
    "        \"r2\": {\"eq\": a + b > (c + 2 * d), \"rate\": r_rate2, \"DH\": 2000},\n",
    "    },\n",
    "    kinetic_constants={\"k1\": k1, \"k2\": k2},\n",
    "    rates_argument=\"concentration\",\n",
    ")"
   ]
  },
  {
   "attachments": {},
   "cell_type": "markdown",
   "metadata": {},
   "source": [
    "The required parameters include the mixture object and a dictionary that contains the reactions in the following format:\n",
    "\n",
    "reactions={\"reaction_1\": {**\"eq\"**: a > b, **\"rate\"**: r_rate1}, \n",
    "           \"reaction_2\":{**\"eq\"**: x > y, **\"rate\"**: r_rate2}...}\n",
    "\n",
    "The keywords **\"eq\"** (for equation) and **\"rate\"** (for reaction rate) are required.\n",
    "The keyword **\"DH\"** is used for the enthalpy of reaction and is optional. However,\n",
    "if the enthalpy is set for one reaction, it must be specified for all reactions,\n",
    "otherwise an error will occur.\n",
    "\n",
    "\n",
    "On the other hand, the dictionary kinetic_constants contains the rate constants\n",
    "for the reactions. The keywords for the rate constants can be freely chosen.\n",
    "\n",
    "Finally, the 'rates_argument' parameter can be set as 'concentration' or 'partial pressure', although the default value is 'concentration'. This parameter allows us to specify whether the rate laws are expressed in terms of concentrations or partial pressures."
   ]
  },
  {
   "attachments": {},
   "cell_type": "markdown",
   "metadata": {},
   "source": [
    "The format \"aA + bB > cC + dD\" enables us to visually represent reactions in an aesthetically pleasing LaTeX format. To accomplish this, we utilize the **irepr** property."
   ]
  },
  {
   "cell_type": "code",
   "execution_count": 17,
   "metadata": {},
   "outputs": [
    {
     "data": {
      "text/latex": [
       "$\\displaystyle r1: h2o2 \\rightarrow h2o$"
      ],
      "text/plain": [
       "<IPython.core.display.Math object>"
      ]
     },
     "metadata": {},
     "output_type": "display_data"
    },
    {
     "data": {
      "text/latex": [
       "$\\displaystyle r2: h2o2 + meoh \\rightarrow formaldehyde + 2 h2o$"
      ],
      "text/plain": [
       "<IPython.core.display.Math object>"
      ]
     },
     "metadata": {},
     "output_type": "display_data"
    }
   ],
   "source": [
    "kinetic.irepr"
   ]
  },
  {
   "attachments": {},
   "cell_type": "markdown",
   "metadata": {},
   "source": [
    "The dunder method __len__ has been overriden to provide the number of reactions\n",
    "in the class Kinetic.\n",
    "\n",
    "Furthermore, the dunder method __repr__ return the subtances contained in the mixture."
   ]
  },
  {
   "cell_type": "code",
   "execution_count": 18,
   "metadata": {},
   "outputs": [
    {
     "name": "stdout",
     "output_type": "stream",
     "text": [
      "Diferent reactions in kinetic: 2\n",
      "Mixture's substances: \n",
      "  * meoh \n",
      "  * h2o2 \n",
      "  * formaldehyde \n",
      "  * h2o \n",
      "\n",
      "System's reactions: \n",
      "r1: h2o2 \\rightarrow h2o \n",
      "r2: h2o2 + meoh \\rightarrow formaldehyde + 2 h2o \n",
      "\n"
     ]
    }
   ],
   "source": [
    "print(f\"Diferent reactions in kinetic: {len(kinetic)}\")\n",
    "print(kinetic.__repr__())"
   ]
  },
  {
   "attachments": {},
   "cell_type": "markdown",
   "metadata": {},
   "source": [
    "Reaction enthalpies are a property of the class kinetics:"
   ]
  },
  {
   "cell_type": "code",
   "execution_count": 19,
   "metadata": {},
   "outputs": [
    {
     "name": "stdout",
     "output_type": "stream",
     "text": [
      "The reaction enthalpies are: [-5000  2000]\n"
     ]
    }
   ],
   "source": [
    "print(f\"The reaction enthalpies are: {kinetic.user_r_dh}\")"
   ]
  },
  {
   "attachments": {},
   "cell_type": "markdown",
   "metadata": {},
   "source": [
    "However, once the enthalpies are set, they cannot be modified. The following statement will raise a value error:"
   ]
  },
  {
   "cell_type": "code",
   "execution_count": 20,
   "metadata": {},
   "outputs": [
    {
     "ename": "ValueError",
     "evalue": "User reaction enthalpies are not mutable, instantiate a new kinetic object.",
     "output_type": "error",
     "traceback": [
      "\u001b[0;31m---------------------------------------------------------------------------\u001b[0m",
      "\u001b[0;31mValueError\u001b[0m                                Traceback (most recent call last)",
      "Cell \u001b[0;32mIn[20], line 1\u001b[0m\n\u001b[0;32m----> 1\u001b[0m kinetic\u001b[39m.\u001b[39;49muser_r_dh \u001b[39m=\u001b[39m [\u001b[39m1000\u001b[39m, \u001b[39m-\u001b[39m\u001b[39m500\u001b[39m]\n",
      "File \u001b[0;32m~/Escritorio/SoftwareDevelopment/ReactorD/reactord/kinetic/kinetic.py:64\u001b[0m, in \u001b[0;36mKinetic.user_r_dh\u001b[0;34m(self, new_dhs)\u001b[0m\n\u001b[1;32m     62\u001b[0m \u001b[39m@user_r_dh\u001b[39m\u001b[39m.\u001b[39msetter\n\u001b[1;32m     63\u001b[0m \u001b[39mdef\u001b[39;00m \u001b[39muser_r_dh\u001b[39m(\u001b[39mself\u001b[39m, new_dhs: NDArray):\n\u001b[0;32m---> 64\u001b[0m     \u001b[39mraise\u001b[39;00m \u001b[39mValueError\u001b[39;00m(\n\u001b[1;32m     65\u001b[0m         \u001b[39m\"\u001b[39m\u001b[39mUser reaction enthalpies are not mutable, instantiate a new \u001b[39m\u001b[39m\"\u001b[39m\n\u001b[1;32m     66\u001b[0m         \u001b[39m\"\u001b[39m\u001b[39mkinetic object.\u001b[39m\u001b[39m\"\u001b[39m\n\u001b[1;32m     67\u001b[0m     )\n",
      "\u001b[0;31mValueError\u001b[0m: User reaction enthalpies are not mutable, instantiate a new kinetic object."
     ]
    }
   ],
   "source": [
    "kinetic.user_r_dh = [1000, -500]"
   ]
  },
  {
   "attachments": {},
   "cell_type": "markdown",
   "metadata": {},
   "source": [
    "The 'evaluate' method is utilized by the reactors to calculate reaction rates by utilizing the rate laws and kinetic constants provided as parameters during the creation of the 'Kinetic' object. This method requires molar fractions, temperature, and pressure as additional parameters. "
   ]
  },
  {
   "cell_type": "code",
   "execution_count": 21,
   "metadata": {},
   "outputs": [
    {
     "name": "stdout",
     "output_type": "stream",
     "text": [
      " The individual reaction rates are: \n",
      "[[0.01388889]\n",
      " [0.04166667]]\n"
     ]
    }
   ],
   "source": [
    "moles = [8, 20, 15, 12]\n",
    "mole_fractions = mix.mole_fractions(moles)\n",
    "temperature = 300  # K\n",
    "pressure = 500_000  # Pa\n",
    "\n",
    "print(\n",
    "    f\" The individual reaction rates are: \\n\\\n",
    "{kinetic.evaluate(mole_fractions, temperature, pressure)}\"\n",
    ")"
   ]
  },
  {
   "attachments": {},
   "cell_type": "markdown",
   "metadata": {},
   "source": [
    "Likewise, the 'dhs_evaluate' method calculates the enthalpies of each reaction. These functions are primarily established through the 'set_dh_function()' method. They are particularly valuable in scenarios where the reactor temperature varies rather than remaining constant."
   ]
  },
  {
   "cell_type": "code",
   "execution_count": 26,
   "metadata": {},
   "outputs": [
    {
     "name": "stdout",
     "output_type": "stream",
     "text": [
      "Enthalpy at 300 K and 500000 Pa: \n",
      "[[-5000]\n",
      " [ 2000]]\n"
     ]
    }
   ],
   "source": [
    "kinetic.set_dh_function()\n",
    "print(\n",
    "    f\"Enthalpy at {temperature} K and {pressure} Pa: \\n{kinetic.dhs_evaluate(temperature, pressure)}\"\n",
    ")"
   ]
  }
 ],
 "metadata": {
  "kernelspec": {
   "display_name": "reactord",
   "language": "python",
   "name": "python3"
  },
  "language_info": {
   "codemirror_mode": {
    "name": "ipython",
    "version": 3
   },
   "file_extension": ".py",
   "mimetype": "text/x-python",
   "name": "python",
   "nbconvert_exporter": "python",
   "pygments_lexer": "ipython3",
   "version": "3.10.6"
  },
  "orig_nbformat": 4,
  "vscode": {
   "interpreter": {
    "hash": "0da960acde017608603fcb155815528bc626e42a5841520214e4e02be5770591"
   }
  }
 },
 "nbformat": 4,
 "nbformat_minor": 2
}
