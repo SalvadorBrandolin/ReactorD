{
 "cells": [
  {
   "cell_type": "code",
   "execution_count": 5,
   "metadata": {},
   "outputs": [],
   "source": [
    "import numpy as np\n",
    "\n",
    "import reactord as rd"
   ]
  },
  {
   "cell_type": "code",
   "execution_count": 33,
   "metadata": {},
   "outputs": [],
   "source": [
    "def r_rate1(c, t, cons):\n",
    "    return np.full(np.size(t), cons[\"k1\"])\n",
    "\n",
    "def r_rate2(c, t, cons):\n",
    "    return np.full(np.size(t), cons[\"k2\"])"
   ]
  },
  {
   "cell_type": "code",
   "execution_count": 34,
   "metadata": {},
   "outputs": [],
   "source": [
    "  # Problem data\n",
    "fa_in = 5 / 3600  # mol/s\n",
    "f_volumetric = 10 * 0.001 / 60  # m3/s\n",
    "\n",
    "k1 = 0.05 / 3600 / 0.001  # mol/s/m3\n",
    "k2 = 0.15 / 3600 / 0.001  # mol/s/m3\n",
    "\n",
    "v_pfr = 99 * 0.001  # m3"
   ]
  },
  {
   "attachments": {},
   "cell_type": "markdown",
   "metadata": {},
   "source": [
    "We create some substances first:"
   ]
  },
  {
   "cell_type": "code",
   "execution_count": 35,
   "metadata": {},
   "outputs": [],
   "source": [
    "a = rd.Substance(name=\"A\")\n",
    "b = rd.Substance(name=\"B\")\n",
    "c = rd.Substance(name=\"C\")\n",
    "d = rd.Substance(name=\"D\")"
   ]
  },
  {
   "attachments": {},
   "cell_type": "markdown",
   "metadata": {},
   "source": [
    "After that, the mixture of the substances is created:"
   ]
  },
  {
   "cell_type": "code",
   "execution_count": 36,
   "metadata": {},
   "outputs": [],
   "source": [
    "mix = rd.mix.IdealSolution([a, b, c, d])"
   ]
  },
  {
   "attachments": {},
   "cell_type": "markdown",
   "metadata": {},
   "source": [
    "And the kinetic object is instantiated. The required parameters include the mixture object and a dictionary that contains the reactions in the following format:\n",
    "\n",
    "reactions={\"reaction_1\": {**\"eq\"**: a > b, **\"rate\"**: r_rate1}, \n",
    "           \"reaction_2\":{**\"eq\"**: x > y, **\"rate\"**: r_rate2}...}\n",
    "\n",
    "The keywords **\"eq\"** (for equation) and **\"rate\"** (for reaction rate) are mandatory\n",
    "\n",
    "On the other hand, the dictionary kinetic_constants contains the rate constants\n",
    "for the reactions. The keywords for the rate constants can be chosen freely."
   ]
  },
  {
   "cell_type": "code",
   "execution_count": 37,
   "metadata": {},
   "outputs": [],
   "source": [
    "kinetic = rd.Kinetic(\n",
    "    mix=mix,\n",
    "    reactions={\"r1\": {\"eq\": a > b, \"rate\": r_rate1},\n",
    "               \"r2\": {\"eq\": a + b > (c + 2*d), \"rate\": r_rate2}},\n",
    "    kinetic_constants={\"k1\": k1, \"k2\": k2},\n",
    ")"
   ]
  },
  {
   "attachments": {},
   "cell_type": "markdown",
   "metadata": {},
   "source": [
    "The format \"xa + yb > wc + zd\" allows us to visually represent the reactions in an aesthetically pleasing Latex format. For that, we invoke the **irepr** property."
   ]
  },
  {
   "cell_type": "code",
   "execution_count": 38,
   "metadata": {},
   "outputs": [
    {
     "data": {
      "text/latex": [
       "$\\displaystyle r1: A \\rightarrow B$"
      ],
      "text/plain": [
       "<IPython.core.display.Math object>"
      ]
     },
     "metadata": {},
     "output_type": "display_data"
    },
    {
     "data": {
      "text/latex": [
       "$\\displaystyle r2: A + B \\rightarrow C + 2 D$"
      ],
      "text/plain": [
       "<IPython.core.display.Math object>"
      ]
     },
     "metadata": {},
     "output_type": "display_data"
    }
   ],
   "source": [
    "kinetic.irepr"
   ]
  },
  {
   "attachments": {},
   "cell_type": "markdown",
   "metadata": {},
   "source": [
    "The dunder method __len__ was overwritten to provide the number of reactions\n",
    "in the class Kinetic.\n",
    "\n",
    "Additionally, the dunder method __repr__ return the subtances contained in the mixture.\n",
    "\n",
    "***PREGUNTAR SI ESTA BIEN, PQ APARECE TAMBIEN UNA REPRESENTACION DEL IREPR AHI***"
   ]
  },
  {
   "cell_type": "code",
   "execution_count": 46,
   "metadata": {},
   "outputs": [
    {
     "name": "stdout",
     "output_type": "stream",
     "text": [
      "Mixture's substances: \n",
      "  * A \n",
      "  * B \n",
      "  * C \n",
      "  * D \n",
      "\n",
      "System's reactions: \n",
      "r1: A \\rightarrow B \n",
      "r2: A + B \\rightarrow C + 2 D \n",
      "\n"
     ]
    }
   ],
   "source": [
    "len(kinetic)\n",
    "print(kinetic.__repr__())"
   ]
  },
  {
   "cell_type": "code",
   "execution_count": null,
   "metadata": {},
   "outputs": [],
   "source": []
  }
 ],
 "metadata": {
  "kernelspec": {
   "display_name": "reactord",
   "language": "python",
   "name": "python3"
  },
  "language_info": {
   "codemirror_mode": {
    "name": "ipython",
    "version": 3
   },
   "file_extension": ".py",
   "mimetype": "text/x-python",
   "name": "python",
   "nbconvert_exporter": "python",
   "pygments_lexer": "ipython3",
   "version": "3.10.6"
  },
  "orig_nbformat": 4,
  "vscode": {
   "interpreter": {
    "hash": "0da960acde017608603fcb155815528bc626e42a5841520214e4e02be5770591"
   }
  }
 },
 "nbformat": 4,
 "nbformat_minor": 2
}
