{
 "cells": [
  {
   "cell_type": "markdown",
   "id": "2f71428b",
   "metadata": {},
   "source": [
    "## Substance objects\n",
    "\n",
    "Substance objects are the heart of ReactorD library. Each reagent, product and \n",
    "inert of the reactive systems must be individually represented by a Substance \n",
    "object.\n",
    "\n",
    "For this tutorial, import ReactorD, numpy and matplotlib.pyplot"
   ]
  },
  {
   "cell_type": "code",
   "execution_count": 10,
   "id": "ba50737b",
   "metadata": {},
   "outputs": [],
   "source": [
    "import matplotlib.pyplot as plt\n",
    "\n",
    "import numpy as np\n",
    "\n",
    "import reactord as rd"
   ]
  },
  {
   "attachments": {},
   "cell_type": "markdown",
   "id": "fc73c599",
   "metadata": {},
   "source": [
    "### Substance objects instantiation\n",
    "\n",
    "A fully defined Substance contains a lot of information that may not be \n",
    "available or may not be necessary for the reactive system that will be \n",
    "simulated. The minimum necessary information for each substance will be \n",
    "specified on each mixture and each reactor. The complete signature for the \n",
    "Substance objects is:\n",
    "\n",
    "```python\n",
    "rd.Substance(  \n",
    "    name: str = None,  \n",
    "    molecular_weight: float = None,  \n",
    "    normal_boiling_point: float = None,  \n",
    "    normal_melting_point: float = None,  \n",
    "    critical_temperature: float = None,  \n",
    "    critical_pressure: float = None,  \n",
    "    acentric_factor: float = None,  \n",
    "    formation_enthalpy: float = None,  \n",
    "    formation_enthalpy_ig: float = None,  \n",
    "    formation_gibbs: float = None,  \n",
    "    formation_gibbs_ig: float = None,  \n",
    "    vaporization_enthalpy_t: Callable = None,  \n",
    "    sublimation_enthalpy_t: Callable = None,  \n",
    "    volume_solid_t: Callable = None,  \n",
    "    volume_liquid_tp: Callable = None,  \n",
    "    volume_gas_tp: Callable = None,  \n",
    "    heat_capacity_solid_t: Callable = None,  \n",
    "    heat_capacity_liquid_t: Callable = None,  \n",
    "    heat_capacity_gas_t: Callable = None,  \n",
    "    thermal_conductivity_liquid_tp: Callable = None,  \n",
    "    thermal_conductivity_gas_tp: Callable = None,  \n",
    "    viscosity_liquid_tp: Callable = None,  \n",
    "    viscosity_gas_tp: Callable = None,  \n",
    ")\n",
    "```\n",
    "The Substance arguments may be classified in two grups:  \n",
    "* Constant properties:  \n",
    "    - name  \n",
    "    - molecular_weight  \n",
    "    - normal_boiling_point  \n",
    "    - normal_melting_point  \n",
    "    - critical_temperature  \n",
    "    - critical_pressure  \n",
    "    - acentric_factor  \n",
    "    - formation_enthalpy  \n",
    "    - formation_enthalpy_ig  \n",
    "    - formation_gibbs  \n",
    "    - formation_gibbs_ig    \n",
    "* Temperature and pressure dependent properties:  \n",
    "    - vaporization_enthalpy_t  \n",
    "    - sublimation_enthalpy_t  \n",
    "    - volume_solid_t  \n",
    "    - volume_liquid_tp  \n",
    "    - volume_gas_tp  \n",
    "    - heat_capacity_solid_t  \n",
    "    - heat_capacity_liquid_t  \n",
    "    - heat_capacity_gas_t  \n",
    "    - thermal_conductivity_liquid_tp  \n",
    "    - thermal_conductivity_gas_tp  \n",
    "    - viscosity_liquid_tp  \n",
    "    - viscosity_gas_tp  \n",
    "\n",
    "The **Temperature and pressure dependent properties** must be specified as \n",
    "python functions of temperature, or both temperature and pressure, as \n",
    "corresponds. For this tutorial, a water Substance object is defined with some \n",
    "example properties.\n",
    "\n",
    "The data for defining the water is obtained from:\n",
    "\n",
    "Don W. Green; Robert H. Perry. Perry's Chemical Engineers' Handbook, Eighth \n",
    "Edition (McGraw-Hill: New York, Chicago, San Francisco, Lisbon, London, Madrid,\n",
    " Mexico City, Milan, New Delhi, San Juan, Seoul, Singapore, Sydney, Toronto, \n",
    " 2008, 1997, 1984, 1973, 1963, 1950, 1941, 1934)."
   ]
  },
  {
   "cell_type": "code",
   "execution_count": 11,
   "id": "a078e3c1",
   "metadata": {},
   "outputs": [],
   "source": [
    "# Defining functions for molar liquid volume and liquid heat capacity.\n",
    "\n",
    "\n",
    "def water_volume_liquid_tp(temperature: float, pressure: float) -> float:\n",
    "    \"\"\"User defined function for liquid molar volume. [m^3/mol]\n",
    "\n",
    "    Even if pressure is not used in the molar volume function it must be\n",
    "    specified as an argument.\n",
    "\n",
    "    The termination of the Substance argument is a visual help to remember the\n",
    "    arguments needed.\n",
    "\n",
    "    xxx_t: function(temperature)\n",
    "\n",
    "    xxx_tp: function(temperature, pressure)\n",
    "\n",
    "    Parameters\n",
    "    ----------\n",
    "    temperature : float\n",
    "        Temperature [K]\n",
    "    pressure : float\n",
    "        Pressure [Pa]\n",
    "\n",
    "    Returns\n",
    "    -------\n",
    "    float\n",
    "        Molar volume of the mixture [m^3/mol]\n",
    "    \"\"\"\n",
    "    c1 = -13.851\n",
    "    c2 = 0.64038\n",
    "    c3 = -0.00191\n",
    "    c4 = 1.8211e-06\n",
    "\n",
    "    t = temperature\n",
    "    molar_vol = 1 / (c1 + c2 * t + c3 * t**2 + c4 * t**3) / 1000\n",
    "\n",
    "    return molar_vol\n",
    "\n",
    "\n",
    "def water_heat_capacity_liquid_t(temperature: float, pressure: float) -> float:\n",
    "    \"\"\"User defined function for liquid heat capacity. [J/mol/K]\n",
    "\n",
    "    Parameters\n",
    "    ----------\n",
    "    temperature : float\n",
    "        Temperature [K]\n",
    "\n",
    "    Returns\n",
    "    -------\n",
    "    float\n",
    "        Liquid heat capacity [J/mol/K]\n",
    "    \"\"\"\n",
    "    c1 = 276370\n",
    "    c2 = -2090.1\n",
    "    c3 = 8.125\n",
    "    c4 = -0.014116\n",
    "    c5 = 9.3701e-06\n",
    "\n",
    "    cp_liquid = (\n",
    "        c1\n",
    "        + c2 * temperature\n",
    "        + c3 * temperature**2\n",
    "        + c4 * temperature**3\n",
    "        + c5 * temperature**4\n",
    "    )\n",
    "    return cp_liquid / 1000"
   ]
  },
  {
   "cell_type": "code",
   "execution_count": 12,
   "id": "a57605bc",
   "metadata": {},
   "outputs": [
    {
     "name": "stdout",
     "output_type": "stream",
     "text": [
      "18.015\n",
      "1.7999364032438635e-05\n",
      "75.38420366723898\n"
     ]
    }
   ],
   "source": [
    "# Defining water Substance by hand\n",
    "\n",
    "water_byhand = rd.Substance(\n",
    "    name=\"water\",\n",
    "    molecular_weight=18.015,\n",
    "    volume_liquid=water_volume_liquid_tp,\n",
    "    heat_capacity_liquid=water_heat_capacity_liquid_t,\n",
    ")\n",
    "\n",
    "# Calling substance methods\n",
    "\n",
    "print(water_byhand.molecular_weight)\n",
    "print(water_byhand.volume_liquid(298.15, 101325))\n",
    "print(water_byhand.heat_capacity_liquid(298.15, 101325))"
   ]
  },
  {
   "attachments": {},
   "cell_type": "markdown",
   "id": "5566a0e3",
   "metadata": {},
   "source": [
    "For convinence the object subject create by hand could be save into a file for its posterior use"
   ]
  },
  {
   "cell_type": "code",
   "execution_count": 13,
   "id": "32406b73",
   "metadata": {},
   "outputs": [
    {
     "name": "stdout",
     "output_type": "stream",
     "text": [
      "1.7999364032438635e-05\n"
     ]
    }
   ],
   "source": [
    "# The object is save\n",
    "Water = rd.Substance.create_substance_file(water_byhand, \"water_file\")\n",
    "\n",
    "# The substance object is called\n",
    "water_from_pickle = rd.Substance.from_pickle(\"water_file\")\n",
    "\n",
    "Water = rd.Substance.load_file(\"water_file\")"
   ]
  },
  {
   "cell_type": "markdown",
   "id": "fdcd6148",
   "metadata": {},
   "source": [
    "### Alternative Substance constructor\n",
    "\n",
    "For convenience an alternative Substance constructor is provided:\n",
    "\n",
    "```python\n",
    "substance_object = rd.Substance.from_thermo_database(identification)\n",
    "```\n",
    "\n",
    "Where identification is a string that may be either the name or the CAS number \n",
    "of the substance. This alternative method uses the Caleb's Thermo library:\n",
    "\n",
    "Caleb Bell and Contributors (2016-2021). Thermo: Chemical properties component \n",
    "of Chemical Engineering Design Library (ChEDL) \n",
    "https://github.com/CalebBell/thermo.\n",
    "\n"
   ]
  },
  {
   "cell_type": "code",
   "execution_count": 14,
   "id": "932ce3b3",
   "metadata": {},
   "outputs": [
    {
     "name": "stdout",
     "output_type": "stream",
     "text": [
      "18.01528\n",
      "1.8069338439592966e-05\n",
      "75.31465144297992\n"
     ]
    }
   ],
   "source": [
    "water_thermo = rd.Substance.from_thermo_database(\"water\")\n",
    "\n",
    "print(water_thermo.molecular_weight)\n",
    "print(water_thermo.volume_liquid(298.15, 101325))\n",
    "print(water_thermo.heat_capacity_liquid(298.15, 101325))"
   ]
  },
  {
   "cell_type": "code",
   "execution_count": 15,
   "id": "a4ef50d7",
   "metadata": {},
   "outputs": [
    {
     "data": {
      "text/plain": [
       "Text(0.5, 0, 'Temperature [K]')"
      ]
     },
     "execution_count": 15,
     "metadata": {},
     "output_type": "execute_result"
    },
    {
     "data": {
      "image/png": "[encoded data removed]",
      "text/plain": [
       "<Figure size 640x480 with 1 Axes>"
      ]
     },
     "metadata": {},
     "output_type": "display_data"
    }
   ],
   "source": [
    "# Comparisson\n",
    "\n",
    "temperature = np.linspace(298.15, 370, 10)\n",
    "\n",
    "water_vol_byhand = water_byhand.volume_liquid(temperature, 101325)\n",
    "water_vol_thermo = water_thermo.volume_liquid(temperature, 101325)\n",
    "\n",
    "plt.plot(temperature, water_vol_byhand)\n",
    "plt.plot(temperature, water_vol_thermo)\n",
    "\n",
    "plt.title(\"Water liquid molar volume \")\n",
    "plt.legend([\"water_byhand\", \"water_thermo\"])\n",
    "plt.ylabel(r\"Molar volume [$m^{3}$/mol]\")\n",
    "plt.xlabel(\"Temperature [K]\")"
   ]
  },
  {
   "attachments": {},
   "cell_type": "markdown",
   "id": "b535563e",
   "metadata": {},
   "source": [
    "Finally a list of all the attributes and methods that Substance objects may \n",
    "have.\n",
    "\n",
    "NOTE THAT FOR SOME SUBSTANCE SOME DATA MAY NOT BE AVAILABLE"
   ]
  },
  {
   "cell_type": "code",
   "execution_count": 16,
   "id": "d47c79e7",
   "metadata": {},
   "outputs": [
    {
     "name": "stdout",
     "output_type": "stream",
     "text": [
      "name: water \n",
      "molecular weight: 18.01528 g/mol \n",
      "normal boiling point: 373.124 K \n",
      "normal melting point: 273.15 K \n",
      "critical temperature: 647.14 K \n",
      "critical pressure: 22048320.0 Pa \n",
      "acentric factor: 0.344 \n",
      "formation enthalpy: -285825.0 J/mol \n",
      "formation enthalpy ideal gas: -241822.0 J/mol\n",
      "formation Gibbs energy ideal gas: -241822.0 J/mol \n",
      "vaporization enthalpy: 40798.29512500727 J/mol \n",
      "sublimation enthalpy: 50742.6591346729 J/mol\n",
      "fusion enthalpy: 7127.725817752558 J/mol \n",
      "volume solid: 1.5989414456471014e-05 m^3/mol \n",
      "volume liquid: 1.8069338439592966e-05 m^3/mol \n",
      "volume gas: 0.030619706153110104 m^3/mol \n",
      "heat capacity solid: 30.969944935783165 J/K/mol \n",
      "heat capacity liquid: 76.05035935651769 J/K/mol \n",
      "heat capacity gas: 34.03105522722508 J/K/mol \n",
      "thermal conductivity liquid: 0.606299909107096 W/m/K \n",
      "thermal conductivity gas: 0.023865413505450152 W/m/K \n",
      "viscosity liquid: 0.0009125307951858123 Pa/s\n",
      "viscosity gas: 1.3587844730035658e-05 Pa/s \n",
      "Heat capacity integral over temperature: \n",
      "solid: 681.6705747748953 J/mol liq: 2258.000649097829 J/mol gas: 1026.395658287748 J/mol\n"
     ]
    }
   ],
   "source": [
    "print(\n",
    "    f\"name: {water_thermo.name} \\n\"\n",
    "    f\"molecular weight: {water_thermo.molecular_weight} g/mol \\n\"\n",
    "    f\"normal boiling point: {water_thermo.normal_boiling_point} K \\n\"\n",
    "    f\"normal melting point: {water_thermo.normal_melting_point} K \\n\"\n",
    "    f\"critical temperature: {water_thermo.critical_temperature} K \\n\"\n",
    "    f\"critical pressure: {water_thermo.critical_pressure} Pa \\n\"\n",
    "    f\"acentric factor: {water_thermo.acentric_factor} \\n\"\n",
    "    f\"formation enthalpy: {water_thermo.formation_enthalpy} J/mol \\n\"\n",
    "    f\"formation enthalpy ideal gas: {water_thermo.formation_enthalpy_ig} J/mol\"\n",
    "    \"\\n\"\n",
    "    f\"formation Gibbs energy ideal gas: {water_thermo.formation_enthalpy_ig}\"\n",
    "    \" J/mol \\n\"\n",
    "    f\"vaporization enthalpy: {water_thermo.vaporization_enthalpy(373.15)}\"\n",
    "    \" J/mol \\n\"\n",
    "    f\"sublimation enthalpy: {water_thermo.sublimation_enthalpy(273.15)} J/mol\"\n",
    "    \"\\n\"\n",
    "    f\"fusion enthalpy: {water_thermo.fusion_enthalpy(298.15)} J/mol \\n\"\n",
    "    f\"volume solid: {water_thermo.volume_solid(273.15, 101325)} m^3/mol \\n\"\n",
    "    f\"volume liquid: {water_thermo.volume_liquid(298.15, 101325)} m^3/mol \\n\"\n",
    "    f\"volume gas: {water_thermo.volume_gas(373.15, 101325)} m^3/mol \\n\"\n",
    "    f\"heat capacity solid: {water_thermo.heat_capacity_solid(373.15, 101325)} \"\n",
    "    \"J/K/mol \\n\"\n",
    "    f\"heat capacity liquid: {water_thermo.heat_capacity_liquid(373, 101325)}\"\n",
    "    \" J/K/mol \\n\"\n",
    "    f\"heat capacity gas: {water_thermo.heat_capacity_gas(373.15, 101325)} \"\n",
    "    \"J/K/mol \\n\"\n",
    "    \"thermal conductivity liquid: \"\n",
    "    f\"{water_thermo.thermal_conductivity_liquid(298.15, 101325)}\"\n",
    "    \" W/m/K \\n\"\n",
    "    \"thermal conductivity gas: \"\n",
    "    f\"{water_thermo.thermal_conductivity_gas(373.15, 101325)} W/m/K \\n\"\n",
    "    f\"viscosity liquid: {water_thermo.viscosity_liquid(298.15, 101325)} Pa/s\"\n",
    "    \"\\n\"\n",
    "    f\"viscosity gas: {water_thermo.viscosity_gas(400, 101325)} Pa/s \\n\"\n",
    "    \"Heat capacity integral over temperature: \\n\"\n",
    "    f\"solid: {water_thermo.heat_capacity_solid_dt_integral(250, 280, 101325)} \"\n",
    "    \"J/mol \"\n",
    "    f\"liq: {water_thermo.heat_capacity_liquid_dt_integral(300, 330, 101325)} \"\n",
    "    \"J/mol \"\n",
    "    f\"gas: {water_thermo.heat_capacity_gas_dt_integral(380, 410, 101325)} \"\n",
    "    \"J/mol\"\n",
    ")"
   ]
  }
 ],
 "metadata": {
  "kernelspec": {
   "display_name": "reactord",
   "language": "python",
   "name": "python3"
  },
  "language_info": {
   "codemirror_mode": {
    "name": "ipython",
    "version": 3
   },
   "file_extension": ".py",
   "mimetype": "text/x-python",
   "name": "python",
   "nbconvert_exporter": "python",
   "pygments_lexer": "ipython3",
   "version": "3.10.6"
  },
  "vscode": {
   "interpreter": {
    "hash": "32c67f4c963949a7fe70ff718e2227e313500f4b2abdd00c87839288217969e2"
   }
  }
 },
 "nbformat": 4,
 "nbformat_minor": 5
}
