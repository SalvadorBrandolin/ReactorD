{
 "cells": [
  {
   "attachments": {},
   "cell_type": "markdown",
   "metadata": {},
   "source": [
    "## Ideal Gas"
   ]
  },
  {
   "attachments": {},
   "cell_type": "markdown",
   "metadata": {},
   "source": [
    "To generate a mixture, first it is necessary to create the Substance objects \n",
    "that will be in the mixture. This could be defined by the user or with the\n",
    "Thermo library. For instance:"
   ]
  },
  {
   "cell_type": "code",
   "execution_count": 1,
   "metadata": {},
   "outputs": [],
   "source": [
    "import reactord as rd\n",
    "\n",
    "so2 = rd.Substance.from_thermo_database(\"sulfur dioxide\")\n",
    "o2 = rd.Substance.from_thermo_database(\"oxygen\")\n",
    "so3 = rd.Substance.from_thermo_database(\"sulfur trioxide\")\n",
    "co2 = rd.Substance.from_thermo_database(\"carbon dioxide\")"
   ]
  },
  {
   "attachments": {},
   "cell_type": "markdown",
   "metadata": {},
   "source": [
    "Now we create a mixture, introducing the objects as a dictionary. \n",
    "In this case, an instance of the IdealGas class is created:"
   ]
  },
  {
   "cell_type": "code",
   "execution_count": 2,
   "metadata": {},
   "outputs": [
    {
     "name": "stdout",
     "output_type": "stream",
     "text": [
      "263.1\n",
      "oxygen\n",
      "8207325.0\n"
     ]
    }
   ],
   "source": [
    "gas_mixture = rd.mix.IdealGas(A=so2, B=o2, C=so3, Inert=co2)\n",
    "\n",
    "# The mixture is a list of substances to which we can access:\n",
    "print(gas_mixture.substances[0].normal_boiling_point)\n",
    "print(gas_mixture.substances[1].name)\n",
    "print(gas_mixture.substances[2].critical_pressure)"
   ]
  },
  {
   "attachments": {},
   "cell_type": "markdown",
   "metadata": {},
   "source": [
    "The list of methods that an IdealGas have are the following:\n",
    "\n",
    "Methods inherited from AbstractMix.  \n",
    "- mol_fractions  \n",
    "- mixture_molecular_weight  \n",
    "- partial_pressures  \n",
    "- molar_density  \n",
    "- mass_density  \n",
    "\n",
    "Methods implemented by IdealGas.  \n",
    "- volume  \n",
    "- concentrations  \n",
    "- mix_heat_capacity  \n",
    "- formation_enthalpies_correction  \n",
    "- mixture_viscosity  \n",
    "\n",
    "The methods inherited from AbstractMix are explained in the [AbstractMix tutorial](abstract_mix.ipynb). On the other hand, each method implemented by IdealGas \n",
    "may require that the substances have specific attributes or methods defined. "
   ]
  },
  {
   "attachments": {},
   "cell_type": "markdown",
   "metadata": {},
   "source": [
    "__volume(moles, temperature, pressure)__\n",
    "\n",
    "The volume method recieves the moles of each substances [mol], temperature [K] \n",
    "and pressure [Pa], and return the volume of the mix [m³]. \n",
    "The method uses the ideal gas law as:\n",
    "\n",
    "$$V = \\frac{nRT}{P}$$\n"
   ]
  },
  {
   "cell_type": "code",
   "execution_count": 3,
   "metadata": {},
   "outputs": [
    {
     "name": "stdout",
     "output_type": "stream",
     "text": [
      "2.872007812833589 m³\n"
     ]
    }
   ],
   "source": [
    "volume = gas_mixture.volume([5, 10, 15, 20], 700, 101325)\n",
    "\n",
    "print(rf\"{volume} m³\")"
   ]
  },
  {
   "attachments": {},
   "cell_type": "markdown",
   "metadata": {},
   "source": [
    "__concentrations(moles, temperature, pressure)__\n",
    "\n",
    "The concentrations method recieves the moles [mol], temperature [K] and \n",
    "pressure [Pa] and returns the concentration of each mix's substance [mol/m³].\n",
    "The method uses the ideal gas law to evaluate the mixture density as:\n",
    "\n",
    "$$\\rho_{mix} = \\frac{P}{RT}$$\n",
    "\n",
    "The concentration of each substance is evaluated from the mixture's density and\n",
    "the the substance's molar fractions.\n",
    "\n",
    "$$C_{i} = z_{i}\\rho_{mix}$$\n"
   ]
  },
  {
   "cell_type": "code",
   "execution_count": 4,
   "metadata": {},
   "outputs": [
    {
     "name": "stdout",
     "output_type": "stream",
     "text": [
      "[1.74094234 3.48188468 5.22282702 6.96376936] mol/m³\n"
     ]
    }
   ],
   "source": [
    "concentrations = gas_mixture.concentrations([5, 10, 15, 20], 700, 101325)\n",
    "\n",
    "print(rf\"{concentrations} mol/m³\")"
   ]
  },
  {
   "attachments": {},
   "cell_type": "markdown",
   "metadata": {},
   "source": [
    "__mix_heat_capacity(moles, temperature, pressure)__\n",
    "\n",
    "The mix_heat_capacity method recieves the moles [mol], temperature [K] and \n",
    "pressure [Pa] and returns the mix's heat capacity [J/mol/K]. **The method \n",
    "requires that each substance have the ideal gas heat capacity method \n",
    "(${C_{p}}_{i}$) defined**. The mixture's heat capacity is calculated from the \n",
    "mole fractions and the pure ideal gas heat capacity of each substance:\n",
    "\n",
    "$${C_{p}}_{mix} = \\sum z_{i} {C_{p}}_{i}$$\n",
    "\n",
    "The method is used by non isothermal reactors."
   ]
  },
  {
   "cell_type": "code",
   "execution_count": 5,
   "metadata": {},
   "outputs": [
    {
     "name": "stdout",
     "output_type": "stream",
     "text": [
      "52.91656909879653 J/mol/K\n"
     ]
    }
   ],
   "source": [
    "heat_capacity = gas_mixture.mix_heat_capacity([5, 10, 15, 20], 700, 101325)\n",
    "\n",
    "print(rf\"{heat_capacity} J/mol/K\")"
   ]
  },
  {
   "attachments": {},
   "cell_type": "markdown",
   "metadata": {},
   "source": [
    "__formation_enthalpies_correction(temperature, pressure)__\n",
    "\n",
    "The formation_enthalpies_correction method recieves the temperature [K] and \n",
    "pressure [Pa] and returns the enthalpy of formation of each substance [J/mol/K]\n",
    "at the specified temperature and pressure. **The method requires that each \n",
    "substance have the ideal gas heat capacity (${{C_{p}}_{i}}_{(T,P)}$) method and \n",
    "the ideal gas enthalpy of formation (${\\Delta_{f}H_{i}^{298.15}}$) defined**.\n",
    "\n",
    "The corrected formation enthalpy of a substance is:\n",
    "$${\\Delta_{f}H}_{i} = {\\Delta_{f}H_{i}^{298.15}} + \\int_{298.15}^{T}{{C_{p}}_{i}}_{(T,P)}dT$$\n",
    "\n",
    "The method return the term:\n",
    "\n",
    "$$\\int_{298.15}^{T}{{C_{p}}_{i}}_{(T,P)}dT$$\n",
    "\n",
    "for each substance.\n",
    "\n",
    "The method is used by non isothermal reactors."
   ]
  },
  {
   "cell_type": "code",
   "execution_count": 6,
   "metadata": {},
   "outputs": [
    {
     "name": "stdout",
     "output_type": "stream",
     "text": [
      "Ideal Gas formation Enthalpies:\n",
      "[-296800.0, 0.0, -395700.0, -393474.0] J/mol/K\n",
      "Corrected formation Enthalpies:\n",
      "[18700.93185285 12498.74118894 25208.0487025  17752.76914702] J/mol/K\n"
     ]
    }
   ],
   "source": [
    "ideal_gas_std_formation_enthalpies = [\n",
    "    substance.formation_enthalpy_ig for substance in gas_mixture.substances\n",
    "]\n",
    "\n",
    "formation_enthalpies = gas_mixture.formation_enthalpies_correction(700, 101325)\n",
    "\n",
    "print(\"Ideal Gas formation Enthalpies:\")\n",
    "print(rf\"{ideal_gas_std_formation_enthalpies} J/mol/K\")\n",
    "\n",
    "print(\"Corrected formation Enthalpies:\")\n",
    "print(rf\"{formation_enthalpies} J/mol/K\")"
   ]
  },
  {
   "attachments": {},
   "cell_type": "markdown",
   "metadata": {},
   "source": [
    "__mixture_viscosity(moles, temperature, pressure)__\n",
    "\n",
    "The mixture_viscosity method recieves the moles[mol], temperature [K] and \n",
    "pressure [Pa] and returns the mixture's viscocity [Pa s] at the specified \n",
    "temperature and pressure. **The method requires that each \n",
    "substance have the gas viscocity ($\\mu_{i}$) and molecular weight ($Mw_{i}$) \n",
    "defined**. For the calculation, the Herning_Zipperer method from the Thermo \n",
    "library is used.\n",
    "\n",
    "$$\\mu = \\frac{\\sum z_{i}\\mu_{i}\\sqrt{Mw_{i}}}{\\sum z_{i}\\sqrt{Mw_{i}}}$$\n",
    "\n",
    "The method is used by non isobaric flow reactors.\n"
   ]
  },
  {
   "cell_type": "code",
   "execution_count": 7,
   "metadata": {},
   "outputs": [
    {
     "name": "stdout",
     "output_type": "stream",
     "text": [
      "3.119952701239795e-05 Pa s\n"
     ]
    }
   ],
   "source": [
    "viscosity = gas_mixture.mixture_viscosity([5, 10, 15, 20], 700, 101325)\n",
    "\n",
    "print(rf\"{viscosity} Pa s\")"
   ]
  }
 ],
 "metadata": {
  "kernelspec": {
   "display_name": "reactord",
   "language": "python",
   "name": "python3"
  },
  "language_info": {
   "codemirror_mode": {
    "name": "ipython",
    "version": 3
   },
   "file_extension": ".py",
   "mimetype": "text/x-python",
   "name": "python",
   "nbconvert_exporter": "python",
   "pygments_lexer": "ipython3",
   "version": "3.10.6 (main, Nov 14 2022, 16:10:14) [GCC 11.3.0]"
  },
  "orig_nbformat": 4,
  "vscode": {
   "interpreter": {
    "hash": "44eb91f73ea2661bbbecc9f77111c56822635f905b8a2c5d2c14405903be0d49"
   }
  }
 },
 "nbformat": 4,
 "nbformat_minor": 2
}
