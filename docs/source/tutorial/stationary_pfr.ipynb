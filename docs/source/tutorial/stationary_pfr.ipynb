{
 "cells": [
  {
   "attachments": {},
   "cell_type": "markdown",
   "metadata": {},
   "source": [
    "## PFR Stationary 1 dimension\n",
    "\n",
    "Plug flow reactor in steady state operation.\n",
    "\n"
   ]
  },
  {
   "cell_type": "code",
   "execution_count": 1,
   "metadata": {},
   "outputs": [],
   "source": [
    "import numpy as np\n",
    "\n",
    "import matplotlib.pyplot as plt\n",
    "\n",
    "import reactord as rd\n",
    "\n",
    "from scipy.constants import R\n"
   ]
  },
  {
   "attachments": {},
   "cell_type": "markdown",
   "metadata": {},
   "source": [
    "### Operating the PFR"
   ]
  },
  {
   "attachments": {},
   "cell_type": "markdown",
   "metadata": {},
   "source": [
    "#### Reaction rate\n",
    "\n",
    "Reaction rates are defined by python function with the format:\n",
    "\n",
    "```python\n",
    "def reaction_rate(\n",
    "    composition: CompositionalArgument, \n",
    "    temperature: float, \n",
    "    kinetics_constants: dict\n",
    ") -> float:\n",
    "    # calculation of the reaction rate \n",
    "    return evaluated_reaction_rate\n",
    "```\n",
    "\n",
    "Composition is the compositional argument of the reaction_rate. The available\n",
    "compositional arguments in ReactorD are:  \n",
    "\n",
    "- Concentration $[\\frac {mol} {m^3}]$  \n",
    "- Partial pressure [Pa]\n",
    "\n",
    "The desired compositional argument is selected in the reactor's definition with\n",
    "the argument \"rates_argument\". \n",
    "\n",
    "If Concentrationtion is selected as the compositional argument, ReactorD will \n",
    "evaluate the ```reaction_rate``` in the concentrations of all the mixture's\n",
    "substances and the temperature. \n",
    "Then, for a hypothetical reaction\n",
    "\n",
    "$$A + B \\rightarrow C $$\n",
    "\n",
    "the reaction rates could be.\n",
    "\n",
    "```python\n",
    "def reaction_rate1(composition, temperature, constants):\n",
    "    Arr, e, dh = constants[\"Arrhenius\"], constants[\"activation energy\"]\n",
    "\n",
    "    rate = Arr* np.exp(e / R * (1 / temperature))*composition[\"A\"]*composition[\"B\"]\n",
    "\n",
    "    return rate\n",
    "```"
   ]
  },
  {
   "attachments": {},
   "cell_type": "markdown",
   "metadata": {},
   "source": [
    "### Example: Adiabatic Liquid-Phase Isomerization of Normal Butane\n",
    "Fogler 6th ed. Example 11.3.\n",
    "\n",
    "Reaction:\n",
    "\n",
    "$$Butane + iPentane \\leftrightarrow iButane + iPentane $$\n",
    "\n",
    "Kinetic law:\n",
    "\n",
    "$$r = k_dC_{But} - k_iC_{i-But}$$\n",
    "\n",
    "We want to process 163 kmol/h and achieve 70% conversion of n-butane from a mixture 90 mol %\n",
    "n-butane and 10 mol % i-pentane, which is considered an inert. The feed enters at 330 K\n",
    "\n",
    "Specific reaction rate at 360K = 31.1  $\\ {h^{-1}}$  \n",
    "Kinetic constant at 60 °C = 3.03  \n",
    "Enthalpy reaction (dH) = -6900 $\\frac {J} {mol n-butane}$  \n",
    "Activation energy (e)= 65.7 $\\frac {kJ} {mol}$    \n",
    "$C_{p-nBut} = C_{p-iBut}$ = 141 $\\frac {J} {mol·K}$  \n",
    "$C_{p-iPen}$ = 161 $\\frac {J} {mol·K}$  \n",
    "$C_{A0}=9.3$ $\\frac {kmol} {mol^3}$ \n",
    "\n",
    "Reactor: liquid phase, Adiabatic and isobaric PFR\n",
    "Pressure not specified. It is assumed as 101325 Pa (pressure will not be \n",
    "used)\n",
    "\n",
    "For convenience the reactor will be import from the modules as pfr"
   ]
  },
  {
   "cell_type": "code",
   "execution_count": 2,
   "metadata": {},
   "outputs": [],
   "source": [
    "import reactord.flowreactors.stationary_1d.pfr as pfr"
   ]
  },
  {
   "attachments": {},
   "cell_type": "markdown",
   "metadata": {},
   "source": [
    "__Substance definitions__  \n",
    "\n",
    "For a liquid phase, adiabatic and isobaric PFR the volume and cp of the pure\n",
    "substances are necessary to evaluate the balances."
   ]
  },
  {
   "cell_type": "code",
   "execution_count": 3,
   "metadata": {},
   "outputs": [],
   "source": [
    "def volume(temperature, pressure):\n",
    "    f_mol = 163 * 1000 / 3600  # mol / s\n",
    "    f_volumetric = 100_000 * 0.00378541 / 24 / 3600  # m3 / s\n",
    "\n",
    "    rho = f_mol / f_volumetric\n",
    "    v = 1 / rho  # m3 / mol\n",
    "    return np.full(np.size(temperature), v)\n",
    "\n",
    "def cp_butane(temperature, pressure):\n",
    "    return np.full(np.size(temperature), 141)  # J / mol / K\n",
    "\n",
    "def cp_pentane(temperature, pressure):\n",
    "    return np.full(np.size(temperature), 161)  # J / mol / K\n"
   ]
  },
  {
   "cell_type": "code",
   "execution_count": 4,
   "metadata": {},
   "outputs": [],
   "source": [
    "but = rd.Substance(\n",
    "    \"but\", volume_liquid=volume, heat_capacity_liquid=cp_butane\n",
    ")\n",
    "\n",
    "ibut = rd.Substance(\n",
    "    \"i-but\", volume_liquid=volume, heat_capacity_liquid=cp_butane\n",
    ")\n",
    "\n",
    "ipen = rd.Substance(\n",
    "    \"i-pen\", volume_liquid=volume, heat_capacity_liquid=cp_pentane\n",
    ")"
   ]
  },
  {
   "attachments": {},
   "cell_type": "markdown",
   "metadata": {},
   "source": [
    "__Mixture definition__"
   ]
  },
  {
   "cell_type": "code",
   "execution_count": 5,
   "metadata": {},
   "outputs": [],
   "source": [
    "mix = rd.mix.IdealSolution([but, ibut, ipen])"
   ]
  },
  {
   "attachments": {},
   "cell_type": "markdown",
   "metadata": {},
   "source": [
    "__Kinetic definition__  \n",
    "\n"
   ]
  },
  {
   "cell_type": "code",
   "execution_count": 6,
   "metadata": {},
   "outputs": [],
   "source": [
    "# Reaction enthalpy\n",
    "dh = -6900  # J / mol\n",
    "\n",
    "# Reaction rate\n",
    "def r_rate(c, t, cons):\n",
    "    k360, e, keq60, dh = cons[\"k360\"], cons[\"e\"], cons[\"keq60\"], cons[\"dh\"]\n",
    "\n",
    "    kd_t = k360 * np.exp(e / R * (1 / 360 - 1 / t))\n",
    "    keq_t = keq60 * np.exp(dh / R * (1 / (60 + 273.15) - 1 / t))\n",
    "\n",
    "    rd = kd_t * c[\"but\"]\n",
    "    ri = kd_t / keq_t * c[\"i-but\"]\n",
    "\n",
    "    return rd - ri\n",
    "\n",
    "# Kinetic object\n",
    "kinetic = rd.Kinetic(\n",
    "    mix=mix,\n",
    "    reactions={\"r1\": {\"eq\": but > ibut, \"rate\": r_rate, \"DH\": dh}},\n",
    "    kinetic_constants={\n",
    "        \"k360\": 31.1 / 3600,\n",
    "        \"e\": 65.7 * 1000,\n",
    "        \"keq60\": 3.03,\n",
    "        \"dh\": dh,\n",
    "    },\n",
    "    rates_argument=\"concentration\",\n",
    ")"
   ]
  },
  {
   "attachments": {},
   "cell_type": "markdown",
   "metadata": {},
   "source": [
    "For each reactor, different mass, energy and pressure balances can be chosen.\n",
    "\n",
    "__Mass Balance Set__"
   ]
  },
  {
   "cell_type": "code",
   "execution_count": 7,
   "metadata": {},
   "outputs": [],
   "source": [
    "f_mol = 163 * 1000 / 3600  # mol / s\n",
    "\n",
    "mb = pfr.mass_balances.MolarFlow(\n",
    "    molar_flows_in={\"but\": f_mol * 0.9, \"i-but\": 0, \"i-pen\": f_mol * 0.1},\n",
    ")"
   ]
  },
  {
   "attachments": {},
   "cell_type": "markdown",
   "metadata": {},
   "source": [
    "__Energy Balance Set__"
   ]
  },
  {
   "cell_type": "code",
   "execution_count": 8,
   "metadata": {},
   "outputs": [],
   "source": [
    "\n",
    "eb = pfr.energy_balances.Adiabatic(temperature_in_or_out={\"in\": 330})"
   ]
  },
  {
   "attachments": {},
   "cell_type": "markdown",
   "metadata": {},
   "source": [
    "__Pressure Balance Set__"
   ]
  },
  {
   "cell_type": "code",
   "execution_count": 9,
   "metadata": {},
   "outputs": [],
   "source": [
    "pb = pfr.pressure_balances.Isobaric(101325)"
   ]
  },
  {
   "attachments": {},
   "cell_type": "markdown",
   "metadata": {},
   "source": [
    "__Set and Simulate the reactor__"
   ]
  },
  {
   "cell_type": "code",
   "execution_count": 10,
   "metadata": {},
   "outputs": [],
   "source": [
    "reactor = pfr.PFR(\n",
    "    kinetic=kinetic,\n",
    "    reactor_length=5,\n",
    "    transversal_area=1,\n",
    "    grid_size=100,\n",
    "    mass_balance=mb,\n",
    "    energy_balance=eb,\n",
    "    pressure_balance=pb,\n",
    ")\n",
    "\n",
    "reactor.simulate(1e-5)"
   ]
  },
  {
   "attachments": {},
   "cell_type": "markdown",
   "metadata": {},
   "source": [
    "Simulations results are stored in a pandas data frame."
   ]
  },
  {
   "cell_type": "code",
   "execution_count": 12,
   "metadata": {},
   "outputs": [
    {
     "data": {
      "text/html": [
       "<div>\n",
       "<style scoped>\n",
       "    .dataframe tbody tr th:only-of-type {\n",
       "        vertical-align: middle;\n",
       "    }\n",
       "\n",
       "    .dataframe tbody tr th {\n",
       "        vertical-align: top;\n",
       "    }\n",
       "\n",
       "    .dataframe thead th {\n",
       "        text-align: right;\n",
       "    }\n",
       "</style>\n",
       "<table border=\"1\" class=\"dataframe\">\n",
       "  <thead>\n",
       "    <tr style=\"text-align: right;\">\n",
       "      <th></th>\n",
       "      <th>z</th>\n",
       "      <th>but</th>\n",
       "      <th>i-but</th>\n",
       "      <th>i-pen</th>\n",
       "      <th>temperature</th>\n",
       "      <th>pressure</th>\n",
       "    </tr>\n",
       "  </thead>\n",
       "  <tbody>\n",
       "    <tr>\n",
       "      <th>0</th>\n",
       "      <td>0.000000</td>\n",
       "      <td>40.750000</td>\n",
       "      <td>0.000000</td>\n",
       "      <td>4.527778</td>\n",
       "      <td>330.000000</td>\n",
       "      <td>101325.0</td>\n",
       "    </tr>\n",
       "    <tr>\n",
       "      <th>1</th>\n",
       "      <td>0.050505</td>\n",
       "      <td>40.191385</td>\n",
       "      <td>0.558615</td>\n",
       "      <td>4.527778</td>\n",
       "      <td>330.595306</td>\n",
       "      <td>101325.0</td>\n",
       "    </tr>\n",
       "    <tr>\n",
       "      <th>2</th>\n",
       "      <td>0.101010</td>\n",
       "      <td>39.618720</td>\n",
       "      <td>1.131280</td>\n",
       "      <td>4.527778</td>\n",
       "      <td>331.205585</td>\n",
       "      <td>101325.0</td>\n",
       "    </tr>\n",
       "    <tr>\n",
       "      <th>3</th>\n",
       "      <td>0.151515</td>\n",
       "      <td>39.031625</td>\n",
       "      <td>1.718375</td>\n",
       "      <td>4.527778</td>\n",
       "      <td>331.831243</td>\n",
       "      <td>101325.0</td>\n",
       "    </tr>\n",
       "    <tr>\n",
       "      <th>4</th>\n",
       "      <td>0.202020</td>\n",
       "      <td>38.429737</td>\n",
       "      <td>2.320263</td>\n",
       "      <td>4.527778</td>\n",
       "      <td>332.472664</td>\n",
       "      <td>101325.0</td>\n",
       "    </tr>\n",
       "    <tr>\n",
       "      <th>...</th>\n",
       "      <td>...</td>\n",
       "      <td>...</td>\n",
       "      <td>...</td>\n",
       "      <td>...</td>\n",
       "      <td>...</td>\n",
       "      <td>...</td>\n",
       "    </tr>\n",
       "    <tr>\n",
       "      <th>226</th>\n",
       "      <td>4.932660</td>\n",
       "      <td>11.643340</td>\n",
       "      <td>29.106660</td>\n",
       "      <td>4.527778</td>\n",
       "      <td>361.018466</td>\n",
       "      <td>101325.0</td>\n",
       "    </tr>\n",
       "    <tr>\n",
       "      <th>227</th>\n",
       "      <td>4.949495</td>\n",
       "      <td>11.643324</td>\n",
       "      <td>29.106676</td>\n",
       "      <td>4.527778</td>\n",
       "      <td>361.018483</td>\n",
       "      <td>101325.0</td>\n",
       "    </tr>\n",
       "    <tr>\n",
       "      <th>228</th>\n",
       "      <td>4.966330</td>\n",
       "      <td>11.643310</td>\n",
       "      <td>29.106690</td>\n",
       "      <td>4.527778</td>\n",
       "      <td>361.018499</td>\n",
       "      <td>101325.0</td>\n",
       "    </tr>\n",
       "    <tr>\n",
       "      <th>229</th>\n",
       "      <td>4.983165</td>\n",
       "      <td>11.643295</td>\n",
       "      <td>29.106705</td>\n",
       "      <td>4.527778</td>\n",
       "      <td>361.018514</td>\n",
       "      <td>101325.0</td>\n",
       "    </tr>\n",
       "    <tr>\n",
       "      <th>230</th>\n",
       "      <td>5.000000</td>\n",
       "      <td>11.643282</td>\n",
       "      <td>29.106718</td>\n",
       "      <td>4.527778</td>\n",
       "      <td>361.018528</td>\n",
       "      <td>101325.0</td>\n",
       "    </tr>\n",
       "  </tbody>\n",
       "</table>\n",
       "<p>231 rows × 6 columns</p>\n",
       "</div>"
      ],
      "text/plain": [
       "            z        but      i-but     i-pen  temperature  pressure\n",
       "0    0.000000  40.750000   0.000000  4.527778   330.000000  101325.0\n",
       "1    0.050505  40.191385   0.558615  4.527778   330.595306  101325.0\n",
       "2    0.101010  39.618720   1.131280  4.527778   331.205585  101325.0\n",
       "3    0.151515  39.031625   1.718375  4.527778   331.831243  101325.0\n",
       "4    0.202020  38.429737   2.320263  4.527778   332.472664  101325.0\n",
       "..        ...        ...        ...       ...          ...       ...\n",
       "226  4.932660  11.643340  29.106660  4.527778   361.018466  101325.0\n",
       "227  4.949495  11.643324  29.106676  4.527778   361.018483  101325.0\n",
       "228  4.966330  11.643310  29.106690  4.527778   361.018499  101325.0\n",
       "229  4.983165  11.643295  29.106705  4.527778   361.018514  101325.0\n",
       "230  5.000000  11.643282  29.106718  4.527778   361.018528  101325.0\n",
       "\n",
       "[231 rows x 6 columns]"
      ]
     },
     "execution_count": 12,
     "metadata": {},
     "output_type": "execute_result"
    }
   ],
   "source": [
    "reactor.sim_df"
   ]
  },
  {
   "attachments": {},
   "cell_type": "markdown",
   "metadata": {},
   "source": [
    "z = reactor longitude [m]  \n",
    "but = molar flow of butane [mol/s]  \n",
    "i-but = molar flow of iso-butane [mol/s]  \n",
    "i-pen = molar flow of iso-pentane [mol/s]  \n",
    "temperature = reactor's temperature [K]  \n",
    "pressure = reactor's pressure [Pa]  "
   ]
  },
  {
   "attachments": {},
   "cell_type": "markdown",
   "metadata": {},
   "source": [
    "__Ploting results__"
   ]
  },
  {
   "cell_type": "code",
   "execution_count": 11,
   "metadata": {},
   "outputs": [
    {
     "data": {
      "image/png": "[encoded data removed]",
      "text/plain": [
       "<Figure size 2000x500 with 3 Axes>"
      ]
     },
     "metadata": {},
     "output_type": "display_data"
    }
   ],
   "source": [
    "results = reactor.sim_df\n",
    "rd_fbut = results[\"but\"]\n",
    "rd_x = (f_mol * 0.9 - rd_fbut) / (f_mol * 0.9)\n",
    "\n",
    "fig1, (ax1, ax2, ax3) = plt.subplots (1,3, figsize=(20, 5))\n",
    "\n",
    "plt.rcParams[\"font.size\"] = 15\n",
    "\n",
    "ax1.set_xlabel(\"Reactor Volume [$m^{3}$]\")\n",
    "ax1.set_ylabel(\"Concentrations (mol/$m^{3}$)\")\n",
    "ax1.set_title(\"Concentrations\")\n",
    "ax1.plot(results.z, results[\"but\"], \"-k\", label=\"butane\", linewidth=2.5)\n",
    "ax1.plot(\n",
    "    results.z, \n",
    "    results[\"i-but\"], \n",
    "    \"-g\", \n",
    "    label=\"iso-butane\",\n",
    "    linewidth=2.5\n",
    ")\n",
    "\n",
    "ax1.plot(\n",
    "    results.z, \n",
    "    results[\"i-pen\"], \n",
    "    \"--c\", \n",
    "    label=\"iso-pentane\", \n",
    "    linewidth=1.8\n",
    ")\n",
    "\n",
    "ax1.legend()\n",
    "\n",
    "ax2.set_xlabel(\"Reactor Volume [$m^{3}$]\")\n",
    "ax2.set_ylabel(\"Temperature (K)\")\n",
    "ax2.set_title(\"Temperature\")\n",
    "ax2.plot(results.z, results.temperature, \"-r\")\n",
    "\n",
    "ax3.set_xlabel(\"Reactor Volume [$m^{3}$]\")\n",
    "ax3.set_ylabel(\"Pressure (K)\")\n",
    "ax3.set_title(\"Pressure\")\n",
    "ax3.plot(results.z, results.pressure, \"-b\",);"
   ]
  }
 ],
 "metadata": {
  "kernelspec": {
   "display_name": "reactord",
   "language": "python",
   "name": "python3"
  },
  "language_info": {
   "codemirror_mode": {
    "name": "ipython",
    "version": 3
   },
   "file_extension": ".py",
   "mimetype": "text/x-python",
   "name": "python",
   "nbconvert_exporter": "python",
   "pygments_lexer": "ipython3",
   "version": "3.10.6"
  },
  "orig_nbformat": 4,
  "vscode": {
   "interpreter": {
    "hash": "44eb91f73ea2661bbbecc9f77111c56822635f905b8a2c5d2c14405903be0d49"
   }
  }
 },
 "nbformat": 4,
 "nbformat_minor": 2
}
