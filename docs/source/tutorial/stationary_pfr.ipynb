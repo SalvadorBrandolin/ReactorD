{
 "cells": [
  {
   "attachments": {},
   "cell_type": "markdown",
   "metadata": {},
   "source": [
    "## PFR Stationary 1 dimension\n",
    "\n",
    "Plug flow reactor in steady state operation.\n",
    "\n"
   ]
  },
  {
   "cell_type": "code",
   "execution_count": 1,
   "metadata": {},
   "outputs": [],
   "source": [
    "import numpy as np\n",
    "\n",
    "import matplotlib.pyplot as plt\n",
    "\n",
    "import reactord as rd\n",
    "\n",
    "from scipy.constants import R\n"
   ]
  },
  {
   "attachments": {},
   "cell_type": "markdown",
   "metadata": {},
   "source": [
    "### Operating the PFR"
   ]
  },
  {
   "attachments": {},
   "cell_type": "markdown",
   "metadata": {},
   "source": [
    "A reactor may be operated in terms of its catalyst operation, thermal operation, \n",
    "and pressure operation.\n",
    "\n",
    "\n",
    "| Catalyst operation | Thermal opration | Pressure operation |\n",
    "|--------------------|------------------|--------------------|\n",
    "| Homogeneous        | Isothermal       | Isobaric           |\n",
    "| Heterogeneous      | Adiabatic        | Non-isobaric       |\n",
    "|                    | Non-isothermal   |                    |\n",
    "\n",
    "\n",
    "\n",
    "For the piston flow reactor, the list of implemented operations is:\n",
    "\n",
    "- Homogeneous  \n",
    "    - Isothermal  \n",
    "        - Isobaric\n",
    "        - Non-isobaric  \n",
    "    - Adiabatic  \n",
    "        - Isobaric  \n",
    "        - Non-isobaric  "
   ]
  },
  {
   "attachments": {},
   "cell_type": "markdown",
   "metadata": {},
   "source": [
    "#### Reaction rate\n",
    "\n",
    "Reaction rates are defined by python function with the format:\n",
    "\n",
    "```python\n",
    "def reaction_rate(composition: dict, temperature: float, kinetics_constants: dict) -> float:\n",
    "    # calculation of the reaction rate \n",
    "    return evaluated_reaction_rate\n",
    "```\n",
    "\n",
    "Composition is the compositional argument of the reaction_rate. The available\n",
    "compositional arguments in ReactorD are:  \n",
    "\n",
    "- Concentration $[\\frac {mol} {m^3}]$  \n",
    "- Partial pressure [Pa]\n",
    "\n",
    "The desired compositional argument is selected in the reactor's definition with\n",
    "the argument \"rates_argument\". \n",
    "\n",
    "If Concentrationtion is selected as the compositional argument, ReactorD will \n",
    "evaluate the ```reaction_rate``` in the concentrations of all the mixture's\n",
    "substances and the temperature. \n",
    "Then, for a hypothetical reaction\n",
    "\n",
    "$$A + B \\rightarrow C $$\n",
    "\n",
    "the reaction rates could be.\n",
    "\n",
    "```python\n",
    "def reaction_rate1(composition, temperature, constants):\n",
    "    Arr, e, dh = constants[\"Arrhenius\"], constants[\"activation energy\"]\n",
    "\n",
    "    rate = Arr* np.exp(e / R * (1 / temperature))*composition[\"A\"]*composition[\"B\"]\n",
    "\n",
    "    return rate\n",
    "```"
   ]
  },
  {
   "attachments": {},
   "cell_type": "markdown",
   "metadata": {},
   "source": [
    "### Example: Adiabatic Liquid-Phase Isomerization of Normal Butane\n",
    "Fogler 6th ed. Example 11.3.\n",
    "\n",
    "Reaction:\n",
    "\n",
    "$$Butane + iPentane \\leftrightarrow iButane + iPentane $$\n",
    "\n",
    "Kinetic law:\n",
    "\n",
    "$$r = k_dC_{But} - k_iC_{i-But}$$\n",
    "\n",
    "We want to process 163 kmol/h and achieve 70% conversion of n-butane from a mixture 90 mol %\n",
    "n-butane and 10 mol % i-pentane, which is considered an inert. The feed enters at 330 K\n",
    "\n",
    "Specific reaction rate at 360K = 31.1  $\\ {h^{-1}}$  \n",
    "Kinetic constant at 60 °C = 3.03  \n",
    "Enthalpy reaction (dH) = -6900 $\\frac {J} {mol n-butane}$  \n",
    "Activation energy (e)= 65.7 $\\frac {kJ} {mol}$    \n",
    "$C_{p-nBut} = C_{p-iBut}$ = 141 $\\frac {J} {mol·K}$  \n",
    "$C_{p-iPen}$ = 161 $\\frac {J} {mol·K}$  \n",
    "$C_{A0}=9.3$ $\\frac {kmol} {mol^3}$ \n",
    "\n",
    "Reactor: liquid phase, Adiabatic and isobaric PFR\n",
    "Pressure not specified. It is assumed as 101325 Pa (pressure will not be \n",
    "used)\n",
    "\n",
    "For convenience the reactor will be import from the modules as pfr"
   ]
  },
  {
   "cell_type": "code",
   "execution_count": 9,
   "metadata": {},
   "outputs": [],
   "source": [
    "import reactord.flowreactors.stationary_1d.pfr as pfr"
   ]
  },
  {
   "attachments": {},
   "cell_type": "markdown",
   "metadata": {},
   "source": [
    "__Substance definitions__  \n",
    "\n",
    "For a liquid phase, adiabatic and isobaric PFR the volume and cp of the pure\n",
    "substances are necessary to evaluate the balances."
   ]
  },
  {
   "cell_type": "code",
   "execution_count": 10,
   "metadata": {},
   "outputs": [],
   "source": [
    "def volume(temperature, pressure):\n",
    "    f_mol = 163 * 1000 / 3600  # mol / s\n",
    "    f_volumetric = 100_000 * 0.00378541 / 24 / 3600  # m3 / s\n",
    "\n",
    "    rho = f_mol / f_volumetric\n",
    "    v = 1 / rho  # m3 / mol\n",
    "    return np.full(np.size(temperature), v)\n",
    "\n",
    "def cp_butane(temperature, pressure):\n",
    "    return np.full(np.size(temperature), 141)  # J / mol / K\n",
    "\n",
    "def cp_pentane(temperature, pressure):\n",
    "    return np.full(np.size(temperature), 161)  # J / mol / K\n"
   ]
  },
  {
   "cell_type": "code",
   "execution_count": 12,
   "metadata": {},
   "outputs": [],
   "source": [
    "but = rd.Substance(\n",
    "    \"but\", volume_liquid=volume, heat_capacity_liquid=cp_butane\n",
    ")\n",
    "\n",
    "ibut = rd.Substance(\n",
    "    \"i-but\", volume_liquid=volume, heat_capacity_liquid=cp_butane\n",
    ")\n",
    "\n",
    "ipen = rd.Substance(\n",
    "    \"i-pen\", volume_liquid=volume, heat_capacity_liquid=cp_pentane\n",
    ")"
   ]
  },
  {
   "attachments": {},
   "cell_type": "markdown",
   "metadata": {},
   "source": [
    "__Mixture definition__"
   ]
  },
  {
   "cell_type": "code",
   "execution_count": 13,
   "metadata": {},
   "outputs": [],
   "source": [
    "\n",
    "mix = rd.mix.IdealSolution([but, ibut, ipen])"
   ]
  },
  {
   "cell_type": "code",
   "execution_count": 14,
   "metadata": {},
   "outputs": [],
   "source": [
    "kinetic = rd.Kinetic(\n",
    "    mix=mix,\n",
    "    reactions={\"r1\": {\"eq\": but > ibut, \"rate\": r_rate, \"DH\": dh}},\n",
    "    kinetic_constants={\n",
    "        \"k360\": 31.1 / 3600,\n",
    "        \"e\": 65.7 * 1000,\n",
    "        \"keq60\": 3.03,\n",
    "        \"dh\": dh,\n",
    "    },\n",
    "    rates_argument=\"concentration\",\n",
    ")\n",
    "\n",
    "dh = -6900  # J / mol\n",
    "\n",
    "f_mol = 163 * 1000 / 3600  # mol / s"
   ]
  },
  {
   "attachments": {},
   "cell_type": "markdown",
   "metadata": {},
   "source": [
    "__Kinetic definition__  \n",
    "\n"
   ]
  },
  {
   "cell_type": "code",
   "execution_count": 15,
   "metadata": {},
   "outputs": [],
   "source": [
    "def r_rate(c, t, cons):\n",
    "    k360, e, keq60, dh = cons[\"k360\"], cons[\"e\"], cons[\"keq60\"], cons[\"dh\"]\n",
    "\n",
    "    kd_t = k360 * np.exp(e / R * (1 / 360 - 1 / t))\n",
    "    keq_t = keq60 * np.exp(dh / R * (1 / (60 + 273.15) - 1 / t))\n",
    "\n",
    "    rd = kd_t * c[\"but\"]\n",
    "    ri = kd_t / keq_t * c[\"i-but\"]\n",
    "\n",
    "    return rd - ri\n",
    "\n",
    "dh = -6900  # J / mol"
   ]
  },
  {
   "attachments": {},
   "cell_type": "markdown",
   "metadata": {},
   "source": [
    "__Mass Balance Set__"
   ]
  },
  {
   "cell_type": "code",
   "execution_count": 16,
   "metadata": {},
   "outputs": [],
   "source": [
    "mb = pfr.mass_balances.MolarFlow(\n",
    "    molar_flows_in={\"but\": f_mol * 0.9, \"i-but\": 0, \"i-pen\": f_mol * 0.1},\n",
    ")"
   ]
  },
  {
   "attachments": {},
   "cell_type": "markdown",
   "metadata": {},
   "source": [
    "__Energy Balance Set__"
   ]
  },
  {
   "cell_type": "code",
   "execution_count": 17,
   "metadata": {},
   "outputs": [],
   "source": [
    "\n",
    "eb = pfr.energy_balances.Adiabatic(temperature_in_or_out={\"in\": 330})"
   ]
  },
  {
   "attachments": {},
   "cell_type": "markdown",
   "metadata": {},
   "source": [
    "__Pressure Balance Set__"
   ]
  },
  {
   "cell_type": "code",
   "execution_count": 18,
   "metadata": {},
   "outputs": [],
   "source": [
    "pb = pfr.pressure_balances.Isobaric(101325)"
   ]
  },
  {
   "attachments": {},
   "cell_type": "markdown",
   "metadata": {},
   "source": [
    "__Set and Simulate the reactor__"
   ]
  },
  {
   "cell_type": "code",
   "execution_count": 21,
   "metadata": {},
   "outputs": [],
   "source": [
    "reactor = pfr.PFR(\n",
    "    kinetic=kinetic,\n",
    "    reactor_length=5,\n",
    "    transversal_area=1,\n",
    "    grid_size=100,\n",
    "    mass_balance=mb,\n",
    "    energy_balance=eb,\n",
    "    pressure_balance=pb,\n",
    ")\n",
    "\n",
    "reactor.simulate(1e-5)"
   ]
  },
  {
   "attachments": {},
   "cell_type": "markdown",
   "metadata": {},
   "source": [
    "__Ploting results__"
   ]
  },
  {
   "cell_type": "code",
   "execution_count": 23,
   "metadata": {},
   "outputs": [
    {
     "data": {
      "image/png": "[encoded data removed]",
      "text/plain": [
       "<Figure size 640x480 with 3 Axes>"
      ]
     },
     "metadata": {},
     "output_type": "display_data"
    }
   ],
   "source": [
    "vol_temps = np.array(\n",
    "    [\n",
    "        0.11963,\n",
    "        0.30367,\n",
    "        0.49701,\n",
    "        0.6535,\n",
    "        0.98498,\n",
    "        1.20608,\n",
    "        1.42704,\n",
    "        1.64792,\n",
    "        1.93304,\n",
    "        2.54816,\n",
    "        3.07124,\n",
    "        3.81441,\n",
    "        4.47502,\n",
    "        4.97954,\n",
    "    ]\n",
    ")\n",
    "temps = np.array(\n",
    "    [\n",
    "        331.69216,\n",
    "        334.0963,\n",
    "        337.03582,\n",
    "        339.35166,\n",
    "        344.60768,\n",
    "        348.61764,\n",
    "        352.0026,\n",
    "        355.03043,\n",
    "        358.14525,\n",
    "        360.08756,\n",
    "        360.69388,\n",
    "        360.9352,\n",
    "        361.17946,\n",
    "        360.89359,\n",
    "    ]\n",
    ")\n",
    "\n",
    "vol_x = np.array(\n",
    "    [\n",
    "        0.09158,\n",
    "        0.32051,\n",
    "        0.57692,\n",
    "        0.78755,\n",
    "        0.99817,\n",
    "        1.26374,\n",
    "        1.52015,\n",
    "        1.77656,\n",
    "        2.28938,\n",
    "        2.71978,\n",
    "        3.26923,\n",
    "    ]\n",
    ")\n",
    "x = np.array(\n",
    "    [\n",
    "        0.02487,\n",
    "        0.09767,\n",
    "        0.18291,\n",
    "        0.25216,\n",
    "        0.32674,\n",
    "        0.43504,\n",
    "        0.53092,\n",
    "        0.60551,\n",
    "        0.68551,\n",
    "        0.70163,\n",
    "        0.70892,\n",
    "    ]\n",
    ")\n",
    "rd_temps = reactor.ode_solution.sol(vol_temps)[-2]\n",
    "rd_fbut = reactor.ode_solution.sol(vol_x)[-0]\n",
    "rd_x = (f_mol * 0.9 - rd_fbut) / (f_mol * 0.9)\n",
    "\n",
    "\n",
    "results = reactor.sim_df   \n",
    "\n",
    "fig1, (ax1, ax2, ax3) = plt.subplots (1,3)\n",
    "\n",
    "ax1.set_xlabel (\"Reactor Volume [$m^{3}$]\")\n",
    "ax1.set_ylabel (\"Concentrations (mol/$m^{3}$)\")\n",
    "ax1.set_title (\"Concentrations\")\n",
    "ax1.plot (results.z, results[\"but\"], \"-k\", label=\"butane\", linewidth=2.5)\n",
    "ax1.plot (results.z, results[\"i-but\"], \"-g\", label=\"iso-butane\",  linewidth=2.5)\n",
    "ax1.plot (results.z, results[\"i-pen\"], \"--c\", label=\"iso-pentane\", linewidth=1.8)\n",
    "ax1.legend()\n",
    "         \n",
    "\n",
    "ax2.set_xlabel (\"Reactor Volume [$m^{3}$]\")\n",
    "ax2.set_ylabel (\"Temperature (K)\")\n",
    "ax2.set_title (\"Temperature\")\n",
    "ax2.plot (results.z, results.temperature, \"-r\")\n",
    "\n",
    "ax3.set_xlabel (\"Reactor Volume [$m^{3}$]\")\n",
    "ax3.set_ylabel (\"Pressure (K)\")\n",
    "ax3.set_title (\"Pressure\")\n",
    "ax3.plot (results.z, results.pressure, \"-b\",)\n",
    "\n",
    "plt.show()"
   ]
  }
 ],
 "metadata": {
  "kernelspec": {
   "display_name": "reactord",
   "language": "python",
   "name": "python3"
  },
  "language_info": {
   "codemirror_mode": {
    "name": "ipython",
    "version": 3
   },
   "file_extension": ".py",
   "mimetype": "text/x-python",
   "name": "python",
   "nbconvert_exporter": "python",
   "pygments_lexer": "ipython3",
   "version": "3.10.6"
  },
  "orig_nbformat": 4,
  "vscode": {
   "interpreter": {
    "hash": "44eb91f73ea2661bbbecc9f77111c56822635f905b8a2c5d2c14405903be0d49"
   }
  }
 },
 "nbformat": 4,
 "nbformat_minor": 2
}
