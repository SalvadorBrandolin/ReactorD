{
 "cells": [
  {
   "cell_type": "code",
   "execution_count": 12,
   "metadata": {},
   "outputs": [],
   "source": [
    "import reactord as rd\n",
    "import reactord.flowreactors.stationary_1d.pfr as pfr\n",
    "\n",
    "import numpy as np\n",
    "\n",
    "import matplotlib.pyplot as plt"
   ]
  },
  {
   "cell_type": "code",
   "execution_count": 13,
   "metadata": {},
   "outputs": [],
   "source": [
    "def cpa(t, p):\n",
    "    return np.full(len(t), 163)\n",
    "\n",
    "\n",
    "def cpb(t, p):\n",
    "    return np.full(len(t), 83)\n",
    "\n",
    "\n",
    "def cpc(t, p):\n",
    "    return np.full(len(t), 71)\n",
    "\n",
    "\n",
    "def int_cpa(t1, t2, p):\n",
    "    return 163 * (t2 - t1)\n",
    "\n",
    "\n",
    "def int_cpb(t1, t2, p):\n",
    "    return 83 * (t2 - t1)\n",
    "\n",
    "\n",
    "def int_cpc(t1, t2, p):\n",
    "    return 71 * (t2 - t1)\n",
    "\n",
    "\n",
    "def r_rate(c, t, cons):\n",
    "    k = 8.2e14 * np.exp(-34222 / t)  # 1/s\n",
    "\n",
    "    return k * c[\"acetone\"]\n",
    "\n",
    "\n",
    "a = rd.Substance(\n",
    "    \"acetone\",\n",
    "    formation_enthalpy_ig=-216.67 * 1000,\n",
    "    heat_capacity_gas=cpa,\n",
    "    heat_capacity_gas_dt_integral=int_cpa,\n",
    ")\n",
    "\n",
    "b = rd.Substance(\n",
    "    \"anhydride\",\n",
    "    formation_enthalpy_ig=-61.09 * 1000,\n",
    "    heat_capacity_gas=cpb,\n",
    "    heat_capacity_gas_dt_integral=int_cpb,\n",
    ")\n",
    "\n",
    "c = rd.Substance(\n",
    "    \"methane\",\n",
    "    formation_enthalpy_ig=-74.81 * 1000,\n",
    "    heat_capacity_gas=cpc,\n",
    "    heat_capacity_gas_dt_integral=int_cpc,\n",
    ")\n",
    "\n",
    "mix = rd.mix.IdealGas([a, b, c])\n",
    "\n",
    "kinetic = rd.Kinetic(\n",
    "    mix=mix,\n",
    "    reactions={\"r1\": {\"eq\": a > b + c, \"rate\": r_rate}},\n",
    "    kinetic_constants={},\n",
    "    rates_argument=\"concentration\",\n",
    ")\n",
    "\n",
    "mb = pfr.mass_balances.MolarFlow(\n",
    "    molar_flows_in={\"acetone\": 0.0376, \"anhydride\": 0, \"methane\": 0},\n",
    ")\n",
    "eb = pfr.energy_balances.NoIsothermicAllConstant(\n",
    "    temperature_in_or_out={\"in\": 1035},\n",
    "    refrigerant_in_temperature=1250,\n",
    "    heat_exchange_coefficient=110,\n",
    ")\n",
    "pb = pfr.pressure_balances.Isobaric(162 * 1000)\n",
    "\n",
    "area = np.pi * (4 / (16500 / 110)) ** 2 / 4\n",
    "\n",
    "reactor = pfr.PFR(\n",
    "    kinetic=kinetic,\n",
    "    reactor_length=1 / 1000 / area,\n",
    "    transversal_area=area,\n",
    "    grid_size=1000,\n",
    "    mass_balance=mb,\n",
    "    energy_balance=eb,\n",
    "    pressure_balance=pb,\n",
    ")\n",
    "\n",
    "reactor.simulate(1e-8, bc_tol=1e-5, max_nodes=10_000)\n",
    "\n",
    "# Fogler data\n",
    "t_z = (\n",
    "    np.array(\n",
    "        [\n",
    "            0.0159,\n",
    "            0.0398,\n",
    "            0.0677,\n",
    "            0.0956,\n",
    "            0.1275,\n",
    "            0.1753,\n",
    "            0.2191,\n",
    "            0.259,\n",
    "            0.3028,\n",
    "            0.3506,\n",
    "            0.3904,\n",
    "            0.4382,\n",
    "            0.4821,\n",
    "            0.5498,\n",
    "            0.6215,\n",
    "            0.6773,\n",
    "            0.749,\n",
    "            0.8287,\n",
    "            0.8924,\n",
    "            0.9522,\n",
    "            0.996,\n",
    "        ]\n",
    "    )\n",
    "    / 1000\n",
    "    / area\n",
    ")\n",
    "t = np.array(\n",
    "    [\n",
    "        1033.93,\n",
    "        1030.44,\n",
    "        1030.44,\n",
    "        1031.31,\n",
    "        1032.62,\n",
    "        1035.24,\n",
    "        1037.86,\n",
    "        1040.49,\n",
    "        1043.54,\n",
    "        1047.04,\n",
    "        1050.10,\n",
    "        1053.59,\n",
    "        1057.09,\n",
    "        1062.33,\n",
    "        1068.45,\n",
    "        1073.25,\n",
    "        1080.24,\n",
    "        1088.98,\n",
    "        1097.28,\n",
    "        1106.46,\n",
    "        1113.88,\n",
    "    ]\n",
    ")\n",
    "\n",
    "x_z = (\n",
    "    np.array(\n",
    "        [\n",
    "            0.0121,\n",
    "            0.0684,\n",
    "            0.1206,\n",
    "            0.193,\n",
    "            0.2814,\n",
    "            0.3537,\n",
    "            0.426,\n",
    "            0.4983,\n",
    "            0.5705,\n",
    "            0.6428,\n",
    "            0.719,\n",
    "            0.8073,\n",
    "            0.9036,\n",
    "            0.9958,\n",
    "        ]\n",
    "    )\n",
    "    / 1000\n",
    "    / area\n",
    ")\n",
    "x = np.array(\n",
    "    [\n",
    "        0.0194,\n",
    "        0.0922,\n",
    "        0.1553,\n",
    "        0.2427,\n",
    "        0.3398,\n",
    "        0.4223,\n",
    "        0.4951,\n",
    "        0.568,\n",
    "        0.6311,\n",
    "        0.6942,\n",
    "        0.7524,\n",
    "        0.8204,\n",
    "        0.8883,\n",
    "        0.9466,\n",
    "    ]\n",
    ")\n",
    "\n",
    "rd_temps = reactor.ode_solution.sol(t_z)[-3]\n",
    "rd_facetone = reactor.ode_solution.sol(x_z)[0]\n",
    "rd_x = (0.0376 - rd_facetone) / (0.0376)"
   ]
  },
  {
   "cell_type": "code",
   "execution_count": 14,
   "metadata": {},
   "outputs": [
    {
     "data": {
      "text/plain": [
       "<matplotlib.legend.Legend at 0x7ffc544481c0>"
      ]
     },
     "execution_count": 14,
     "metadata": {},
     "output_type": "execute_result"
    },
    {
     "data": {
      "image/png": "[encoded data removed]",
      "text/plain": [
       "<Figure size 640x480 with 1 Axes>"
      ]
     },
     "metadata": {},
     "output_type": "display_data"
    }
   ],
   "source": [
    "plt.plot(t_z, t, label=\"fogler\")\n",
    "\n",
    "plt.plot(t_z, reactor.ode_solution.sol(t_z)[-3], label=\"reactord\")\n",
    "\n",
    "plt.xlim(0, 1 / 1000 / area)\n",
    "\n",
    "plt.ylim(1000, 1200)\n",
    "\n",
    "plt.legend()"
   ]
  },
  {
   "cell_type": "code",
   "execution_count": 15,
   "metadata": {},
   "outputs": [
    {
     "data": {
      "text/plain": [
       "(0.0, 1.0)"
      ]
     },
     "execution_count": 15,
     "metadata": {},
     "output_type": "execute_result"
    },
    {
     "data": {
      "image/png": "[encoded data removed]",
      "text/plain": [
       "<Figure size 640x480 with 1 Axes>"
      ]
     },
     "metadata": {},
     "output_type": "display_data"
    }
   ],
   "source": [
    "reactor.sim_df.plot(\"z\", \"temperature\")\n",
    "plt.xlim(0, 1)"
   ]
  },
  {
   "cell_type": "code",
   "execution_count": 16,
   "metadata": {},
   "outputs": [],
   "source": [
    "from scipy.integrate import solve_ivp"
   ]
  },
  {
   "cell_type": "code",
   "execution_count": 17,
   "metadata": {},
   "outputs": [],
   "source": [
    "def f(t, y):\n",
    "    return np.cos(y)"
   ]
  },
  {
   "cell_type": "code",
   "execution_count": 18,
   "metadata": {},
   "outputs": [],
   "source": [
    "sol = solve_ivp(f, np.array([0, np.pi]), y0=np.array([0]))"
   ]
  },
  {
   "cell_type": "code",
   "execution_count": 19,
   "metadata": {},
   "outputs": [
    {
     "data": {
      "text/plain": [
       "array([[0.00000000e+00, 9.99999998e-05, 1.09999978e-03, 1.10997721e-02,\n",
       "        1.10872148e-01, 9.34798602e-01, 1.37822938e+00, 1.48432419e+00]])"
      ]
     },
     "execution_count": 19,
     "metadata": {},
     "output_type": "execute_result"
    }
   ],
   "source": [
    "sol.y"
   ]
  },
  {
   "cell_type": "code",
   "execution_count": 20,
   "metadata": {},
   "outputs": [
    {
     "ename": "ValueError",
     "evalue": "x and y must have same first dimension, but have shapes (8,) and (1, 8)",
     "output_type": "error",
     "traceback": [
      "\u001b[0;31m---------------------------------------------------------------------------\u001b[0m",
      "\u001b[0;31mValueError\u001b[0m                                Traceback (most recent call last)",
      "Cell \u001b[0;32mIn[20], line 1\u001b[0m\n\u001b[0;32m----> 1\u001b[0m plt\u001b[39m.\u001b[39;49mplot(sol\u001b[39m.\u001b[39;49mt, sol\u001b[39m.\u001b[39;49my)\n",
      "File \u001b[0;32m~/.virtualenvs/reactord/lib/python3.10/site-packages/matplotlib/pyplot.py:2812\u001b[0m, in \u001b[0;36mplot\u001b[0;34m(scalex, scaley, data, *args, **kwargs)\u001b[0m\n\u001b[1;32m   2810\u001b[0m \u001b[39m@_copy_docstring_and_deprecators\u001b[39m(Axes\u001b[39m.\u001b[39mplot)\n\u001b[1;32m   2811\u001b[0m \u001b[39mdef\u001b[39;00m \u001b[39mplot\u001b[39m(\u001b[39m*\u001b[39margs, scalex\u001b[39m=\u001b[39m\u001b[39mTrue\u001b[39;00m, scaley\u001b[39m=\u001b[39m\u001b[39mTrue\u001b[39;00m, data\u001b[39m=\u001b[39m\u001b[39mNone\u001b[39;00m, \u001b[39m*\u001b[39m\u001b[39m*\u001b[39mkwargs):\n\u001b[0;32m-> 2812\u001b[0m     \u001b[39mreturn\u001b[39;00m gca()\u001b[39m.\u001b[39;49mplot(\n\u001b[1;32m   2813\u001b[0m         \u001b[39m*\u001b[39;49margs, scalex\u001b[39m=\u001b[39;49mscalex, scaley\u001b[39m=\u001b[39;49mscaley,\n\u001b[1;32m   2814\u001b[0m         \u001b[39m*\u001b[39;49m\u001b[39m*\u001b[39;49m({\u001b[39m\"\u001b[39;49m\u001b[39mdata\u001b[39;49m\u001b[39m\"\u001b[39;49m: data} \u001b[39mif\u001b[39;49;00m data \u001b[39mis\u001b[39;49;00m \u001b[39mnot\u001b[39;49;00m \u001b[39mNone\u001b[39;49;00m \u001b[39melse\u001b[39;49;00m {}), \u001b[39m*\u001b[39;49m\u001b[39m*\u001b[39;49mkwargs)\n",
      "File \u001b[0;32m~/.virtualenvs/reactord/lib/python3.10/site-packages/matplotlib/axes/_axes.py:1688\u001b[0m, in \u001b[0;36mAxes.plot\u001b[0;34m(self, scalex, scaley, data, *args, **kwargs)\u001b[0m\n\u001b[1;32m   1445\u001b[0m \u001b[39m\u001b[39m\u001b[39m\"\"\"\u001b[39;00m\n\u001b[1;32m   1446\u001b[0m \u001b[39mPlot y versus x as lines and/or markers.\u001b[39;00m\n\u001b[1;32m   1447\u001b[0m \n\u001b[0;32m   (...)\u001b[0m\n\u001b[1;32m   1685\u001b[0m \u001b[39m(``'green'``) or hex strings (``'#008000'``).\u001b[39;00m\n\u001b[1;32m   1686\u001b[0m \u001b[39m\"\"\"\u001b[39;00m\n\u001b[1;32m   1687\u001b[0m kwargs \u001b[39m=\u001b[39m cbook\u001b[39m.\u001b[39mnormalize_kwargs(kwargs, mlines\u001b[39m.\u001b[39mLine2D)\n\u001b[0;32m-> 1688\u001b[0m lines \u001b[39m=\u001b[39m [\u001b[39m*\u001b[39m\u001b[39mself\u001b[39m\u001b[39m.\u001b[39m_get_lines(\u001b[39m*\u001b[39margs, data\u001b[39m=\u001b[39mdata, \u001b[39m*\u001b[39m\u001b[39m*\u001b[39mkwargs)]\n\u001b[1;32m   1689\u001b[0m \u001b[39mfor\u001b[39;00m line \u001b[39min\u001b[39;00m lines:\n\u001b[1;32m   1690\u001b[0m     \u001b[39mself\u001b[39m\u001b[39m.\u001b[39madd_line(line)\n",
      "File \u001b[0;32m~/.virtualenvs/reactord/lib/python3.10/site-packages/matplotlib/axes/_base.py:311\u001b[0m, in \u001b[0;36m_process_plot_var_args.__call__\u001b[0;34m(self, data, *args, **kwargs)\u001b[0m\n\u001b[1;32m    309\u001b[0m     this \u001b[39m+\u001b[39m\u001b[39m=\u001b[39m args[\u001b[39m0\u001b[39m],\n\u001b[1;32m    310\u001b[0m     args \u001b[39m=\u001b[39m args[\u001b[39m1\u001b[39m:]\n\u001b[0;32m--> 311\u001b[0m \u001b[39myield from\u001b[39;00m \u001b[39mself\u001b[39;49m\u001b[39m.\u001b[39;49m_plot_args(\n\u001b[1;32m    312\u001b[0m     this, kwargs, ambiguous_fmt_datakey\u001b[39m=\u001b[39;49mambiguous_fmt_datakey)\n",
      "File \u001b[0;32m~/.virtualenvs/reactord/lib/python3.10/site-packages/matplotlib/axes/_base.py:504\u001b[0m, in \u001b[0;36m_process_plot_var_args._plot_args\u001b[0;34m(self, tup, kwargs, return_kwargs, ambiguous_fmt_datakey)\u001b[0m\n\u001b[1;32m    501\u001b[0m     \u001b[39mself\u001b[39m\u001b[39m.\u001b[39maxes\u001b[39m.\u001b[39myaxis\u001b[39m.\u001b[39mupdate_units(y)\n\u001b[1;32m    503\u001b[0m \u001b[39mif\u001b[39;00m x\u001b[39m.\u001b[39mshape[\u001b[39m0\u001b[39m] \u001b[39m!=\u001b[39m y\u001b[39m.\u001b[39mshape[\u001b[39m0\u001b[39m]:\n\u001b[0;32m--> 504\u001b[0m     \u001b[39mraise\u001b[39;00m \u001b[39mValueError\u001b[39;00m(\u001b[39mf\u001b[39m\u001b[39m\"\u001b[39m\u001b[39mx and y must have same first dimension, but \u001b[39m\u001b[39m\"\u001b[39m\n\u001b[1;32m    505\u001b[0m                      \u001b[39mf\u001b[39m\u001b[39m\"\u001b[39m\u001b[39mhave shapes \u001b[39m\u001b[39m{\u001b[39;00mx\u001b[39m.\u001b[39mshape\u001b[39m}\u001b[39;00m\u001b[39m and \u001b[39m\u001b[39m{\u001b[39;00my\u001b[39m.\u001b[39mshape\u001b[39m}\u001b[39;00m\u001b[39m\"\u001b[39m)\n\u001b[1;32m    506\u001b[0m \u001b[39mif\u001b[39;00m x\u001b[39m.\u001b[39mndim \u001b[39m>\u001b[39m \u001b[39m2\u001b[39m \u001b[39mor\u001b[39;00m y\u001b[39m.\u001b[39mndim \u001b[39m>\u001b[39m \u001b[39m2\u001b[39m:\n\u001b[1;32m    507\u001b[0m     \u001b[39mraise\u001b[39;00m \u001b[39mValueError\u001b[39;00m(\u001b[39mf\u001b[39m\u001b[39m\"\u001b[39m\u001b[39mx and y can be no greater than 2D, but have \u001b[39m\u001b[39m\"\u001b[39m\n\u001b[1;32m    508\u001b[0m                      \u001b[39mf\u001b[39m\u001b[39m\"\u001b[39m\u001b[39mshapes \u001b[39m\u001b[39m{\u001b[39;00mx\u001b[39m.\u001b[39mshape\u001b[39m}\u001b[39;00m\u001b[39m and \u001b[39m\u001b[39m{\u001b[39;00my\u001b[39m.\u001b[39mshape\u001b[39m}\u001b[39;00m\u001b[39m\"\u001b[39m)\n",
      "\u001b[0;31mValueError\u001b[0m: x and y must have same first dimension, but have shapes (8,) and (1, 8)"
     ]
    },
    {
     "data": {
      "image/png": "[encoded data removed]",
      "text/plain": [
       "<Figure size 640x480 with 1 Axes>"
      ]
     },
     "metadata": {},
     "output_type": "display_data"
    }
   ],
   "source": [
    "plt.plot(sol.t, sol.y)"
   ]
  }
 ],
 "metadata": {
  "kernelspec": {
   "display_name": "reactord",
   "language": "python",
   "name": "python3"
  },
  "language_info": {
   "codemirror_mode": {
    "name": "ipython",
    "version": 3
   },
   "file_extension": ".py",
   "mimetype": "text/x-python",
   "name": "python",
   "nbconvert_exporter": "python",
   "pygments_lexer": "ipython3",
   "version": "3.10.6"
  },
  "orig_nbformat": 4
 },
 "nbformat": 4,
 "nbformat_minor": 2
}
