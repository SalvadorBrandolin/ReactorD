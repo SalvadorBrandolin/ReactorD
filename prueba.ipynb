{
 "cells": [
  {
   "cell_type": "code",
   "execution_count": 42,
   "id": "9e0a4223",
   "metadata": {},
   "outputs": [],
   "source": [
    "import reactord as rd\n",
    "import reactord.flowreactors.stationary_1d.pfr as pfr\n",
    "\n",
    "import numpy as np\n",
    "\n",
    "import matplotlib.pyplot as plt"
   ]
  },
  {
   "cell_type": "markdown",
   "id": "176c1d26",
   "metadata": {},
   "source": [
    "### Definicion de las substancias"
   ]
  },
  {
   "cell_type": "code",
   "execution_count": 43,
   "id": "b775670c",
   "metadata": {},
   "outputs": [],
   "source": [
    "a = rd.Substance.from_thermo_database(name=\"methane\", thermo_identification=\"methane\")\n",
    "b = rd.Substance.from_thermo_database(name=\"ethane\", thermo_identification=\"ethane\")"
   ]
  },
  {
   "cell_type": "markdown",
   "id": "a7aec9df",
   "metadata": {},
   "source": [
    "### Definicion de la mezcla"
   ]
  },
  {
   "cell_type": "code",
   "execution_count": 47,
   "id": "02baa208",
   "metadata": {},
   "outputs": [],
   "source": [
    "mix = rd.mix.IdealSolution([a, b])"
   ]
  },
  {
   "cell_type": "markdown",
   "id": "ed4bf626",
   "metadata": {},
   "source": [
    "### Definicion de kinetics"
   ]
  },
  {
   "cell_type": "code",
   "execution_count": 58,
   "id": "36d00aa0",
   "metadata": {},
   "outputs": [],
   "source": [
    "def ra(concentrations, temperature):\n",
    "    ra = 0.0005 * concentrations[0]\n",
    "    return ra\n",
    "\n",
    "stoichiometry = np.array([-2, 1])\n",
    "\n",
    "kinetic = rd.Kinetics(mix, [ra], stoichiometry)"
   ]
  },
  {
   "cell_type": "markdown",
   "id": "c4ea3f07",
   "metadata": {},
   "source": [
    "### Definicion de balances"
   ]
  },
  {
   "cell_type": "code",
   "execution_count": 51,
   "id": "cb9bdab3",
   "metadata": {},
   "outputs": [],
   "source": [
    "mb = pfr.mass_balances.df_dz(\n",
    "    molar_flows_in={\"methane\": 0.001, \"ethane\": 0},\n",
    "    molar_flows_out={}\n",
    ")\n",
    "\n",
    "eb = pfr.energy_balances.Isothermic(400)\n",
    "\n",
    "pb = pfr.pressure_balances.Isobaric(101325)"
   ]
  },
  {
   "cell_type": "markdown",
   "id": "7b9d9f7f",
   "metadata": {},
   "source": [
    "### Definicion del reactor"
   ]
  },
  {
   "cell_type": "code",
   "execution_count": 52,
   "id": "379ee160",
   "metadata": {},
   "outputs": [],
   "source": [
    "reactor = pfr.PFR(\n",
    "    mix = mix,\n",
    "    kinetics = kinetic,\n",
    "    reactor_length = 0.001,\n",
    "    transversal_area = 1,\n",
    "    grid_size=100,\n",
    "    mass_balance=mb,\n",
    "    energy_balance=eb,\n",
    "    pressure_balance=pb\n",
    ")"
   ]
  },
  {
   "cell_type": "markdown",
   "id": "2ee6ef76",
   "metadata": {},
   "source": [
    "### El repr() del reactor te devuelve el latex de los balances"
   ]
  },
  {
   "cell_type": "code",
   "execution_count": 53,
   "id": "0ee2d26a",
   "metadata": {},
   "outputs": [
    {
     "data": {
      "text/plain": [
       "\\frac{1}{a_t}\\frac{dF_i}{dz}=r_i\n",
       "\\frac{dT}{dz}=0\n",
       "\\frac{dT_r}{dz}=0\n",
       "\\frac{dP}{dz}=0"
      ]
     },
     "execution_count": 53,
     "metadata": {},
     "output_type": "execute_result"
    }
   ],
   "source": [
    "reactor"
   ]
  },
  {
   "cell_type": "markdown",
   "id": "90ef1756",
   "metadata": {},
   "source": [
    "### El irepr del reactor te renderiza los latex si estas en un entorno interactivo"
   ]
  },
  {
   "cell_type": "code",
   "execution_count": 54,
   "id": "79f8b7d5",
   "metadata": {},
   "outputs": [
    {
     "name": "stdout",
     "output_type": "stream",
     "text": [
      "Mass balance:\n"
     ]
    },
    {
     "data": {
      "text/latex": [
       "$\\displaystyle \\frac{1}{a_t}\\frac{dF_i}{dz}=r_i$"
      ],
      "text/plain": [
       "\\frac{1}{a_t}\\frac{dF_i}{dz}=r_i"
      ]
     },
     "metadata": {},
     "output_type": "display_data"
    },
    {
     "name": "stdout",
     "output_type": "stream",
     "text": [
      "Reactor and refrigerant energy balances:\n"
     ]
    },
    {
     "data": {
      "text/latex": [
       "$\\displaystyle \\frac{dT}{dz}=0$"
      ],
      "text/plain": [
       "\\frac{dT}{dz}=0"
      ]
     },
     "metadata": {},
     "output_type": "display_data"
    },
    {
     "data": {
      "text/latex": [
       "$\\displaystyle \\frac{dT_r}{dz}=0$"
      ],
      "text/plain": [
       "\\frac{dT_r}{dz}=0"
      ]
     },
     "metadata": {},
     "output_type": "display_data"
    },
    {
     "name": "stdout",
     "output_type": "stream",
     "text": [
      "Pressure balance:\n"
     ]
    },
    {
     "data": {
      "text/latex": [
       "$\\displaystyle \\frac{dP}{dz}=0$"
      ],
      "text/plain": [
       "\\frac{dP}{dz}=0"
      ]
     },
     "metadata": {},
     "output_type": "display_data"
    }
   ],
   "source": [
    "reactor.irepr"
   ]
  },
  {
   "cell_type": "markdown",
   "id": "49e5dcb7",
   "metadata": {},
   "source": [
    "### Simulamos el reactor"
   ]
  },
  {
   "cell_type": "code",
   "execution_count": 56,
   "id": "4a35814f",
   "metadata": {},
   "outputs": [
    {
     "name": "stdout",
     "output_type": "stream",
     "text": [
      "Solved in 2 iterations, number of nodes 203. \n",
      "Maximum relative residual: 6.21e-06 \n",
      "Maximum boundary residual: 0.00e+00\n"
     ]
    }
   ],
   "source": [
    "reactor.simulate(tol = 0.001, max_nodes = 1000, verbose = 1)"
   ]
  },
  {
   "cell_type": "code",
   "execution_count": 60,
   "id": "6aeb7300",
   "metadata": {},
   "outputs": [
    {
     "data": {
      "text/html": [
       "<div>\n",
       "<style scoped>\n",
       "    .dataframe tbody tr th:only-of-type {\n",
       "        vertical-align: middle;\n",
       "    }\n",
       "\n",
       "    .dataframe tbody tr th {\n",
       "        vertical-align: top;\n",
       "    }\n",
       "\n",
       "    .dataframe thead th {\n",
       "        text-align: right;\n",
       "    }\n",
       "</style>\n",
       "<table border=\"1\" class=\"dataframe\">\n",
       "  <thead>\n",
       "    <tr style=\"text-align: right;\">\n",
       "      <th></th>\n",
       "      <th>z</th>\n",
       "      <th>methane</th>\n",
       "      <th>ethane</th>\n",
       "      <th>temperature</th>\n",
       "      <th>refrigerant_temperature</th>\n",
       "      <th>pressure</th>\n",
       "    </tr>\n",
       "  </thead>\n",
       "  <tbody>\n",
       "    <tr>\n",
       "      <th>0</th>\n",
       "      <td>0.000000</td>\n",
       "      <td>1.000000e-03</td>\n",
       "      <td>0.000000</td>\n",
       "      <td>400.0</td>\n",
       "      <td>0.0</td>\n",
       "      <td>101325.0</td>\n",
       "    </tr>\n",
       "    <tr>\n",
       "      <th>1</th>\n",
       "      <td>0.000010</td>\n",
       "      <td>9.019503e-04</td>\n",
       "      <td>0.000049</td>\n",
       "      <td>400.0</td>\n",
       "      <td>0.0</td>\n",
       "      <td>101325.0</td>\n",
       "    </tr>\n",
       "    <tr>\n",
       "      <th>2</th>\n",
       "      <td>0.000020</td>\n",
       "      <td>8.113493e-04</td>\n",
       "      <td>0.000094</td>\n",
       "      <td>400.0</td>\n",
       "      <td>0.0</td>\n",
       "      <td>101325.0</td>\n",
       "    </tr>\n",
       "    <tr>\n",
       "      <th>3</th>\n",
       "      <td>0.000030</td>\n",
       "      <td>7.279666e-04</td>\n",
       "      <td>0.000136</td>\n",
       "      <td>400.0</td>\n",
       "      <td>0.0</td>\n",
       "      <td>101325.0</td>\n",
       "    </tr>\n",
       "    <tr>\n",
       "      <th>4</th>\n",
       "      <td>0.000040</td>\n",
       "      <td>6.515317e-04</td>\n",
       "      <td>0.000174</td>\n",
       "      <td>400.0</td>\n",
       "      <td>0.0</td>\n",
       "      <td>101325.0</td>\n",
       "    </tr>\n",
       "    <tr>\n",
       "      <th>...</th>\n",
       "      <td>...</td>\n",
       "      <td>...</td>\n",
       "      <td>...</td>\n",
       "      <td>...</td>\n",
       "      <td>...</td>\n",
       "      <td>...</td>\n",
       "    </tr>\n",
       "    <tr>\n",
       "      <th>198</th>\n",
       "      <td>0.000987</td>\n",
       "      <td>1.918504e-09</td>\n",
       "      <td>0.000500</td>\n",
       "      <td>400.0</td>\n",
       "      <td>0.0</td>\n",
       "      <td>101325.0</td>\n",
       "    </tr>\n",
       "    <tr>\n",
       "      <th>199</th>\n",
       "      <td>0.000990</td>\n",
       "      <td>1.828592e-09</td>\n",
       "      <td>0.000500</td>\n",
       "      <td>400.0</td>\n",
       "      <td>0.0</td>\n",
       "      <td>101325.0</td>\n",
       "    </tr>\n",
       "    <tr>\n",
       "      <th>200</th>\n",
       "      <td>0.000993</td>\n",
       "      <td>1.742577e-09</td>\n",
       "      <td>0.000500</td>\n",
       "      <td>400.0</td>\n",
       "      <td>0.0</td>\n",
       "      <td>101325.0</td>\n",
       "    </tr>\n",
       "    <tr>\n",
       "      <th>201</th>\n",
       "      <td>0.000997</td>\n",
       "      <td>1.660206e-09</td>\n",
       "      <td>0.000500</td>\n",
       "      <td>400.0</td>\n",
       "      <td>0.0</td>\n",
       "      <td>101325.0</td>\n",
       "    </tr>\n",
       "    <tr>\n",
       "      <th>202</th>\n",
       "      <td>0.001000</td>\n",
       "      <td>1.581305e-09</td>\n",
       "      <td>0.000500</td>\n",
       "      <td>400.0</td>\n",
       "      <td>0.0</td>\n",
       "      <td>101325.0</td>\n",
       "    </tr>\n",
       "  </tbody>\n",
       "</table>\n",
       "<p>203 rows × 6 columns</p>\n",
       "</div>"
      ],
      "text/plain": [
       "            z       methane    ethane  temperature  refrigerant_temperature  \\\n",
       "0    0.000000  1.000000e-03  0.000000        400.0                      0.0   \n",
       "1    0.000010  9.019503e-04  0.000049        400.0                      0.0   \n",
       "2    0.000020  8.113493e-04  0.000094        400.0                      0.0   \n",
       "3    0.000030  7.279666e-04  0.000136        400.0                      0.0   \n",
       "4    0.000040  6.515317e-04  0.000174        400.0                      0.0   \n",
       "..        ...           ...       ...          ...                      ...   \n",
       "198  0.000987  1.918504e-09  0.000500        400.0                      0.0   \n",
       "199  0.000990  1.828592e-09  0.000500        400.0                      0.0   \n",
       "200  0.000993  1.742577e-09  0.000500        400.0                      0.0   \n",
       "201  0.000997  1.660206e-09  0.000500        400.0                      0.0   \n",
       "202  0.001000  1.581305e-09  0.000500        400.0                      0.0   \n",
       "\n",
       "     pressure  \n",
       "0    101325.0  \n",
       "1    101325.0  \n",
       "2    101325.0  \n",
       "3    101325.0  \n",
       "4    101325.0  \n",
       "..        ...  \n",
       "198  101325.0  \n",
       "199  101325.0  \n",
       "200  101325.0  \n",
       "201  101325.0  \n",
       "202  101325.0  \n",
       "\n",
       "[203 rows x 6 columns]"
      ]
     },
     "execution_count": 60,
     "metadata": {},
     "output_type": "execute_result"
    }
   ],
   "source": [
    "reactor.sim_df"
   ]
  },
  {
   "cell_type": "code",
   "execution_count": 61,
   "id": "9c43ae7b",
   "metadata": {},
   "outputs": [
    {
     "data": {
      "text/plain": [
       "[<matplotlib.lines.Line2D at 0x7f014625aa10>]"
      ]
     },
     "execution_count": 61,
     "metadata": {},
     "output_type": "execute_result"
    },
    {
     "data": {
      "image/png": "[encoded data removed]",
      "text/plain": [
       "<Figure size 640x480 with 1 Axes>"
      ]
     },
     "metadata": {},
     "output_type": "display_data"
    }
   ],
   "source": [
    "plt.plot(reactor.sim_df[\"z\"], reactor.sim_df[\"methane\"])\n",
    "plt.plot(reactor.sim_df[\"z\"], reactor.sim_df[\"ethane\"])"
   ]
  },
  {
   "cell_type": "code",
   "execution_count": 62,
   "id": "1db158a1",
   "metadata": {},
   "outputs": [
    {
     "data": {
      "text/plain": [
       "[<matplotlib.lines.Line2D at 0x7f014614e110>]"
      ]
     },
     "execution_count": 62,
     "metadata": {},
     "output_type": "execute_result"
    },
    {
     "data": {
      "image/png": "[encoded data removed]",
      "text/plain": [
       "<Figure size 640x480 with 1 Axes>"
      ]
     },
     "metadata": {},
     "output_type": "display_data"
    }
   ],
   "source": [
    "plt.plot(reactor.sim_df[\"z\"], reactor.sim_df[\"temperature\"])"
   ]
  }
 ],
 "metadata": {
  "kernelspec": {
   "display_name": "Python 3 (ipykernel)",
   "language": "python",
   "name": "python3"
  },
  "language_info": {
   "codemirror_mode": {
    "name": "ipython",
    "version": 3
   },
   "file_extension": ".py",
   "mimetype": "text/x-python",
   "name": "python",
   "nbconvert_exporter": "python",
   "pygments_lexer": "ipython3",
   "version": "3.10.6"
  }
 },
 "nbformat": 4,
 "nbformat_minor": 5
}
