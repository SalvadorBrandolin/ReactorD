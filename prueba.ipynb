{
 "cells": [
  {
   "cell_type": "code",
   "execution_count": 1,
   "id": "9e0a4223",
   "metadata": {},
   "outputs": [],
   "source": [
    "import reactord as rd\n",
    "import reactord.flowreactors.stationary_1d.pfr as pfr\n",
    "\n",
    "import numpy as np\n",
    "\n",
    "import matplotlib.pyplot as plt"
   ]
  },
  {
   "cell_type": "markdown",
   "id": "176c1d26",
   "metadata": {},
   "source": [
    "### Definicion de las substancias"
   ]
  },
  {
   "cell_type": "code",
   "execution_count": 2,
   "id": "b775670c",
   "metadata": {},
   "outputs": [],
   "source": [
    "a = rd.Substance.from_thermo_database(\n",
    "    name=\"methane\", thermo_identification=\"methane\"\n",
    ")\n",
    "b = rd.Substance.from_thermo_database(\n",
    "    name=\"ethane\", thermo_identification=\"ethane\"\n",
    ")\n",
    "c = rd.Substance.from_thermo_database(\n",
    "    name=\"hydrogen\", thermo_identification=\"hydrogen\"\n",
    ")"
   ]
  },
  {
   "cell_type": "markdown",
   "id": "a7aec9df",
   "metadata": {},
   "source": [
    "### Definicion de la mezcla"
   ]
  },
  {
   "cell_type": "code",
   "execution_count": 3,
   "id": "02baa208",
   "metadata": {},
   "outputs": [],
   "source": [
    "mix = rd.mix.IdealGas([a, b, c])"
   ]
  },
  {
   "cell_type": "markdown",
   "id": "ed4bf626",
   "metadata": {},
   "source": [
    "### Definicion de kinetics"
   ]
  },
  {
   "cell_type": "code",
   "execution_count": 4,
   "id": "36d00aa0",
   "metadata": {},
   "outputs": [],
   "source": [
    "def ra(concentrations, temperature):\n",
    "    ra = 0.05 * concentrations[0]\n",
    "    return ra\n",
    "\n",
    "\n",
    "stoichiometry = np.array([-2, 1, 1])\n",
    "\n",
    "kinetic = rd.Kinetics(mix, [ra], stoichiometry)"
   ]
  },
  {
   "cell_type": "markdown",
   "id": "c4ea3f07",
   "metadata": {},
   "source": [
    "### Definicion de balances"
   ]
  },
  {
   "cell_type": "code",
   "execution_count": 5,
   "id": "cb9bdab3",
   "metadata": {},
   "outputs": [],
   "source": [
    "mb = pfr.mass_balances.MolarFlow(\n",
    "    molar_flows_in={\"methane\": 0.01, \"ethane\": 0, \"hydrogen\": 0},\n",
    "    molar_flows_out={},\n",
    ")\n",
    "\n",
    "eb = pfr.energy_balances.Isothermic(400)\n",
    "\n",
    "pb = pfr.pressure_balances.Isobaric(1_000_000)"
   ]
  },
  {
   "cell_type": "markdown",
   "id": "7b9d9f7f",
   "metadata": {},
   "source": [
    "### Definicion del reactor"
   ]
  },
  {
   "cell_type": "code",
   "execution_count": 6,
   "id": "379ee160",
   "metadata": {},
   "outputs": [],
   "source": [
    "reactor1 = pfr.PFR(\n",
    "    mix=mix,\n",
    "    kinetics=kinetic,\n",
    "    reactor_length=0.02,\n",
    "    transversal_area=0.05,\n",
    "    grid_size=100,\n",
    "    mass_balance=mb,\n",
    "    energy_balance=eb,\n",
    "    pressure_balance=pb,\n",
    ")"
   ]
  },
  {
   "cell_type": "markdown",
   "id": "2ee6ef76",
   "metadata": {},
   "source": [
    "### El repr() del reactor te devuelve el latex de los balances"
   ]
  },
  {
   "cell_type": "code",
   "execution_count": 7,
   "id": "0ee2d26a",
   "metadata": {},
   "outputs": [
    {
     "data": {
      "text/plain": [
       "\\frac{1}{a_t}\\frac{dF_i}{dz}=r_i\n",
       "\\frac{dT}{dz}=0\n",
       "\\frac{dT_r}{dz}=0\n",
       "\\frac{dP}{dz}=0"
      ]
     },
     "execution_count": 7,
     "metadata": {},
     "output_type": "execute_result"
    }
   ],
   "source": [
    "reactor1"
   ]
  },
  {
   "cell_type": "markdown",
   "id": "90ef1756",
   "metadata": {},
   "source": [
    "### El irepr del reactor te renderiza los latex si estas en un entorno interactivo"
   ]
  },
  {
   "cell_type": "code",
   "execution_count": 8,
   "id": "79f8b7d5",
   "metadata": {},
   "outputs": [
    {
     "name": "stdout",
     "output_type": "stream",
     "text": [
      "Mass balance:\n"
     ]
    },
    {
     "data": {
      "text/latex": [
       "$\\displaystyle \\frac{1}{a_t}\\frac{dF_i}{dz}=r_i$"
      ],
      "text/plain": [
       "\\frac{1}{a_t}\\frac{dF_i}{dz}=r_i"
      ]
     },
     "metadata": {},
     "output_type": "display_data"
    },
    {
     "name": "stdout",
     "output_type": "stream",
     "text": [
      "Reactor and refrigerant energy balances:\n"
     ]
    },
    {
     "data": {
      "text/latex": [
       "$\\displaystyle \\frac{dT}{dz}=0$"
      ],
      "text/plain": [
       "\\frac{dT}{dz}=0"
      ]
     },
     "metadata": {},
     "output_type": "display_data"
    },
    {
     "data": {
      "text/latex": [
       "$\\displaystyle \\frac{dT_r}{dz}=0$"
      ],
      "text/plain": [
       "\\frac{dT_r}{dz}=0"
      ]
     },
     "metadata": {},
     "output_type": "display_data"
    },
    {
     "name": "stdout",
     "output_type": "stream",
     "text": [
      "Pressure balance:\n"
     ]
    },
    {
     "data": {
      "text/latex": [
       "$\\displaystyle \\frac{dP}{dz}=0$"
      ],
      "text/plain": [
       "\\frac{dP}{dz}=0"
      ]
     },
     "metadata": {},
     "output_type": "display_data"
    }
   ],
   "source": [
    "reactor1.irepr"
   ]
  },
  {
   "cell_type": "markdown",
   "id": "49e5dcb7",
   "metadata": {},
   "source": [
    "### Simulamos el reactor"
   ]
  },
  {
   "cell_type": "code",
   "execution_count": 9,
   "id": "4a35814f",
   "metadata": {},
   "outputs": [],
   "source": [
    "reactor1 = pfr.PFR(\n",
    "    mix=mix,\n",
    "    kinetics=kinetic,\n",
    "    reactor_length=0.02,\n",
    "    transversal_area=0.05,\n",
    "    grid_size=100,\n",
    "    mass_balance=mb,\n",
    "    energy_balance=eb,\n",
    "    pressure_balance=pb,\n",
    ")"
   ]
  },
  {
   "cell_type": "code",
   "execution_count": 18,
   "id": "1c079e77",
   "metadata": {},
   "outputs": [
    {
     "name": "stdout",
     "output_type": "stream",
     "text": [
      "Solved in 1 iterations, number of nodes 100. \n",
      "Maximum relative residual: 2.69e-06 \n",
      "Maximum boundary residual: 5.20e-18\n"
     ]
    }
   ],
   "source": [
    "reactor1.simulate(tol=0.001, max_nodes=100, verbose=1)"
   ]
  },
  {
   "cell_type": "code",
   "execution_count": 11,
   "id": "22a517e7",
   "metadata": {},
   "outputs": [
    {
     "data": {
      "text/html": [
       "<div>\n",
       "<style scoped>\n",
       "    .dataframe tbody tr th:only-of-type {\n",
       "        vertical-align: middle;\n",
       "    }\n",
       "\n",
       "    .dataframe tbody tr th {\n",
       "        vertical-align: top;\n",
       "    }\n",
       "\n",
       "    .dataframe thead th {\n",
       "        text-align: right;\n",
       "    }\n",
       "</style>\n",
       "<table border=\"1\" class=\"dataframe\">\n",
       "  <thead>\n",
       "    <tr style=\"text-align: right;\">\n",
       "      <th></th>\n",
       "      <th>z</th>\n",
       "      <th>methane</th>\n",
       "      <th>ethane</th>\n",
       "      <th>hydrogen</th>\n",
       "      <th>temperature</th>\n",
       "      <th>pressure</th>\n",
       "    </tr>\n",
       "  </thead>\n",
       "  <tbody>\n",
       "    <tr>\n",
       "      <th>0</th>\n",
       "      <td>0.000000</td>\n",
       "      <td>0.010000</td>\n",
       "      <td>0.000000</td>\n",
       "      <td>0.000000</td>\n",
       "      <td>400.0</td>\n",
       "      <td>1000000.0</td>\n",
       "    </tr>\n",
       "    <tr>\n",
       "      <th>1</th>\n",
       "      <td>0.000202</td>\n",
       "      <td>0.009701</td>\n",
       "      <td>0.000150</td>\n",
       "      <td>0.000150</td>\n",
       "      <td>400.0</td>\n",
       "      <td>1000000.0</td>\n",
       "    </tr>\n",
       "    <tr>\n",
       "      <th>2</th>\n",
       "      <td>0.000404</td>\n",
       "      <td>0.009411</td>\n",
       "      <td>0.000295</td>\n",
       "      <td>0.000295</td>\n",
       "      <td>400.0</td>\n",
       "      <td>1000000.0</td>\n",
       "    </tr>\n",
       "    <tr>\n",
       "      <th>3</th>\n",
       "      <td>0.000606</td>\n",
       "      <td>0.009129</td>\n",
       "      <td>0.000435</td>\n",
       "      <td>0.000435</td>\n",
       "      <td>400.0</td>\n",
       "      <td>1000000.0</td>\n",
       "    </tr>\n",
       "    <tr>\n",
       "      <th>4</th>\n",
       "      <td>0.000808</td>\n",
       "      <td>0.008856</td>\n",
       "      <td>0.000572</td>\n",
       "      <td>0.000572</td>\n",
       "      <td>400.0</td>\n",
       "      <td>1000000.0</td>\n",
       "    </tr>\n",
       "    <tr>\n",
       "      <th>...</th>\n",
       "      <td>...</td>\n",
       "      <td>...</td>\n",
       "      <td>...</td>\n",
       "      <td>...</td>\n",
       "      <td>...</td>\n",
       "      <td>...</td>\n",
       "    </tr>\n",
       "    <tr>\n",
       "      <th>95</th>\n",
       "      <td>0.019192</td>\n",
       "      <td>0.000558</td>\n",
       "      <td>0.004721</td>\n",
       "      <td>0.004721</td>\n",
       "      <td>400.0</td>\n",
       "      <td>1000000.0</td>\n",
       "    </tr>\n",
       "    <tr>\n",
       "      <th>96</th>\n",
       "      <td>0.019394</td>\n",
       "      <td>0.000542</td>\n",
       "      <td>0.004729</td>\n",
       "      <td>0.004729</td>\n",
       "      <td>400.0</td>\n",
       "      <td>1000000.0</td>\n",
       "    </tr>\n",
       "    <tr>\n",
       "      <th>97</th>\n",
       "      <td>0.019596</td>\n",
       "      <td>0.000525</td>\n",
       "      <td>0.004737</td>\n",
       "      <td>0.004737</td>\n",
       "      <td>400.0</td>\n",
       "      <td>1000000.0</td>\n",
       "    </tr>\n",
       "    <tr>\n",
       "      <th>98</th>\n",
       "      <td>0.019798</td>\n",
       "      <td>0.000510</td>\n",
       "      <td>0.004745</td>\n",
       "      <td>0.004745</td>\n",
       "      <td>400.0</td>\n",
       "      <td>1000000.0</td>\n",
       "    </tr>\n",
       "    <tr>\n",
       "      <th>99</th>\n",
       "      <td>0.020000</td>\n",
       "      <td>0.000494</td>\n",
       "      <td>0.004753</td>\n",
       "      <td>0.004753</td>\n",
       "      <td>400.0</td>\n",
       "      <td>1000000.0</td>\n",
       "    </tr>\n",
       "  </tbody>\n",
       "</table>\n",
       "<p>100 rows × 6 columns</p>\n",
       "</div>"
      ],
      "text/plain": [
       "           z   methane    ethane  hydrogen  temperature   pressure\n",
       "0   0.000000  0.010000  0.000000  0.000000        400.0  1000000.0\n",
       "1   0.000202  0.009701  0.000150  0.000150        400.0  1000000.0\n",
       "2   0.000404  0.009411  0.000295  0.000295        400.0  1000000.0\n",
       "3   0.000606  0.009129  0.000435  0.000435        400.0  1000000.0\n",
       "4   0.000808  0.008856  0.000572  0.000572        400.0  1000000.0\n",
       "..       ...       ...       ...       ...          ...        ...\n",
       "95  0.019192  0.000558  0.004721  0.004721        400.0  1000000.0\n",
       "96  0.019394  0.000542  0.004729  0.004729        400.0  1000000.0\n",
       "97  0.019596  0.000525  0.004737  0.004737        400.0  1000000.0\n",
       "98  0.019798  0.000510  0.004745  0.004745        400.0  1000000.0\n",
       "99  0.020000  0.000494  0.004753  0.004753        400.0  1000000.0\n",
       "\n",
       "[100 rows x 6 columns]"
      ]
     },
     "execution_count": 11,
     "metadata": {},
     "output_type": "execute_result"
    }
   ],
   "source": [
    "reactor1.sim_df"
   ]
  },
  {
   "attachments": {},
   "cell_type": "markdown",
   "id": "6a941629",
   "metadata": {},
   "source": [
    "### Ergun pressure balance"
   ]
  },
  {
   "cell_type": "code",
   "execution_count": 12,
   "id": "66863e95",
   "metadata": {},
   "outputs": [],
   "source": [
    "mb = pfr.mass_balances.MolarFlow(\n",
    "    molar_flows_in={\"methane\": 0.01, \"ethane\": 0, \"hydrogen\": 0},\n",
    "    molar_flows_out={},\n",
    ")\n",
    "\n",
    "eb = pfr.energy_balances.Isothermic(400)\n",
    "\n",
    "pb = pfr.pressure_balances.Ergun(\n",
    "    pressure={\"in\": 1_000_000}, porosity=0.05, particle_diameter=0.001\n",
    ")\n",
    "\n",
    "reactor2 = pfr.PFR(\n",
    "    mix=mix,\n",
    "    kinetics=kinetic,\n",
    "    reactor_length=0.02,\n",
    "    transversal_area=0.05,\n",
    "    grid_size=100,\n",
    "    mass_balance=mb,\n",
    "    energy_balance=eb,\n",
    "    pressure_balance=pb,\n",
    ")"
   ]
  },
  {
   "cell_type": "code",
   "execution_count": 13,
   "id": "1d863fff",
   "metadata": {},
   "outputs": [
    {
     "name": "stdout",
     "output_type": "stream",
     "text": [
      "Mass balance:\n"
     ]
    },
    {
     "data": {
      "text/latex": [
       "$\\displaystyle \\frac{1}{a_t}\\frac{dF_i}{dz}=r_i$"
      ],
      "text/plain": [
       "\\frac{1}{a_t}\\frac{dF_i}{dz}=r_i"
      ]
     },
     "metadata": {},
     "output_type": "display_data"
    },
    {
     "name": "stdout",
     "output_type": "stream",
     "text": [
      "Reactor and refrigerant energy balances:\n"
     ]
    },
    {
     "data": {
      "text/latex": [
       "$\\displaystyle \\frac{dT}{dz}=0$"
      ],
      "text/plain": [
       "\\frac{dT}{dz}=0"
      ]
     },
     "metadata": {},
     "output_type": "display_data"
    },
    {
     "data": {
      "text/latex": [
       "$\\displaystyle \\frac{dT_r}{dz}=0$"
      ],
      "text/plain": [
       "\\frac{dT_r}{dz}=0"
      ]
     },
     "metadata": {},
     "output_type": "display_data"
    },
    {
     "name": "stdout",
     "output_type": "stream",
     "text": [
      "Pressure balance:\n"
     ]
    },
    {
     "data": {
      "text/latex": [
       "$\\displaystyle \\frac{dP}{dz}=-\\frac{G}{{\\rho}D_p}\\left(\\frac{1-\\phi}{\\phi^3}\\right)\\left[\\frac{150(1-\\phi)\\mu}{D_p}+1.75G\\right]$"
      ],
      "text/plain": [
       "\\frac{dP}{dz}=-\\frac{G}{{\\rho}D_p}\\left(\\frac{1-\\phi}{\\phi^3}\\right)\\left[\\frac{150(1-\\phi)\\mu}{D_p}+1.75G\\right]"
      ]
     },
     "metadata": {},
     "output_type": "display_data"
    }
   ],
   "source": [
    "reactor2.irepr"
   ]
  },
  {
   "cell_type": "code",
   "execution_count": 14,
   "id": "b9a0f3b3",
   "metadata": {},
   "outputs": [
    {
     "name": "stdout",
     "output_type": "stream",
     "text": [
      "Solved in 1 iterations, number of nodes 100. \n",
      "Maximum relative residual: 1.37e-07 \n",
      "Maximum boundary residual: 0.00e+00\n"
     ]
    }
   ],
   "source": [
    "reactor2.simulate(tol=0.001, max_nodes=1000, verbose=1)"
   ]
  },
  {
   "cell_type": "code",
   "execution_count": 15,
   "id": "f8b64ede",
   "metadata": {},
   "outputs": [
    {
     "data": {
      "text/html": [
       "<div>\n",
       "<style scoped>\n",
       "    .dataframe tbody tr th:only-of-type {\n",
       "        vertical-align: middle;\n",
       "    }\n",
       "\n",
       "    .dataframe tbody tr th {\n",
       "        vertical-align: top;\n",
       "    }\n",
       "\n",
       "    .dataframe thead th {\n",
       "        text-align: right;\n",
       "    }\n",
       "</style>\n",
       "<table border=\"1\" class=\"dataframe\">\n",
       "  <thead>\n",
       "    <tr style=\"text-align: right;\">\n",
       "      <th></th>\n",
       "      <th>z</th>\n",
       "      <th>methane</th>\n",
       "      <th>ethane</th>\n",
       "      <th>hydrogen</th>\n",
       "      <th>temperature</th>\n",
       "      <th>pressure</th>\n",
       "    </tr>\n",
       "  </thead>\n",
       "  <tbody>\n",
       "    <tr>\n",
       "      <th>0</th>\n",
       "      <td>0.000000</td>\n",
       "      <td>0.010000</td>\n",
       "      <td>0.000000</td>\n",
       "      <td>0.000000</td>\n",
       "      <td>400.0</td>\n",
       "      <td>1000000.000000</td>\n",
       "    </tr>\n",
       "    <tr>\n",
       "      <th>1</th>\n",
       "      <td>0.000202</td>\n",
       "      <td>0.009701</td>\n",
       "      <td>0.000150</td>\n",
       "      <td>0.000150</td>\n",
       "      <td>400.0</td>\n",
       "      <td>999999.997924</td>\n",
       "    </tr>\n",
       "    <tr>\n",
       "      <th>2</th>\n",
       "      <td>0.000404</td>\n",
       "      <td>0.009411</td>\n",
       "      <td>0.000295</td>\n",
       "      <td>0.000295</td>\n",
       "      <td>400.0</td>\n",
       "      <td>999999.995856</td>\n",
       "    </tr>\n",
       "    <tr>\n",
       "      <th>3</th>\n",
       "      <td>0.000606</td>\n",
       "      <td>0.009129</td>\n",
       "      <td>0.000435</td>\n",
       "      <td>0.000435</td>\n",
       "      <td>400.0</td>\n",
       "      <td>999999.993796</td>\n",
       "    </tr>\n",
       "    <tr>\n",
       "      <th>4</th>\n",
       "      <td>0.000808</td>\n",
       "      <td>0.008856</td>\n",
       "      <td>0.000572</td>\n",
       "      <td>0.000572</td>\n",
       "      <td>400.0</td>\n",
       "      <td>999999.991745</td>\n",
       "    </tr>\n",
       "    <tr>\n",
       "      <th>...</th>\n",
       "      <td>...</td>\n",
       "      <td>...</td>\n",
       "      <td>...</td>\n",
       "      <td>...</td>\n",
       "      <td>...</td>\n",
       "      <td>...</td>\n",
       "    </tr>\n",
       "    <tr>\n",
       "      <th>95</th>\n",
       "      <td>0.019192</td>\n",
       "      <td>0.000558</td>\n",
       "      <td>0.004721</td>\n",
       "      <td>0.004721</td>\n",
       "      <td>400.0</td>\n",
       "      <td>999999.823179</td>\n",
       "    </tr>\n",
       "    <tr>\n",
       "      <th>96</th>\n",
       "      <td>0.019394</td>\n",
       "      <td>0.000542</td>\n",
       "      <td>0.004729</td>\n",
       "      <td>0.004729</td>\n",
       "      <td>400.0</td>\n",
       "      <td>999999.821415</td>\n",
       "    </tr>\n",
       "    <tr>\n",
       "      <th>97</th>\n",
       "      <td>0.019596</td>\n",
       "      <td>0.000525</td>\n",
       "      <td>0.004737</td>\n",
       "      <td>0.004737</td>\n",
       "      <td>400.0</td>\n",
       "      <td>999999.819652</td>\n",
       "    </tr>\n",
       "    <tr>\n",
       "      <th>98</th>\n",
       "      <td>0.019798</td>\n",
       "      <td>0.000510</td>\n",
       "      <td>0.004745</td>\n",
       "      <td>0.004745</td>\n",
       "      <td>400.0</td>\n",
       "      <td>999999.817889</td>\n",
       "    </tr>\n",
       "    <tr>\n",
       "      <th>99</th>\n",
       "      <td>0.020000</td>\n",
       "      <td>0.000494</td>\n",
       "      <td>0.004753</td>\n",
       "      <td>0.004753</td>\n",
       "      <td>400.0</td>\n",
       "      <td>999999.816127</td>\n",
       "    </tr>\n",
       "  </tbody>\n",
       "</table>\n",
       "<p>100 rows × 6 columns</p>\n",
       "</div>"
      ],
      "text/plain": [
       "           z   methane    ethane  hydrogen  temperature        pressure\n",
       "0   0.000000  0.010000  0.000000  0.000000        400.0  1000000.000000\n",
       "1   0.000202  0.009701  0.000150  0.000150        400.0   999999.997924\n",
       "2   0.000404  0.009411  0.000295  0.000295        400.0   999999.995856\n",
       "3   0.000606  0.009129  0.000435  0.000435        400.0   999999.993796\n",
       "4   0.000808  0.008856  0.000572  0.000572        400.0   999999.991745\n",
       "..       ...       ...       ...       ...          ...             ...\n",
       "95  0.019192  0.000558  0.004721  0.004721        400.0   999999.823179\n",
       "96  0.019394  0.000542  0.004729  0.004729        400.0   999999.821415\n",
       "97  0.019596  0.000525  0.004737  0.004737        400.0   999999.819652\n",
       "98  0.019798  0.000510  0.004745  0.004745        400.0   999999.817889\n",
       "99  0.020000  0.000494  0.004753  0.004753        400.0   999999.816127\n",
       "\n",
       "[100 rows x 6 columns]"
      ]
     },
     "execution_count": 15,
     "metadata": {},
     "output_type": "execute_result"
    }
   ],
   "source": [
    "reactor2.sim_df"
   ]
  },
  {
   "cell_type": "code",
   "execution_count": 16,
   "id": "c4f68114",
   "metadata": {},
   "outputs": [
    {
     "data": {
      "text/plain": [
       "<matplotlib.legend.Legend at 0x7f0b132c52d0>"
      ]
     },
     "execution_count": 16,
     "metadata": {},
     "output_type": "execute_result"
    },
    {
     "data": {
      "image/png": "[encoded data removed]",
      "text/plain": [
       "<Figure size 640x480 with 1 Axes>"
      ]
     },
     "metadata": {},
     "output_type": "display_data"
    }
   ],
   "source": [
    "plt.plot(reactor1.sim_df[\"z\"], reactor1.sim_df[\"methane\"], label=\"isobarico\")\n",
    "plt.plot(reactor2.sim_df[\"z\"], reactor2.sim_df[\"methane\"], label=\"ergun\")\n",
    "\n",
    "plt.legend()"
   ]
  },
  {
   "cell_type": "code",
   "execution_count": 1,
   "id": "8fca9e57",
   "metadata": {},
   "outputs": [],
   "source": [
    "import numpy as np"
   ]
  },
  {
   "cell_type": "code",
   "execution_count": 4,
   "id": "21c107c7",
   "metadata": {},
   "outputs": [],
   "source": [
    "m = np.array(\n",
    "    [\n",
    "        [1,2,3,4,5],\n",
    "        [1,2,3,4,5],\n",
    "        [1,2,3,4,5],\n",
    "        [1,2,3,4,5],\n",
    "    ]\n",
    ")\n",
    "\n",
    "d = {\"a\": 0, \"b\": 1}"
   ]
  },
  {
   "cell_type": "code",
   "execution_count": 1,
   "id": "5f453565",
   "metadata": {},
   "outputs": [],
   "source": [
    "import reactord as rd"
   ]
  },
  {
   "cell_type": "code",
   "execution_count": 2,
   "id": "be350137",
   "metadata": {},
   "outputs": [],
   "source": [
    "a = rd.Substance.from_thermo_database(\"CH_4\", \"methane\")\n",
    "b = rd.Substance.from_thermo_database(\"O_2\", \"oxygen\")\n",
    "c = rd.Substance.from_thermo_database(\"CO_2\", \"carbon dioxide\")\n",
    "d = rd.Substance.from_thermo_database(\"CO\", \"carbon monoxide\")\n",
    "e = rd.Substance.from_thermo_database(\"H_{2}O\", \"water\")\n",
    "\n",
    "mix = rd.mix.IdealGas([a,b,c,d,e])\n",
    "\n",
    "def rate_r1(c, t, **constants):\n",
    "    a, b = constants.get(\"a\"), constants.get(\"b\")\n",
    "    ...\n",
    "    \n",
    "def rate_r2():\n",
    "    ...\n",
    "\n",
    "kinetic = rd.kinetic.Kinetic(\n",
    "    mix,\n",
    "    {\n",
    "        \"r1\": {\n",
    "            \"eq\": a + 2 * b > c + 2 * e,\n",
    "            \"rate\": rate_r1\n",
    "        },\n",
    "        \"r2\": {\n",
    "            \"eq\": a + 3 / 2 * b > d + 2 * e,\n",
    "            \"rate\": rate_r2\n",
    "        }\n",
    "    },\n",
    "    kinetic_constants = {}\n",
    ")"
   ]
  },
  {
   "cell_type": "code",
   "execution_count": 3,
   "id": "62574c56",
   "metadata": {},
   "outputs": [
    {
     "data": {
      "text/plain": [
       "array([[-1. , -2. ,  1. ,  0. ,  2. ],\n",
       "       [-1. , -1.5,  0. ,  1. ,  2. ]])"
      ]
     },
     "execution_count": 3,
     "metadata": {},
     "output_type": "execute_result"
    }
   ],
   "source": [
    "kinetic.stoichiometry"
   ]
  },
  {
   "cell_type": "code",
   "execution_count": 4,
   "id": "baa03396",
   "metadata": {},
   "outputs": [
    {
     "data": {
      "text/latex": [
       "$\\displaystyle r1: CH_{4} + 2 O_{2} \\rightarrow CO_{2} + 2 H_{2}O$"
      ],
      "text/plain": [
       "<IPython.core.display.Math object>"
      ]
     },
     "metadata": {},
     "output_type": "display_data"
    },
    {
     "data": {
      "text/latex": [
       "$\\displaystyle r2: CH_{4} + 1.5 O_{2} \\rightarrow CO + 2 H_{2}O$"
      ],
      "text/plain": [
       "<IPython.core.display.Math object>"
      ]
     },
     "metadata": {},
     "output_type": "display_data"
    }
   ],
   "source": [
    "kinetic.irepr"
   ]
  },
  {
   "cell_type": "code",
   "execution_count": 5,
   "id": "7db5a682",
   "metadata": {},
   "outputs": [
    {
     "data": {
      "text/plain": [
       "Mixture's substances: \n",
       "  * CH_4 \n",
       "  * O_2 \n",
       "  * CO_2 \n",
       "  * CO \n",
       "  * H_{2}O \n",
       "\n",
       "System's reactions: \n",
       "r1: CH_{4} + 2 O_{2} \\rightarrow CO_{2} + 2 H_{2}O \n",
       "r2: CH_{4} + 1.5 O_{2} \\rightarrow CO + 2 H_{2}O "
      ]
     },
     "execution_count": 5,
     "metadata": {},
     "output_type": "execute_result"
    }
   ],
   "source": [
    "kinetic"
   ]
  }
 ],
 "metadata": {
  "kernelspec": {
   "display_name": "reactord",
   "language": "python",
   "name": "python3"
  },
  "language_info": {
   "codemirror_mode": {
    "name": "ipython",
    "version": 3
   },
   "file_extension": ".py",
   "mimetype": "text/x-python",
   "name": "python",
   "nbconvert_exporter": "python",
   "pygments_lexer": "ipython3",
   "version": "3.10.6"
  },
  "vscode": {
   "interpreter": {
    "hash": "44eb91f73ea2661bbbecc9f77111c56822635f905b8a2c5d2c14405903be0d49"
   }
  }
 },
 "nbformat": 4,
 "nbformat_minor": 5
}
