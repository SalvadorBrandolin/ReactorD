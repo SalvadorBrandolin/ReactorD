{
 "cells": [
  {
   "cell_type": "code",
   "execution_count": 177,
   "id": "9e0a4223",
   "metadata": {},
   "outputs": [],
   "source": [
    "import reactord as rd\n",
    "import reactord.flowreactors.stationary_1d.pfr as pfr\n",
    "\n",
    "import numpy as np\n",
    "\n",
    "import matplotlib.pyplot as plt"
   ]
  },
  {
   "cell_type": "markdown",
   "id": "176c1d26",
   "metadata": {},
   "source": [
    "### Definicion de las substancias"
   ]
  },
  {
   "cell_type": "code",
   "execution_count": 178,
   "id": "b775670c",
   "metadata": {},
   "outputs": [],
   "source": [
    "a = rd.Substance.from_thermo_database(name=\"methane\", thermo_identification=\"methane\")\n",
    "b = rd.Substance.from_thermo_database(name=\"ethane\", thermo_identification=\"ethane\")\n",
    "c = rd.Substance.from_thermo_database(name=\"hydrogen\", thermo_identification=\"hydrogen\")"
   ]
  },
  {
   "cell_type": "markdown",
   "id": "a7aec9df",
   "metadata": {},
   "source": [
    "### Definicion de la mezcla"
   ]
  },
  {
   "cell_type": "code",
   "execution_count": 179,
   "id": "02baa208",
   "metadata": {},
   "outputs": [],
   "source": [
    "mix = rd.mix.IdealGas([a, b, c])"
   ]
  },
  {
   "cell_type": "markdown",
   "id": "ed4bf626",
   "metadata": {},
   "source": [
    "### Definicion de kinetics"
   ]
  },
  {
   "cell_type": "code",
   "execution_count": 180,
   "id": "36d00aa0",
   "metadata": {},
   "outputs": [],
   "source": [
    "def ra(concentrations, temperature):\n",
    "    ra = 0.05 * concentrations[0]\n",
    "    return ra\n",
    "\n",
    "stoichiometry = np.array([-2, 1, 1])\n",
    "\n",
    "kinetic = rd.Kinetics(mix, [ra], stoichiometry)"
   ]
  },
  {
   "cell_type": "markdown",
   "id": "c4ea3f07",
   "metadata": {},
   "source": [
    "### Definicion de balances"
   ]
  },
  {
   "cell_type": "code",
   "execution_count": 181,
   "id": "cb9bdab3",
   "metadata": {},
   "outputs": [],
   "source": [
    "mb = pfr.mass_balances.MolarFlow(\n",
    "    molar_flows_in={\"methane\": 0.01, \"ethane\": 0, \"hydrogen\": 0},\n",
    "    molar_flows_out={}\n",
    ")\n",
    "\n",
    "eb = pfr.energy_balances.Isothermic(400)\n",
    "\n",
    "pb = pfr.pressure_balances.Isobaric(1_000_000)"
   ]
  },
  {
   "cell_type": "markdown",
   "id": "7b9d9f7f",
   "metadata": {},
   "source": [
    "### Definicion del reactor"
   ]
  },
  {
   "cell_type": "code",
   "execution_count": 182,
   "id": "379ee160",
   "metadata": {},
   "outputs": [],
   "source": [
    "reactor1 = pfr.PFR(\n",
    "    mix = mix,\n",
    "    kinetics = kinetic,\n",
    "    reactor_length = 0.002,\n",
    "    transversal_area = 0.05,\n",
    "    grid_size=100,\n",
    "    mass_balance=mb,\n",
    "    energy_balance=eb,\n",
    "    pressure_balance=pb\n",
    ")"
   ]
  },
  {
   "cell_type": "markdown",
   "id": "2ee6ef76",
   "metadata": {},
   "source": [
    "### El repr() del reactor te devuelve el latex de los balances"
   ]
  },
  {
   "cell_type": "code",
   "execution_count": 183,
   "id": "0ee2d26a",
   "metadata": {},
   "outputs": [
    {
     "data": {
      "text/plain": [
       "\\frac{1}{a_t}\\frac{dF_i}{dz}=r_i\n",
       "\\frac{dT}{dz}=0\n",
       "\\frac{dT_r}{dz}=0\n",
       "\\frac{dP}{dz}=0"
      ]
     },
     "execution_count": 183,
     "metadata": {},
     "output_type": "execute_result"
    }
   ],
   "source": [
    "reactor1"
   ]
  },
  {
   "cell_type": "markdown",
   "id": "90ef1756",
   "metadata": {},
   "source": [
    "### El irepr del reactor te renderiza los latex si estas en un entorno interactivo"
   ]
  },
  {
   "cell_type": "code",
   "execution_count": 184,
   "id": "79f8b7d5",
   "metadata": {},
   "outputs": [
    {
     "name": "stdout",
     "output_type": "stream",
     "text": [
      "Mass balance:\n"
     ]
    },
    {
     "data": {
      "text/latex": [
       "$\\displaystyle \\frac{1}{a_t}\\frac{dF_i}{dz}=r_i$"
      ],
      "text/plain": [
       "\\frac{1}{a_t}\\frac{dF_i}{dz}=r_i"
      ]
     },
     "metadata": {},
     "output_type": "display_data"
    },
    {
     "name": "stdout",
     "output_type": "stream",
     "text": [
      "Reactor and refrigerant energy balances:\n"
     ]
    },
    {
     "data": {
      "text/latex": [
       "$\\displaystyle \\frac{dT}{dz}=0$"
      ],
      "text/plain": [
       "\\frac{dT}{dz}=0"
      ]
     },
     "metadata": {},
     "output_type": "display_data"
    },
    {
     "data": {
      "text/latex": [
       "$\\displaystyle \\frac{dT_r}{dz}=0$"
      ],
      "text/plain": [
       "\\frac{dT_r}{dz}=0"
      ]
     },
     "metadata": {},
     "output_type": "display_data"
    },
    {
     "name": "stdout",
     "output_type": "stream",
     "text": [
      "Pressure balance:\n"
     ]
    },
    {
     "data": {
      "text/latex": [
       "$\\displaystyle \\frac{dP}{dz}=0$"
      ],
      "text/plain": [
       "\\frac{dP}{dz}=0"
      ]
     },
     "metadata": {},
     "output_type": "display_data"
    }
   ],
   "source": [
    "reactor1.irepr"
   ]
  },
  {
   "cell_type": "markdown",
   "id": "49e5dcb7",
   "metadata": {},
   "source": [
    "### Simulamos el reactor"
   ]
  },
  {
   "cell_type": "code",
   "execution_count": 185,
   "id": "4a35814f",
   "metadata": {},
   "outputs": [
    {
     "name": "stdout",
     "output_type": "stream",
     "text": [
      "Solved in 1 iterations, number of nodes 100. \n",
      "Maximum relative residual: 4.16e-07 \n",
      "Maximum boundary residual: 1.73e-18\n"
     ]
    }
   ],
   "source": [
    "reactor1.simulate(tol = 0.001, max_nodes = 1000, verbose = 1)"
   ]
  },
  {
   "cell_type": "code",
   "execution_count": 186,
   "id": "6aeb7300",
   "metadata": {},
   "outputs": [
    {
     "data": {
      "text/html": [
       "<div>\n",
       "<style scoped>\n",
       "    .dataframe tbody tr th:only-of-type {\n",
       "        vertical-align: middle;\n",
       "    }\n",
       "\n",
       "    .dataframe tbody tr th {\n",
       "        vertical-align: top;\n",
       "    }\n",
       "\n",
       "    .dataframe thead th {\n",
       "        text-align: right;\n",
       "    }\n",
       "</style>\n",
       "<table border=\"1\" class=\"dataframe\">\n",
       "  <thead>\n",
       "    <tr style=\"text-align: right;\">\n",
       "      <th></th>\n",
       "      <th>z</th>\n",
       "      <th>methane</th>\n",
       "      <th>ethane</th>\n",
       "      <th>hydrogen</th>\n",
       "      <th>temperature</th>\n",
       "      <th>pressure</th>\n",
       "    </tr>\n",
       "  </thead>\n",
       "  <tbody>\n",
       "    <tr>\n",
       "      <th>0</th>\n",
       "      <td>0.000000</td>\n",
       "      <td>0.010000</td>\n",
       "      <td>0.000000</td>\n",
       "      <td>0.000000</td>\n",
       "      <td>400.0</td>\n",
       "      <td>1000000.0</td>\n",
       "    </tr>\n",
       "    <tr>\n",
       "      <th>1</th>\n",
       "      <td>0.000020</td>\n",
       "      <td>0.009970</td>\n",
       "      <td>0.000015</td>\n",
       "      <td>0.000015</td>\n",
       "      <td>400.0</td>\n",
       "      <td>1000000.0</td>\n",
       "    </tr>\n",
       "    <tr>\n",
       "      <th>2</th>\n",
       "      <td>0.000040</td>\n",
       "      <td>0.009939</td>\n",
       "      <td>0.000030</td>\n",
       "      <td>0.000030</td>\n",
       "      <td>400.0</td>\n",
       "      <td>1000000.0</td>\n",
       "    </tr>\n",
       "    <tr>\n",
       "      <th>3</th>\n",
       "      <td>0.000061</td>\n",
       "      <td>0.009909</td>\n",
       "      <td>0.000045</td>\n",
       "      <td>0.000045</td>\n",
       "      <td>400.0</td>\n",
       "      <td>1000000.0</td>\n",
       "    </tr>\n",
       "    <tr>\n",
       "      <th>4</th>\n",
       "      <td>0.000081</td>\n",
       "      <td>0.009879</td>\n",
       "      <td>0.000060</td>\n",
       "      <td>0.000060</td>\n",
       "      <td>400.0</td>\n",
       "      <td>1000000.0</td>\n",
       "    </tr>\n",
       "    <tr>\n",
       "      <th>...</th>\n",
       "      <td>...</td>\n",
       "      <td>...</td>\n",
       "      <td>...</td>\n",
       "      <td>...</td>\n",
       "      <td>...</td>\n",
       "      <td>...</td>\n",
       "    </tr>\n",
       "    <tr>\n",
       "      <th>95</th>\n",
       "      <td>0.001919</td>\n",
       "      <td>0.007494</td>\n",
       "      <td>0.001253</td>\n",
       "      <td>0.001253</td>\n",
       "      <td>400.0</td>\n",
       "      <td>1000000.0</td>\n",
       "    </tr>\n",
       "    <tr>\n",
       "      <th>96</th>\n",
       "      <td>0.001939</td>\n",
       "      <td>0.007471</td>\n",
       "      <td>0.001265</td>\n",
       "      <td>0.001265</td>\n",
       "      <td>400.0</td>\n",
       "      <td>1000000.0</td>\n",
       "    </tr>\n",
       "    <tr>\n",
       "      <th>97</th>\n",
       "      <td>0.001960</td>\n",
       "      <td>0.007448</td>\n",
       "      <td>0.001276</td>\n",
       "      <td>0.001276</td>\n",
       "      <td>400.0</td>\n",
       "      <td>1000000.0</td>\n",
       "    </tr>\n",
       "    <tr>\n",
       "      <th>98</th>\n",
       "      <td>0.001980</td>\n",
       "      <td>0.007426</td>\n",
       "      <td>0.001287</td>\n",
       "      <td>0.001287</td>\n",
       "      <td>400.0</td>\n",
       "      <td>1000000.0</td>\n",
       "    </tr>\n",
       "    <tr>\n",
       "      <th>99</th>\n",
       "      <td>0.002000</td>\n",
       "      <td>0.007403</td>\n",
       "      <td>0.001298</td>\n",
       "      <td>0.001298</td>\n",
       "      <td>400.0</td>\n",
       "      <td>1000000.0</td>\n",
       "    </tr>\n",
       "  </tbody>\n",
       "</table>\n",
       "<p>100 rows × 6 columns</p>\n",
       "</div>"
      ],
      "text/plain": [
       "           z   methane    ethane  hydrogen  temperature   pressure\n",
       "0   0.000000  0.010000  0.000000  0.000000        400.0  1000000.0\n",
       "1   0.000020  0.009970  0.000015  0.000015        400.0  1000000.0\n",
       "2   0.000040  0.009939  0.000030  0.000030        400.0  1000000.0\n",
       "3   0.000061  0.009909  0.000045  0.000045        400.0  1000000.0\n",
       "4   0.000081  0.009879  0.000060  0.000060        400.0  1000000.0\n",
       "..       ...       ...       ...       ...          ...        ...\n",
       "95  0.001919  0.007494  0.001253  0.001253        400.0  1000000.0\n",
       "96  0.001939  0.007471  0.001265  0.001265        400.0  1000000.0\n",
       "97  0.001960  0.007448  0.001276  0.001276        400.0  1000000.0\n",
       "98  0.001980  0.007426  0.001287  0.001287        400.0  1000000.0\n",
       "99  0.002000  0.007403  0.001298  0.001298        400.0  1000000.0\n",
       "\n",
       "[100 rows x 6 columns]"
      ]
     },
     "execution_count": 186,
     "metadata": {},
     "output_type": "execute_result"
    }
   ],
   "source": [
    "reactor1.sim_df"
   ]
  },
  {
   "attachments": {},
   "cell_type": "markdown",
   "id": "6a941629",
   "metadata": {},
   "source": [
    "### Ergun pressure balance"
   ]
  },
  {
   "cell_type": "code",
   "execution_count": 187,
   "id": "66863e95",
   "metadata": {},
   "outputs": [],
   "source": [
    "mb = pfr.mass_balances.MolarFlow(\n",
    "    molar_flows_in={\"methane\": 0.01, \"ethane\": 0, \"hydrogen\": 0},\n",
    "    molar_flows_out={}\n",
    ")\n",
    "\n",
    "eb = pfr.energy_balances.Isothermic(400)\n",
    "\n",
    "pb = pfr.pressure_balances.Ergun(\n",
    "    pressure = {\"in\": 1_000_000}, \n",
    "    porosity = 0.005, \n",
    "    particle_diameter = 0.00001)\n",
    "\n",
    "reactor2 = pfr.PFR(\n",
    "    mix = mix,\n",
    "    kinetics = kinetic,\n",
    "    reactor_length = 0.02,\n",
    "    transversal_area = 0.05,\n",
    "    grid_size=100,\n",
    "    mass_balance=mb,\n",
    "    energy_balance=eb,\n",
    "    pressure_balance=pb\n",
    ")"
   ]
  },
  {
   "cell_type": "code",
   "execution_count": 188,
   "id": "1d863fff",
   "metadata": {},
   "outputs": [
    {
     "name": "stdout",
     "output_type": "stream",
     "text": [
      "Mass balance:\n"
     ]
    },
    {
     "data": {
      "text/latex": [
       "$\\displaystyle \\frac{1}{a_t}\\frac{dF_i}{dz}=r_i$"
      ],
      "text/plain": [
       "\\frac{1}{a_t}\\frac{dF_i}{dz}=r_i"
      ]
     },
     "metadata": {},
     "output_type": "display_data"
    },
    {
     "name": "stdout",
     "output_type": "stream",
     "text": [
      "Reactor and refrigerant energy balances:\n"
     ]
    },
    {
     "data": {
      "text/latex": [
       "$\\displaystyle \\frac{dT}{dz}=0$"
      ],
      "text/plain": [
       "\\frac{dT}{dz}=0"
      ]
     },
     "metadata": {},
     "output_type": "display_data"
    },
    {
     "data": {
      "text/latex": [
       "$\\displaystyle \\frac{dT_r}{dz}=0$"
      ],
      "text/plain": [
       "\\frac{dT_r}{dz}=0"
      ]
     },
     "metadata": {},
     "output_type": "display_data"
    },
    {
     "name": "stdout",
     "output_type": "stream",
     "text": [
      "Pressure balance:\n"
     ]
    },
    {
     "data": {
      "text/latex": [
       "$\\displaystyle \\frac{dP}{dz}=-\\frac{G}{{\\rho}D_p}\\left(\\frac{1-\\phi}{\\phi^3}\\right)\\left[\\frac{150(1-\\phi)\\mu}{D_p}+1.75G\\right]$"
      ],
      "text/plain": [
       "\\frac{dP}{dz}=-\\frac{G}{{\\rho}D_p}\\left(\\frac{1-\\phi}{\\phi^3}\\right)\\left[\\frac{150(1-\\phi)\\mu}{D_p}+1.75G\\right]"
      ]
     },
     "metadata": {},
     "output_type": "display_data"
    }
   ],
   "source": [
    "reactor2.irepr"
   ]
  },
  {
   "cell_type": "code",
   "execution_count": 189,
   "id": "b9a0f3b3",
   "metadata": {},
   "outputs": [
    {
     "name": "stdout",
     "output_type": "stream",
     "text": [
      "Solved in 1 iterations, number of nodes 100. \n",
      "Maximum relative residual: 6.58e-04 \n",
      "Maximum boundary residual: 0.00e+00\n"
     ]
    }
   ],
   "source": [
    "reactor2.simulate(tol = 0.001, max_nodes = 1000, verbose = 1)"
   ]
  },
  {
   "cell_type": "code",
   "execution_count": 190,
   "id": "f8b64ede",
   "metadata": {},
   "outputs": [
    {
     "data": {
      "text/html": [
       "<div>\n",
       "<style scoped>\n",
       "    .dataframe tbody tr th:only-of-type {\n",
       "        vertical-align: middle;\n",
       "    }\n",
       "\n",
       "    .dataframe tbody tr th {\n",
       "        vertical-align: top;\n",
       "    }\n",
       "\n",
       "    .dataframe thead th {\n",
       "        text-align: right;\n",
       "    }\n",
       "</style>\n",
       "<table border=\"1\" class=\"dataframe\">\n",
       "  <thead>\n",
       "    <tr style=\"text-align: right;\">\n",
       "      <th></th>\n",
       "      <th>z</th>\n",
       "      <th>methane</th>\n",
       "      <th>ethane</th>\n",
       "      <th>hydrogen</th>\n",
       "      <th>temperature</th>\n",
       "      <th>pressure</th>\n",
       "    </tr>\n",
       "  </thead>\n",
       "  <tbody>\n",
       "    <tr>\n",
       "      <th>0</th>\n",
       "      <td>0.000000</td>\n",
       "      <td>0.010000</td>\n",
       "      <td>0.000000</td>\n",
       "      <td>0.000000</td>\n",
       "      <td>400.0</td>\n",
       "      <td>1000000.000000</td>\n",
       "    </tr>\n",
       "    <tr>\n",
       "      <th>1</th>\n",
       "      <td>0.000020</td>\n",
       "      <td>0.009970</td>\n",
       "      <td>0.000015</td>\n",
       "      <td>0.000015</td>\n",
       "      <td>400.0</td>\n",
       "      <td>997722.285251</td>\n",
       "    </tr>\n",
       "    <tr>\n",
       "      <th>2</th>\n",
       "      <td>0.000040</td>\n",
       "      <td>0.009940</td>\n",
       "      <td>0.000030</td>\n",
       "      <td>0.000030</td>\n",
       "      <td>400.0</td>\n",
       "      <td>995445.538122</td>\n",
       "    </tr>\n",
       "    <tr>\n",
       "      <th>3</th>\n",
       "      <td>0.000061</td>\n",
       "      <td>0.009910</td>\n",
       "      <td>0.000045</td>\n",
       "      <td>0.000045</td>\n",
       "      <td>400.0</td>\n",
       "      <td>993169.754288</td>\n",
       "    </tr>\n",
       "    <tr>\n",
       "      <th>4</th>\n",
       "      <td>0.000081</td>\n",
       "      <td>0.009880</td>\n",
       "      <td>0.000060</td>\n",
       "      <td>0.000060</td>\n",
       "      <td>400.0</td>\n",
       "      <td>990894.929445</td>\n",
       "    </tr>\n",
       "    <tr>\n",
       "      <th>...</th>\n",
       "      <td>...</td>\n",
       "      <td>...</td>\n",
       "      <td>...</td>\n",
       "      <td>...</td>\n",
       "      <td>...</td>\n",
       "      <td>...</td>\n",
       "    </tr>\n",
       "    <tr>\n",
       "      <th>95</th>\n",
       "      <td>0.001919</td>\n",
       "      <td>0.007728</td>\n",
       "      <td>0.001136</td>\n",
       "      <td>0.001136</td>\n",
       "      <td>400.0</td>\n",
       "      <td>787392.114325</td>\n",
       "    </tr>\n",
       "    <tr>\n",
       "      <th>96</th>\n",
       "      <td>0.001939</td>\n",
       "      <td>0.007710</td>\n",
       "      <td>0.001145</td>\n",
       "      <td>0.001145</td>\n",
       "      <td>400.0</td>\n",
       "      <td>785189.274288</td>\n",
       "    </tr>\n",
       "    <tr>\n",
       "      <th>97</th>\n",
       "      <td>0.001960</td>\n",
       "      <td>0.007692</td>\n",
       "      <td>0.001154</td>\n",
       "      <td>0.001154</td>\n",
       "      <td>400.0</td>\n",
       "      <td>782987.061191</td>\n",
       "    </tr>\n",
       "    <tr>\n",
       "      <th>98</th>\n",
       "      <td>0.001980</td>\n",
       "      <td>0.007673</td>\n",
       "      <td>0.001163</td>\n",
       "      <td>0.001163</td>\n",
       "      <td>400.0</td>\n",
       "      <td>780785.472088</td>\n",
       "    </tr>\n",
       "    <tr>\n",
       "      <th>99</th>\n",
       "      <td>0.002000</td>\n",
       "      <td>0.007655</td>\n",
       "      <td>0.001172</td>\n",
       "      <td>0.001172</td>\n",
       "      <td>400.0</td>\n",
       "      <td>778584.504039</td>\n",
       "    </tr>\n",
       "  </tbody>\n",
       "</table>\n",
       "<p>100 rows × 6 columns</p>\n",
       "</div>"
      ],
      "text/plain": [
       "           z   methane    ethane  hydrogen  temperature        pressure\n",
       "0   0.000000  0.010000  0.000000  0.000000        400.0  1000000.000000\n",
       "1   0.000020  0.009970  0.000015  0.000015        400.0   997722.285251\n",
       "2   0.000040  0.009940  0.000030  0.000030        400.0   995445.538122\n",
       "3   0.000061  0.009910  0.000045  0.000045        400.0   993169.754288\n",
       "4   0.000081  0.009880  0.000060  0.000060        400.0   990894.929445\n",
       "..       ...       ...       ...       ...          ...             ...\n",
       "95  0.001919  0.007728  0.001136  0.001136        400.0   787392.114325\n",
       "96  0.001939  0.007710  0.001145  0.001145        400.0   785189.274288\n",
       "97  0.001960  0.007692  0.001154  0.001154        400.0   782987.061191\n",
       "98  0.001980  0.007673  0.001163  0.001163        400.0   780785.472088\n",
       "99  0.002000  0.007655  0.001172  0.001172        400.0   778584.504039\n",
       "\n",
       "[100 rows x 6 columns]"
      ]
     },
     "execution_count": 190,
     "metadata": {},
     "output_type": "execute_result"
    }
   ],
   "source": [
    "reactor2.sim_df"
   ]
  },
  {
   "cell_type": "code",
   "execution_count": 191,
   "id": "c4f68114",
   "metadata": {},
   "outputs": [
    {
     "data": {
      "text/plain": [
       "<matplotlib.legend.Legend at 0x7f19edb866b0>"
      ]
     },
     "execution_count": 191,
     "metadata": {},
     "output_type": "execute_result"
    },
    {
     "data": {
      "image/png": "[encoded data removed]",
      "text/plain": [
       "<Figure size 640x480 with 1 Axes>"
      ]
     },
     "metadata": {},
     "output_type": "display_data"
    }
   ],
   "source": [
    "plt.plot(reactor1.sim_df[\"z\"], reactor1.sim_df[\"methane\"], label=\"isobarico\")\n",
    "plt.plot(reactor2.sim_df[\"z\"], reactor2.sim_df[\"methane\"], label=\"ergun\")\n",
    "\n",
    "plt.legend()"
   ]
  }
 ],
 "metadata": {
  "kernelspec": {
   "display_name": "Python 3 (ipykernel)",
   "language": "python",
   "name": "python3"
  },
  "language_info": {
   "codemirror_mode": {
    "name": "ipython",
    "version": 3
   },
   "file_extension": ".py",
   "mimetype": "text/x-python",
   "name": "python",
   "nbconvert_exporter": "python",
   "pygments_lexer": "ipython3",
   "version": "3.10.6"
  }
 },
 "nbformat": 4,
 "nbformat_minor": 5
}
