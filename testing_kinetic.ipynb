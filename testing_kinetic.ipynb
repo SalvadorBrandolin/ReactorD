{
 "cells": [
  {
   "cell_type": "code",
   "execution_count": 1,
   "id": "742328d7",
   "metadata": {},
   "outputs": [],
   "source": [
    "import reactord as rd\n",
    "import numpy as np\n",
    "\n",
    "\n",
    "mixture = rd.mix.IdealSolution(hexane='hexane', ethanol='ethanol', acetone='acetone')"
   ]
  },
  {
   "cell_type": "code",
   "execution_count": 2,
   "id": "11165a6a",
   "metadata": {},
   "outputs": [],
   "source": [
    "def reaccion1(concentraciones, temperatura):\n",
    "    ra = 10 * concentraciones[0] * concentraciones[1] - 8 * concentraciones[2]\n",
    "    \n",
    "kinetics = rd.Kinetics(mixture, [reaccion1], [-1, -1, 1], 'concentration')"
   ]
  },
  {
   "cell_type": "code",
   "execution_count": 3,
   "id": "a84f5036",
   "metadata": {},
   "outputs": [],
   "source": [
    "moles = np.ones((3, 10))\n",
    "\n",
    "temperature = np.full(10, 300)\n",
    "\n",
    "pressure = np.full(10, 101325)\n"
   ]
  },
  {
   "cell_type": "code",
   "execution_count": 4,
   "id": "b1c44074",
   "metadata": {},
   "outputs": [],
   "source": [
    "mixture.mol_fractions(moles);"
   ]
  },
  {
   "cell_type": "code",
   "execution_count": null,
   "id": "fbc13c67",
   "metadata": {},
   "outputs": [],
   "source": []
  },
  {
   "cell_type": "code",
   "execution_count": 17,
   "id": "66a8d21f",
   "metadata": {},
   "outputs": [],
   "source": [
    "b = mixture.concentrations(moles, temperature, pressure)"
   ]
  },
  {
   "cell_type": "code",
   "execution_count": 21,
   "id": "5fed42a0",
   "metadata": {},
   "outputs": [
    {
     "data": {
      "text/plain": [
       "(3, 10)"
      ]
     },
     "execution_count": 21,
     "metadata": {},
     "output_type": "execute_result"
    }
   ],
   "source": [
    "np.shape(b)"
   ]
  }
 ],
 "metadata": {
  "kernelspec": {
   "display_name": "Python 3.10.6 ('reactord')",
   "language": "python",
   "name": "python3"
  },
  "language_info": {
   "codemirror_mode": {
    "name": "ipython",
    "version": 3
   },
   "file_extension": ".py",
   "mimetype": "text/x-python",
   "name": "python",
   "nbconvert_exporter": "python",
   "pygments_lexer": "ipython3",
   "version": "3.10.6"
  },
  "vscode": {
   "interpreter": {
    "hash": "44eb91f73ea2661bbbecc9f77111c56822635f905b8a2c5d2c14405903be0d49"
   }
  }
 },
 "nbformat": 4,
 "nbformat_minor": 5
}
