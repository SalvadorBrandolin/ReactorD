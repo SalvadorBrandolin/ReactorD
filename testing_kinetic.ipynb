{
 "cells": [
  {
   "cell_type": "code",
   "execution_count": 1,
   "id": "742328d7",
   "metadata": {},
   "outputs": [],
   "source": [
    "import reactord as rd\n",
    "import numpy as np\n",
    "\n",
    "\n",
    "mixture = rd.mix.IdealSolution(hexane='hexane', ethanol='ethanol', acetone='acetone')"
   ]
  },
  {
   "cell_type": "code",
   "execution_count": 2,
   "id": "11165a6a",
   "metadata": {},
   "outputs": [],
   "source": [
    "def reaccion1(concentraciones, temperatura):\n",
    "    ra = 10 * concentraciones[0] * concentraciones[1] - 8 * concentraciones[2]\n",
    "    \n",
    "kinetics = rd.Kinetics(mixture, [reaccion1], [-1, -1, 1], 'concentration')"
   ]
  },
  {
   "cell_type": "code",
   "execution_count": 3,
   "id": "a84f5036",
   "metadata": {},
   "outputs": [],
   "source": [
    "moles = np.ones((3, 10))\n",
    "\n",
    "temperature = np.full(10, 300)\n",
    "\n",
    "pressure = np.full(10, 101325)\n"
   ]
  },
  {
   "cell_type": "code",
   "execution_count": 4,
   "id": "b1c44074",
   "metadata": {},
   "outputs": [
    {
     "data": {
      "text/plain": [
       "array([[0.33333333, 0.33333333, 0.33333333, 0.33333333, 0.33333333,\n",
       "        0.33333333, 0.33333333, 0.33333333, 0.33333333, 0.33333333],\n",
       "       [0.33333333, 0.33333333, 0.33333333, 0.33333333, 0.33333333,\n",
       "        0.33333333, 0.33333333, 0.33333333, 0.33333333, 0.33333333],\n",
       "       [0.33333333, 0.33333333, 0.33333333, 0.33333333, 0.33333333,\n",
       "        0.33333333, 0.33333333, 0.33333333, 0.33333333, 0.33333333]])"
      ]
     },
     "execution_count": 4,
     "metadata": {},
     "output_type": "execute_result"
    }
   ],
   "source": [
    "mixture.mol_fractions(moles)"
   ]
  },
  {
   "cell_type": "code",
   "execution_count": null,
   "id": "fbc13c67",
   "metadata": {},
   "outputs": [],
   "source": []
  },
  {
   "cell_type": "code",
   "execution_count": 5,
   "id": "66a8d21f",
   "metadata": {},
   "outputs": [
    {
     "ename": "ValueError",
     "evalue": "operands could not be broadcast together with shapes (3,10) (3,3) ",
     "output_type": "error",
     "traceback": [
      "\u001b[0;31m---------------------------------------------------------------------------\u001b[0m",
      "\u001b[0;31mValueError\u001b[0m                                Traceback (most recent call last)",
      "Cell \u001b[0;32mIn [5], line 1\u001b[0m\n\u001b[0;32m----> 1\u001b[0m \u001b[43mmixture\u001b[49m\u001b[38;5;241;43m.\u001b[39;49m\u001b[43mconcentrations\u001b[49m\u001b[43m(\u001b[49m\u001b[43mmoles\u001b[49m\u001b[43m,\u001b[49m\u001b[43m \u001b[49m\u001b[43mtemperature\u001b[49m\u001b[43m,\u001b[49m\u001b[43m \u001b[49m\u001b[43mpressure\u001b[49m\u001b[43m)\u001b[49m\n",
      "File \u001b[0;32m~/Desktop/reactord/reactord/mix/ideal_solution.py:66\u001b[0m, in \u001b[0;36mIdealSolution.concentrations\u001b[0;34m(self, moles, temperature, pressure)\u001b[0m\n\u001b[1;32m     58\u001b[0m molar_volumes \u001b[38;5;241m=\u001b[39m np\u001b[38;5;241m.\u001b[39marray(\n\u001b[1;32m     59\u001b[0m     [\n\u001b[1;32m     60\u001b[0m         substance\u001b[38;5;241m.\u001b[39mvolume_liquid(temperature, pressure)\n\u001b[1;32m     61\u001b[0m         \u001b[38;5;28;01mfor\u001b[39;00m substance \u001b[38;5;129;01min\u001b[39;00m \u001b[38;5;28mself\u001b[39m\u001b[38;5;241m.\u001b[39msubstances\n\u001b[1;32m     62\u001b[0m     ]\n\u001b[1;32m     63\u001b[0m )\n\u001b[1;32m     65\u001b[0m total_molar_vol \u001b[38;5;241m=\u001b[39m np\u001b[38;5;241m.\u001b[39mdot(zi, molar_volumes\u001b[38;5;241m.\u001b[39mT)\n\u001b[0;32m---> 66\u001b[0m concentrations \u001b[38;5;241m=\u001b[39m \u001b[43mnp\u001b[49m\u001b[38;5;241;43m.\u001b[39;49m\u001b[43mdivide\u001b[49m\u001b[43m(\u001b[49m\u001b[43mzi\u001b[49m\u001b[43m,\u001b[49m\u001b[43m \u001b[49m\u001b[43mtotal_molar_vol\u001b[49m\u001b[43m)\u001b[49m\n\u001b[1;32m     67\u001b[0m \u001b[38;5;28;01mreturn\u001b[39;00m concentrations\n",
      "\u001b[0;31mValueError\u001b[0m: operands could not be broadcast together with shapes (3,10) (3,3) "
     ]
    }
   ],
   "source": [
    "mixture.concentrations(moles, temperature, pressure)"
   ]
  },
  {
   "cell_type": "code",
   "execution_count": null,
   "id": "5fed42a0",
   "metadata": {},
   "outputs": [],
   "source": []
  }
 ],
 "metadata": {
  "kernelspec": {
   "display_name": "Python 3 (ipykernel)",
   "language": "python",
   "name": "python3"
  },
  "language_info": {
   "codemirror_mode": {
    "name": "ipython",
    "version": 3
   },
   "file_extension": ".py",
   "mimetype": "text/x-python",
   "name": "python",
   "nbconvert_exporter": "python",
   "pygments_lexer": "ipython3",
   "version": "3.10.6"
  }
 },
 "nbformat": 4,
 "nbformat_minor": 5
}
