{
 "cells": [
  {
   "cell_type": "code",
   "execution_count": 91,
   "metadata": {},
   "outputs": [],
   "source": [
    "import sympy as sp\n",
    "\n",
    "import numpy as np"
   ]
  },
  {
   "cell_type": "code",
   "execution_count": 252,
   "metadata": {},
   "outputs": [],
   "source": [
    "class sym:\n",
    "    def __init__(\n",
    "        self,\n",
    "        names,\n",
    "        symbols_list=None,\n",
    "        expression=None,\n",
    "        chem_expression=None,\n",
    "    ) -> None:\n",
    "        # =====================================================================\n",
    "        # Name storing\n",
    "        # =====================================================================\n",
    "        if isinstance(names, str):\n",
    "            self.names = np.array([names])\n",
    "        elif isinstance(names, np.ndarray):\n",
    "            self.names = names\n",
    "        else:\n",
    "            raise TypeError\n",
    "\n",
    "        # =====================================================================\n",
    "        # Expression\n",
    "        # =====================================================================\n",
    "        if expression is None:\n",
    "            self.expression = sp.symbols(names)\n",
    "        else:\n",
    "            self.expression = expression\n",
    "\n",
    "        # =====================================================================\n",
    "        # Chem expression\n",
    "        # =====================================================================\n",
    "        if chem_expression is None:\n",
    "            self.chem_expression = self.expression\n",
    "        else:\n",
    "            self.chem_expression = chem_expression\n",
    "\n",
    "        # =====================================================================\n",
    "        # Symbols list\n",
    "        # =====================================================================\n",
    "        if symbols_list is None:\n",
    "            self.symbols_list = np.array([self.expression])\n",
    "        else:\n",
    "            self.symbols_list = symbols_list\n",
    "\n",
    "    def __rmul__(self, coeff: float):\n",
    "        new_sym = sym(\n",
    "            names=self.names,\n",
    "            symbols_list=self.symbols_list,\n",
    "            expression=coeff * self.expression,\n",
    "        )\n",
    "        return new_sym\n",
    "\n",
    "    def __mul__(self, coeff: float):\n",
    "        return self.__rmul__(coeff)\n",
    "\n",
    "    def __add__(self, other_sym: \"sym\"):\n",
    "        new_sym = sym(\n",
    "            names=np.append(self.names, other_sym.names),\n",
    "            symbols_list=np.append(self.symbols_list, other_sym.symbols_list),\n",
    "            expression=self.expression + other_sym.expression,\n",
    "        )\n",
    "        return new_sym\n",
    "\n",
    "    def __gt__(self, other_sym: \"sym\"):\n",
    "        names = np.append(self.names, other_sym.names)\n",
    "        symbols_list = np.append(self.symbols_list, other_sym.symbols_list)\n",
    "        expression = other_sym.expression - self.expression\n",
    "\n",
    "        exp1 = str(self.expression).replace(\" \", \"\").replace(\"*\", \"\")\n",
    "        exp2 = str(other_sym.expression).replace(\" \", \"\").replace(\"*\", \"\")\n",
    "        chem_expression = sp.symbols(rf\"{exp1}{{\\rightarrow}}{exp2}\")\n",
    "\n",
    "        new_sym = sym(\n",
    "            names=names,\n",
    "            symbols_list=symbols_list,\n",
    "            expression=expression,\n",
    "            chem_expression=chem_expression,\n",
    "        )\n",
    "        return new_sym\n",
    "\n",
    "    def __eq__(self, other_sym: \"sym\"):\n",
    "        names = np.append(self.names, other_sym.names)\n",
    "        symbols_list = np.append(self.symbols_list, other_sym.symbols_list)\n",
    "        expression = other_sym.expression - self.expression\n",
    "\n",
    "        exp1 = str(self.expression).replace(\" \", \"\").replace(\"*\", \"\")\n",
    "        exp2 = str(other_sym.expression).replace(\" \", \"\").replace(\"*\", \"\")\n",
    "        chem_expression = sp.symbols(rf\"{exp1}{{\\leftrightarrow}}{exp2}\")\n",
    "\n",
    "        new_sym = sym(\n",
    "            names=names,\n",
    "            symbols_list=symbols_list,\n",
    "            expression=expression,\n",
    "            chem_expression=chem_expression,\n",
    "        )\n",
    "        return new_sym"
   ]
  },
  {
   "cell_type": "code",
   "execution_count": 180,
   "metadata": {},
   "outputs": [
    {
     "data": {
      "text/plain": [
       "'a + b'"
      ]
     },
     "execution_count": 180,
     "metadata": {},
     "output_type": "execute_result"
    }
   ],
   "source": [
    "a, b = sp.symbols(\"a b\")\n",
    "\n",
    "str(a + b)"
   ]
  },
  {
   "cell_type": "code",
   "execution_count": 253,
   "metadata": {},
   "outputs": [
    {
     "data": {
      "text/latex": [
       "$\\displaystyle ethane+hydrogen{\\leftrightarrow}2methane$"
      ],
      "text/plain": [
       "ethane+hydrogen{\\leftrightarrow}2methane"
      ]
     },
     "execution_count": 253,
     "metadata": {},
     "output_type": "execute_result"
    }
   ],
   "source": [
    "a = sym(\"ethane\")\n",
    "b = sym(\"hydrogen\")\n",
    "c = sym(\"methane\")\n",
    "\n",
    "expr = a + b == 2 * c\n",
    "\n",
    "expr.chem_expression"
   ]
  }
 ],
 "metadata": {
  "kernelspec": {
   "display_name": "reactord",
   "language": "python",
   "name": "python3"
  },
  "language_info": {
   "codemirror_mode": {
    "name": "ipython",
    "version": 3
   },
   "file_extension": ".py",
   "mimetype": "text/x-python",
   "name": "python",
   "nbconvert_exporter": "python",
   "pygments_lexer": "ipython3",
   "version": "3.10.6"
  },
  "orig_nbformat": 4
 },
 "nbformat": 4,
 "nbformat_minor": 2
}
